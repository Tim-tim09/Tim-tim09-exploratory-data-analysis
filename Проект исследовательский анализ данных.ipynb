{
 "cells": [
  {
   "cell_type": "markdown",
   "metadata": {
    "id": "-VFbjcb3Awb7"
   },
   "source": [
    "# Исследование объявлений о продаже квартир\n",
    "\n",
    "В вашем распоряжении данные сервиса Яндекс Недвижимость — архив объявлений о продаже квартир в Санкт-Петербурге и соседних населённых пунктах за несколько лет. Вам нужно научиться определять рыночную стоимость объектов недвижимости. Для этого проведите исследовательский анализ данных и установите параметры, влияющие на цену объектов. Это позволит построить автоматизированную систему: она отследит аномалии и мошенническую деятельность.\n",
    "\n",
    "По каждой квартире на продажу доступны два вида данных. Первые вписаны пользователем, вторые — получены автоматически на основе картографических данных. Например, расстояние до центра, аэропорта и других объектов — эти данные автоматически получены из геосервисов. Количество парков и водоёмов также заполняется без участия пользователя."
   ]
  },
  {
   "cell_type": "markdown",
   "metadata": {
    "id": "aeFLH07FAwb9"
   },
   "source": [
    "### Откройте файл с данными и изучите общую информацию"
   ]
  },
  {
   "cell_type": "code",
   "execution_count": 1,
   "metadata": {},
   "outputs": [],
   "source": [
    "import pandas as pd\n",
    "import matplotlib.pyplot as plt"
   ]
  },
  {
   "cell_type": "code",
   "execution_count": 2,
   "metadata": {
    "id": "7MZxY65pAwb9",
    "scrolled": true
   },
   "outputs": [
    {
     "name": "stdout",
     "output_type": "stream",
     "text": [
      "<class 'pandas.core.frame.DataFrame'>\n",
      "RangeIndex: 23699 entries, 0 to 23698\n",
      "Data columns (total 22 columns):\n",
      " #   Column                Non-Null Count  Dtype  \n",
      "---  ------                --------------  -----  \n",
      " 0   total_images          23699 non-null  int64  \n",
      " 1   last_price            23699 non-null  float64\n",
      " 2   total_area            23699 non-null  float64\n",
      " 3   first_day_exposition  23699 non-null  object \n",
      " 4   rooms                 23699 non-null  int64  \n",
      " 5   ceiling_height        14504 non-null  float64\n",
      " 6   floors_total          23613 non-null  float64\n",
      " 7   living_area           21796 non-null  float64\n",
      " 8   floor                 23699 non-null  int64  \n",
      " 9   is_apartment          2775 non-null   object \n",
      " 10  studio                23699 non-null  bool   \n",
      " 11  open_plan             23699 non-null  bool   \n",
      " 12  kitchen_area          21421 non-null  float64\n",
      " 13  balcony               12180 non-null  float64\n",
      " 14  locality_name         23650 non-null  object \n",
      " 15  airports_nearest      18157 non-null  float64\n",
      " 16  cityCenters_nearest   18180 non-null  float64\n",
      " 17  parks_around3000      18181 non-null  float64\n",
      " 18  parks_nearest         8079 non-null   float64\n",
      " 19  ponds_around3000      18181 non-null  float64\n",
      " 20  ponds_nearest         9110 non-null   float64\n",
      " 21  days_exposition       20518 non-null  float64\n",
      "dtypes: bool(2), float64(14), int64(3), object(3)\n",
      "memory usage: 3.7+ MB\n"
     ]
    },
    {
     "data": {
      "text/html": [
       "<div>\n",
       "<style scoped>\n",
       "    .dataframe tbody tr th:only-of-type {\n",
       "        vertical-align: middle;\n",
       "    }\n",
       "\n",
       "    .dataframe tbody tr th {\n",
       "        vertical-align: top;\n",
       "    }\n",
       "\n",
       "    .dataframe thead th {\n",
       "        text-align: right;\n",
       "    }\n",
       "</style>\n",
       "<table border=\"1\" class=\"dataframe\">\n",
       "  <thead>\n",
       "    <tr style=\"text-align: right;\">\n",
       "      <th></th>\n",
       "      <th>total_images</th>\n",
       "      <th>last_price</th>\n",
       "      <th>total_area</th>\n",
       "      <th>rooms</th>\n",
       "      <th>ceiling_height</th>\n",
       "      <th>floors_total</th>\n",
       "      <th>living_area</th>\n",
       "      <th>floor</th>\n",
       "      <th>kitchen_area</th>\n",
       "      <th>balcony</th>\n",
       "      <th>airports_nearest</th>\n",
       "      <th>cityCenters_nearest</th>\n",
       "      <th>parks_around3000</th>\n",
       "      <th>parks_nearest</th>\n",
       "      <th>ponds_around3000</th>\n",
       "      <th>ponds_nearest</th>\n",
       "      <th>days_exposition</th>\n",
       "    </tr>\n",
       "  </thead>\n",
       "  <tbody>\n",
       "    <tr>\n",
       "      <th>count</th>\n",
       "      <td>23699.000000</td>\n",
       "      <td>2.369900e+04</td>\n",
       "      <td>23699.000000</td>\n",
       "      <td>23699.000000</td>\n",
       "      <td>14504.000000</td>\n",
       "      <td>23613.000000</td>\n",
       "      <td>21796.000000</td>\n",
       "      <td>23699.000000</td>\n",
       "      <td>21421.000000</td>\n",
       "      <td>12180.000000</td>\n",
       "      <td>18157.000000</td>\n",
       "      <td>18180.000000</td>\n",
       "      <td>18181.000000</td>\n",
       "      <td>8079.000000</td>\n",
       "      <td>18181.000000</td>\n",
       "      <td>9110.000000</td>\n",
       "      <td>20518.000000</td>\n",
       "    </tr>\n",
       "    <tr>\n",
       "      <th>mean</th>\n",
       "      <td>9.858475</td>\n",
       "      <td>6.541549e+06</td>\n",
       "      <td>60.348651</td>\n",
       "      <td>2.070636</td>\n",
       "      <td>2.771499</td>\n",
       "      <td>10.673824</td>\n",
       "      <td>34.457852</td>\n",
       "      <td>5.892358</td>\n",
       "      <td>10.569807</td>\n",
       "      <td>1.150082</td>\n",
       "      <td>28793.672193</td>\n",
       "      <td>14191.277833</td>\n",
       "      <td>0.611408</td>\n",
       "      <td>490.804555</td>\n",
       "      <td>0.770255</td>\n",
       "      <td>517.980900</td>\n",
       "      <td>180.888634</td>\n",
       "    </tr>\n",
       "    <tr>\n",
       "      <th>std</th>\n",
       "      <td>5.682529</td>\n",
       "      <td>1.088701e+07</td>\n",
       "      <td>35.654083</td>\n",
       "      <td>1.078405</td>\n",
       "      <td>1.261056</td>\n",
       "      <td>6.597173</td>\n",
       "      <td>22.030445</td>\n",
       "      <td>4.885249</td>\n",
       "      <td>5.905438</td>\n",
       "      <td>1.071300</td>\n",
       "      <td>12630.880622</td>\n",
       "      <td>8608.386210</td>\n",
       "      <td>0.802074</td>\n",
       "      <td>342.317995</td>\n",
       "      <td>0.938346</td>\n",
       "      <td>277.720643</td>\n",
       "      <td>219.727988</td>\n",
       "    </tr>\n",
       "    <tr>\n",
       "      <th>min</th>\n",
       "      <td>0.000000</td>\n",
       "      <td>1.219000e+04</td>\n",
       "      <td>12.000000</td>\n",
       "      <td>0.000000</td>\n",
       "      <td>1.000000</td>\n",
       "      <td>1.000000</td>\n",
       "      <td>2.000000</td>\n",
       "      <td>1.000000</td>\n",
       "      <td>1.300000</td>\n",
       "      <td>0.000000</td>\n",
       "      <td>0.000000</td>\n",
       "      <td>181.000000</td>\n",
       "      <td>0.000000</td>\n",
       "      <td>1.000000</td>\n",
       "      <td>0.000000</td>\n",
       "      <td>13.000000</td>\n",
       "      <td>1.000000</td>\n",
       "    </tr>\n",
       "    <tr>\n",
       "      <th>25%</th>\n",
       "      <td>6.000000</td>\n",
       "      <td>3.400000e+06</td>\n",
       "      <td>40.000000</td>\n",
       "      <td>1.000000</td>\n",
       "      <td>2.520000</td>\n",
       "      <td>5.000000</td>\n",
       "      <td>18.600000</td>\n",
       "      <td>2.000000</td>\n",
       "      <td>7.000000</td>\n",
       "      <td>0.000000</td>\n",
       "      <td>18585.000000</td>\n",
       "      <td>9238.000000</td>\n",
       "      <td>0.000000</td>\n",
       "      <td>288.000000</td>\n",
       "      <td>0.000000</td>\n",
       "      <td>294.000000</td>\n",
       "      <td>45.000000</td>\n",
       "    </tr>\n",
       "    <tr>\n",
       "      <th>50%</th>\n",
       "      <td>9.000000</td>\n",
       "      <td>4.650000e+06</td>\n",
       "      <td>52.000000</td>\n",
       "      <td>2.000000</td>\n",
       "      <td>2.650000</td>\n",
       "      <td>9.000000</td>\n",
       "      <td>30.000000</td>\n",
       "      <td>4.000000</td>\n",
       "      <td>9.100000</td>\n",
       "      <td>1.000000</td>\n",
       "      <td>26726.000000</td>\n",
       "      <td>13098.500000</td>\n",
       "      <td>0.000000</td>\n",
       "      <td>455.000000</td>\n",
       "      <td>1.000000</td>\n",
       "      <td>502.000000</td>\n",
       "      <td>95.000000</td>\n",
       "    </tr>\n",
       "    <tr>\n",
       "      <th>75%</th>\n",
       "      <td>14.000000</td>\n",
       "      <td>6.800000e+06</td>\n",
       "      <td>69.900000</td>\n",
       "      <td>3.000000</td>\n",
       "      <td>2.800000</td>\n",
       "      <td>16.000000</td>\n",
       "      <td>42.300000</td>\n",
       "      <td>8.000000</td>\n",
       "      <td>12.000000</td>\n",
       "      <td>2.000000</td>\n",
       "      <td>37273.000000</td>\n",
       "      <td>16293.000000</td>\n",
       "      <td>1.000000</td>\n",
       "      <td>612.000000</td>\n",
       "      <td>1.000000</td>\n",
       "      <td>729.000000</td>\n",
       "      <td>232.000000</td>\n",
       "    </tr>\n",
       "    <tr>\n",
       "      <th>max</th>\n",
       "      <td>50.000000</td>\n",
       "      <td>7.630000e+08</td>\n",
       "      <td>900.000000</td>\n",
       "      <td>19.000000</td>\n",
       "      <td>100.000000</td>\n",
       "      <td>60.000000</td>\n",
       "      <td>409.700000</td>\n",
       "      <td>33.000000</td>\n",
       "      <td>112.000000</td>\n",
       "      <td>5.000000</td>\n",
       "      <td>84869.000000</td>\n",
       "      <td>65968.000000</td>\n",
       "      <td>3.000000</td>\n",
       "      <td>3190.000000</td>\n",
       "      <td>3.000000</td>\n",
       "      <td>1344.000000</td>\n",
       "      <td>1580.000000</td>\n",
       "    </tr>\n",
       "  </tbody>\n",
       "</table>\n",
       "</div>"
      ],
      "text/plain": [
       "       total_images    last_price    total_area         rooms  ceiling_height  \\\n",
       "count  23699.000000  2.369900e+04  23699.000000  23699.000000    14504.000000   \n",
       "mean       9.858475  6.541549e+06     60.348651      2.070636        2.771499   \n",
       "std        5.682529  1.088701e+07     35.654083      1.078405        1.261056   \n",
       "min        0.000000  1.219000e+04     12.000000      0.000000        1.000000   \n",
       "25%        6.000000  3.400000e+06     40.000000      1.000000        2.520000   \n",
       "50%        9.000000  4.650000e+06     52.000000      2.000000        2.650000   \n",
       "75%       14.000000  6.800000e+06     69.900000      3.000000        2.800000   \n",
       "max       50.000000  7.630000e+08    900.000000     19.000000      100.000000   \n",
       "\n",
       "       floors_total   living_area         floor  kitchen_area       balcony  \\\n",
       "count  23613.000000  21796.000000  23699.000000  21421.000000  12180.000000   \n",
       "mean      10.673824     34.457852      5.892358     10.569807      1.150082   \n",
       "std        6.597173     22.030445      4.885249      5.905438      1.071300   \n",
       "min        1.000000      2.000000      1.000000      1.300000      0.000000   \n",
       "25%        5.000000     18.600000      2.000000      7.000000      0.000000   \n",
       "50%        9.000000     30.000000      4.000000      9.100000      1.000000   \n",
       "75%       16.000000     42.300000      8.000000     12.000000      2.000000   \n",
       "max       60.000000    409.700000     33.000000    112.000000      5.000000   \n",
       "\n",
       "       airports_nearest  cityCenters_nearest  parks_around3000  parks_nearest  \\\n",
       "count      18157.000000         18180.000000      18181.000000    8079.000000   \n",
       "mean       28793.672193         14191.277833          0.611408     490.804555   \n",
       "std        12630.880622          8608.386210          0.802074     342.317995   \n",
       "min            0.000000           181.000000          0.000000       1.000000   \n",
       "25%        18585.000000          9238.000000          0.000000     288.000000   \n",
       "50%        26726.000000         13098.500000          0.000000     455.000000   \n",
       "75%        37273.000000         16293.000000          1.000000     612.000000   \n",
       "max        84869.000000         65968.000000          3.000000    3190.000000   \n",
       "\n",
       "       ponds_around3000  ponds_nearest  days_exposition  \n",
       "count      18181.000000    9110.000000     20518.000000  \n",
       "mean           0.770255     517.980900       180.888634  \n",
       "std            0.938346     277.720643       219.727988  \n",
       "min            0.000000      13.000000         1.000000  \n",
       "25%            0.000000     294.000000        45.000000  \n",
       "50%            1.000000     502.000000        95.000000  \n",
       "75%            1.000000     729.000000       232.000000  \n",
       "max            3.000000    1344.000000      1580.000000  "
      ]
     },
     "metadata": {},
     "output_type": "display_data"
    }
   ],
   "source": [
    "data = pd.read_csv(\"https://code.s3.yandex.net/datasets/real_estate_data.csv\", sep='\\t')\n",
    "data.info()\n",
    "display(data.describe())"
   ]
  },
  {
   "cell_type": "markdown",
   "metadata": {
    "id": "-O5NtivEAwb9"
   },
   "source": [
    "### Выполните предобработку данных"
   ]
  },
  {
   "cell_type": "code",
   "execution_count": 4,
   "metadata": {
    "id": "7v3vAeTuAwb-"
   },
   "outputs": [
    {
     "data": {
      "text/plain": [
       "total_images                0\n",
       "last_price                  0\n",
       "total_area                  0\n",
       "first_day_exposition        0\n",
       "rooms                       0\n",
       "ceiling_height           9195\n",
       "floors_total               86\n",
       "living_area              1903\n",
       "floor                       0\n",
       "is_apartment            20924\n",
       "studio                      0\n",
       "open_plan                   0\n",
       "kitchen_area             2278\n",
       "balcony                 11519\n",
       "locality_name              49\n",
       "airports_nearest         5542\n",
       "cityCenters_nearest      5519\n",
       "parks_around3000         5518\n",
       "parks_nearest           15620\n",
       "ponds_around3000         5518\n",
       "ponds_nearest           14589\n",
       "days_exposition          3181\n",
       "dtype: int64"
      ]
     },
     "execution_count": 4,
     "metadata": {},
     "output_type": "execute_result"
    }
   ],
   "source": [
    "data.isna().sum()"
   ]
  },
  {
   "cell_type": "code",
   "execution_count": 5,
   "metadata": {},
   "outputs": [],
   "source": [
    "# check\n",
    "# пропущенные значения бары\n",
    "\n",
    "def pass_value_barh(dfg):\n",
    "    try:\n",
    "        (\n",
    "            (dfg.isna().mean()*100)\n",
    "            .to_frame()\n",
    "            .rename(columns = {0:'space'})\n",
    "            .query('space > 0')\n",
    "            .sort_values(by = 'space', ascending = True)\n",
    "            .plot(kind = 'barh', figsize = (19,6), rot = -5, legend = False, fontsize = 16)\n",
    "            .set_title('Пример' + \"\\n\", fontsize = 22, color = 'SteelBlue')    \n",
    "        );    \n",
    "    except:\n",
    "        print('пропусков не осталось :) или произошла ошибка в первой части функции ')"
   ]
  },
  {
   "cell_type": "code",
   "execution_count": 6,
   "metadata": {},
   "outputs": [
    {
     "data": {
      "image/png": "[encoded data removed]",
      "text/plain": [
       "<Figure size 1368x432 with 1 Axes>"
      ]
     },
     "metadata": {
      "needs_background": "light"
     },
     "output_type": "display_data"
    }
   ],
   "source": [
    "pass_value_barh(data)"
   ]
  },
  {
   "cell_type": "code",
   "execution_count": 7,
   "metadata": {
    "scrolled": true
   },
   "outputs": [],
   "source": [
    "for val in data[['balcony', 'parks_around3000', 'ponds_around3000']]:\n",
    "    data[val] = pd.to_numeric(data[val], errors='coerce').round().fillna(0).astype('Int64')\n",
    "for temp in data[['floors_total', 'last_price', 'airports_nearest', 'days_exposition']]:\n",
    "    data[temp] = pd.to_numeric(data[temp], errors='coerce').round().astype('Int64')\n",
    "data['locality_name'] = (data['locality_name'].str.strip().str.lower()\n",
    "                         .str.replace('ё', 'е', regex=True)\n",
    "                         .str.replace('городской поселок', 'поселок', regex=True)\n",
    "                         .str.replace('поселок городского типа', 'поселок', regex=True)\n",
    "                         .str.replace('поселок', 'село', regex=True)\n",
    "                         .str.replace('ж/д_станция', 'жд станция', regex=True)\n",
    "                         .str.replace('ж/д станция', 'жд станция', regex=True)\n",
    "                         .str.replace('садоводство', 'садовое товарищество', regex=True))"
   ]
  },
  {
   "cell_type": "markdown",
   "metadata": {},
   "source": [
    "Итак, данные в столбцах: balcony, parks_around, ponds_around, были изменены тип данных(с float64 на int64) и пустые значения заполнены значеним 0. Тип данных изменён с вещественного на целочисленный, по причине того что все эти параметры могут исчисляться только в целом виде(кол-во балконов, кол-во парков в округе, кол-во водоёмов в округе)\n",
    "Данные в столбцах: floors_total, last_price, days_exposition, airports_nearest, были изменены тип данных(с float64 на int64). Тип данных был измененён по той же причине, что и ранее, параметры исчисляются только в целом виде(кол-во этажей, цена, кол-во аэропотров, кол-во дней на доске объявлений).\n",
    "```\n",
    "Были пропущены значения в таких столбца как:\n",
    "Столбец                 Кол-во пропусков\n",
    "ceiling_height           9195\n",
    "floors_total               86\n",
    "living_area              1903\n",
    "is_apartment            20924\n",
    "kitchen_area             2278\n",
    "balcony                 11519\n",
    "locality_name              49\n",
    "airports_nearest         5542\n",
    "cityCenters_nearest      5519\n",
    "parks_around3000         5518\n",
    "parks_nearest           15620\n",
    "ponds_around3000         5518\n",
    "ponds_nearest           14589\n",
    "days_exposition          3181\n",
    "```\n",
    "Причинами пропусков в данных могут быть: Продавец не указал пункт(балконы, парки в округи, водоёмы в округе), по причине их отсутствия, данные могли быть просто утеряны, также, значение может быть неприменимо к определённому объекту(в частном доме не может быть этаж в многоэтажке, также пропуски могли возникнуть при сборе данных.\n",
    "Также таблица была отчищена от неявных дубликатов, все слова были приведены к нижнему регистру, все лишние пробелы удалены, все буквы ё были заменены на е, синонимы слова село на село, ж/д стенция и ж/д_станция на жд станция, а садоводство на садовое товарищество."
   ]
  },
  {
   "cell_type": "code",
   "execution_count": 8,
   "metadata": {},
   "outputs": [
    {
     "data": {
      "text/plain": [
       "321"
      ]
     },
     "execution_count": 8,
     "metadata": {},
     "output_type": "execute_result"
    }
   ],
   "source": [
    "# check\n",
    "data.locality_name.nunique()"
   ]
  },
  {
   "cell_type": "markdown",
   "metadata": {
    "id": "QCcvyY6YAwb-"
   },
   "source": [
    "### Добавьте в таблицу новые столбцы"
   ]
  },
  {
   "cell_type": "code",
   "execution_count": 9,
   "metadata": {},
   "outputs": [],
   "source": [
    "def type_floor(row):\n",
    "    if pd.isna(row['floor']) or pd.isna(row['floors_total']):\n",
    "        return 'неизвестно'\n",
    "    if row['floor']<=0 or row['floors_total']<=0:\n",
    "        return 'неизвестно'\n",
    "    elif row['floor']==1:\n",
    "        return 'первый'\n",
    "    elif row['floor']==row['floors_total']:\n",
    "        return 'последний'\n",
    "    else:\n",
    "        return 'другой'"
   ]
  },
  {
   "cell_type": "code",
   "execution_count": 10,
   "metadata": {
    "id": "Z8eJek3IAwb-"
   },
   "outputs": [
    {
     "data": {
      "text/plain": [
       "другой        17363\n",
       "последний      3336\n",
       "первый         2914\n",
       "неизвестно       86\n",
       "Name: floor_type, dtype: int64"
      ]
     },
     "execution_count": 10,
     "metadata": {},
     "output_type": "execute_result"
    }
   ],
   "source": [
    "data['price_per_m'] = (data['last_price'].astype(float)/data['total_area'].astype(float)).round(2)# Вычисление цены квадратного метра\n",
    "data['first_day_exposition'] = pd.to_datetime(data['first_day_exposition'])\n",
    "data['first_exposition_weekday'] = data['first_day_exposition'].dt.weekday #День недели размещения объявления\n",
    "data['first_exposition_month'] = data['first_day_exposition'].dt.month #Месяц размещения обявления\n",
    "data['first_exposition_year'] = data['first_day_exposition'].dt.year #год размещения объявления\n",
    "data['floor_type'] = data.apply(type_floor, axis=1)\n",
    "data['cityCenters_nearest_km'] = (data['cityCenters_nearest'].astype(float)/1000).round().astype('Int64')\n",
    "data['floor_type'].value_counts()"
   ]
  },
  {
   "cell_type": "markdown",
   "metadata": {},
   "source": [
    "Дата публикации объявления была разбита на 3 столбца: день недели публикации, месяц публикации и год публикации.\n",
    "Был добавлен новый столбец price_per_m, в котором отображается цена одного квадратного метра для каждого объекта.\n",
    "Добавлен столбец type_floor, в котором показан тип этажа(первый, последний, другой и неизвестно-при отсутствии сведений об общем кол-ве этажей или этаже самого объекта)\n",
    "Также еденица измерения в столбце cityCenters_nearest, была изменена с метров на километры и округлена к целому числу, также был изменен типа данных с float на int64."
   ]
  },
  {
   "cell_type": "markdown",
   "metadata": {
    "id": "pPyxrKWTAwb-"
   },
   "source": [
    "### Проведите исследовательский анализ данных"
   ]
  },
  {
   "cell_type": "markdown",
   "metadata": {},
   "source": [
    "# 4.1"
   ]
  },
  {
   "cell_type": "code",
   "execution_count": 14,
   "metadata": {},
   "outputs": [],
   "source": [
    "df_clean = data.copy()"
   ]
  },
  {
   "cell_type": "code",
   "execution_count": 15,
   "metadata": {},
   "outputs": [
    {
     "name": "stdout",
     "output_type": "stream",
     "text": [
      "<class 'pandas.core.frame.DataFrame'>\n",
      "RangeIndex: 23699 entries, 0 to 23698\n",
      "Data columns (total 28 columns):\n",
      " #   Column                    Non-Null Count  Dtype         \n",
      "---  ------                    --------------  -----         \n",
      " 0   total_images              23699 non-null  int64         \n",
      " 1   last_price                23699 non-null  Int64         \n",
      " 2   total_area                23699 non-null  float64       \n",
      " 3   first_day_exposition      23699 non-null  datetime64[ns]\n",
      " 4   rooms                     23699 non-null  int64         \n",
      " 5   ceiling_height            14504 non-null  float64       \n",
      " 6   floors_total              23613 non-null  Int64         \n",
      " 7   living_area               21796 non-null  float64       \n",
      " 8   floor                     23699 non-null  int64         \n",
      " 9   is_apartment              2775 non-null   object        \n",
      " 10  studio                    23699 non-null  bool          \n",
      " 11  open_plan                 23699 non-null  bool          \n",
      " 12  kitchen_area              21421 non-null  float64       \n",
      " 13  balcony                   23699 non-null  Int64         \n",
      " 14  locality_name             23650 non-null  object        \n",
      " 15  airports_nearest          18157 non-null  Int64         \n",
      " 16  cityCenters_nearest       18180 non-null  float64       \n",
      " 17  parks_around3000          23699 non-null  Int64         \n",
      " 18  parks_nearest             8079 non-null   float64       \n",
      " 19  ponds_around3000          23699 non-null  Int64         \n",
      " 20  ponds_nearest             9110 non-null   float64       \n",
      " 21  days_exposition           20518 non-null  Int64         \n",
      " 22  price_per_m               23699 non-null  float64       \n",
      " 23  first_exposition_weekday  23699 non-null  int64         \n",
      " 24  first_exposition_month    23699 non-null  int64         \n",
      " 25  first_exposition_year     23699 non-null  int64         \n",
      " 26  floor_type                23699 non-null  object        \n",
      " 27  cityCenters_nearest_km    18180 non-null  Int64         \n",
      "dtypes: Int64(8), bool(2), datetime64[ns](1), float64(8), int64(6), object(3)\n",
      "memory usage: 4.9+ MB\n"
     ]
    }
   ],
   "source": [
    "data.info()"
   ]
  },
  {
   "cell_type": "code",
   "execution_count": 16,
   "metadata": {},
   "outputs": [],
   "source": [
    "def fix_ceiling(x):\n",
    "    if x > 20 and x < 40:\n",
    "        return x / 10\n",
    "    return x"
   ]
  },
  {
   "cell_type": "code",
   "execution_count": 17,
   "metadata": {},
   "outputs": [],
   "source": [
    "# Общая площадь\n",
    "df_clean = df_clean[(df_clean['total_area'] >= 10) & (df_clean['total_area'] <= 400)].copy()\n",
    "\n",
    "# Жилая площадь\n",
    "mask_living = (df_clean['living_area'] >= 5) & (df_clean['living_area'] <= df_clean['total_area'])\n",
    "df_clean = df_clean[mask_living | df_clean['living_area'].isna()].copy()\n",
    "\n",
    "# Площадь кухни\n",
    "mask_kitchen = (df_clean['kitchen_area'] >= 2) & (df_clean['kitchen_area'] <= 50)\n",
    "df_clean = df_clean[mask_kitchen | df_clean['kitchen_area'].isna()].copy()\n",
    "\n",
    "# Цена\n",
    "df_clean = df_clean[(df_clean['last_price'] >= 1e5) & (df_clean['last_price'] <= 1e8)].copy()\n",
    "\n",
    "# Количество комнат\n",
    "mask_rooms = (df_clean['rooms'] >= 0) & (df_clean['rooms'] <= 10)\n",
    "df_clean = df_clean[mask_rooms | df_clean['rooms'].isna()].copy()\n",
    "\n",
    "# Потолки\n",
    "df_clean['ceiling_height'] = df_clean['ceiling_height'].apply(fix_ceiling)\n",
    "mask_ceiling = (df_clean['ceiling_height'] >= 2.3) & (df_clean['ceiling_height'] <= 4)\n",
    "df_clean = df_clean[mask_ceiling | df_clean['ceiling_height'].isna()].copy()\n",
    "\n",
    "# Этажность дома\n",
    "mask_floors = (df_clean['floors_total'] >= 1) & (df_clean['floors_total'] <= 50)\n",
    "df_clean = df_clean[mask_floors | df_clean['floors_total'].isna()].copy()\n",
    "\n",
    "# Расстояние до центра\n",
    "mask_center = df_clean['cityCenters_nearest'] <= 50000\n",
    "df_clean = df_clean[mask_center | df_clean['cityCenters_nearest'].isna()].copy()\n",
    "\n",
    "# Расстояние до парка\n",
    "mask_park = df_clean['parks_nearest'] <= 5000\n",
    "df_clean = df_clean[mask_park | df_clean['parks_nearest'].isna()].copy()\n",
    "\n",
    "# Признак типа этажа\n",
    "df_clean['floor_type'] = df_clean.apply(type_floor, axis=1)"
   ]
  },
  {
   "cell_type": "markdown",
   "metadata": {},
   "source": [
    "### Общая площадь (кв.м.)"
   ]
  },
  {
   "cell_type": "code",
   "execution_count": 20,
   "metadata": {},
   "outputs": [
    {
     "data": {
      "image/png": "[encoded data removed]",
      "text/plain": [
       "<Figure size 720x288 with 1 Axes>"
      ]
     },
     "metadata": {
      "needs_background": "light"
     },
     "output_type": "display_data"
    }
   ],
   "source": [
    "plt.figure(figsize=(10, 4))\n",
    "plt.hist(df_clean['total_area'], bins=30, edgecolor='black')\n",
    "plt.title(\"Общая площадь (кв.м.)\", fontsize=14)\n",
    "plt.xlabel(\"Общая площадь (кв.м.)\")\n",
    "plt.ylabel(\"Количество объявлений\")\n",
    "plt.grid(True)\n",
    "plt.tight_layout()\n",
    "plt.show()\n"
   ]
  },
  {
   "cell_type": "markdown",
   "metadata": {},
   "source": [
    "**Вывод:** Большинство квартир имеют площадь от 30 до 60 кв.м. Это наиболее типичный размер квартир."
   ]
  },
  {
   "cell_type": "markdown",
   "metadata": {},
   "source": [
    "### Жилая площадь (кв.м.)"
   ]
  },
  {
   "cell_type": "code",
   "execution_count": 21,
   "metadata": {},
   "outputs": [
    {
     "data": {
      "image/png": "[encoded data removed]",
      "text/plain": [
       "<Figure size 720x288 with 1 Axes>"
      ]
     },
     "metadata": {
      "needs_background": "light"
     },
     "output_type": "display_data"
    }
   ],
   "source": [
    "plt.figure(figsize=(10, 4))\n",
    "plt.hist(df_clean['living_area'], bins=30, edgecolor='black')\n",
    "plt.title(\"Жилая площадь (кв.м.)\", fontsize=14)\n",
    "plt.xlabel(\"Жилая площадь (кв.м.)\")\n",
    "plt.ylabel(\"Количество объявлений\")\n",
    "plt.grid(True)\n",
    "plt.tight_layout()\n",
    "plt.show()\n"
   ]
  },
  {
   "cell_type": "markdown",
   "metadata": {},
   "source": [
    "**Вывод:** Жилая площадь чаще всего составляет от 15 до 40 кв.м., что логично для 1–2-комнатных квартир."
   ]
  },
  {
   "cell_type": "markdown",
   "metadata": {},
   "source": [
    "### Площадь кухни (кв.м.)"
   ]
  },
  {
   "cell_type": "code",
   "execution_count": 22,
   "metadata": {},
   "outputs": [
    {
     "data": {
      "image/png": "[encoded data removed]",
      "text/plain": [
       "<Figure size 720x288 with 1 Axes>"
      ]
     },
     "metadata": {
      "needs_background": "light"
     },
     "output_type": "display_data"
    }
   ],
   "source": [
    "plt.figure(figsize=(10, 4))\n",
    "plt.hist(df_clean['kitchen_area'], bins=30, edgecolor='black')\n",
    "plt.title(\"Площадь кухни (кв.м.)\", fontsize=14)\n",
    "plt.xlabel(\"Площадь кухни (кв.м.)\")\n",
    "plt.ylabel(\"Количество объявлений\")\n",
    "plt.grid(True)\n",
    "plt.tight_layout()\n",
    "plt.show()\n"
   ]
  },
  {
   "cell_type": "markdown",
   "metadata": {},
   "source": [
    "**Вывод:** Наиболее популярные значения находятся в пределах 6–12 кв.м."
   ]
  },
  {
   "cell_type": "markdown",
   "metadata": {},
   "source": [
    "### Цена объекта"
   ]
  },
  {
   "cell_type": "code",
   "execution_count": 23,
   "metadata": {},
   "outputs": [
    {
     "data": {
      "image/png": "[encoded data removed]",
      "text/plain": [
       "<Figure size 720x288 with 1 Axes>"
      ]
     },
     "metadata": {
      "needs_background": "light"
     },
     "output_type": "display_data"
    }
   ],
   "source": [
    "plt.figure(figsize=(10, 4))\n",
    "plt.hist(df_clean['last_price'], bins=30, edgecolor='black')\n",
    "plt.title(\"Цена объекта\", fontsize=14)\n",
    "plt.xlabel(\"Цена объекта\")\n",
    "plt.ylabel(\"Количество объявлений\")\n",
    "plt.grid(True)\n",
    "plt.tight_layout()\n",
    "plt.show()\n"
   ]
  },
  {
   "cell_type": "markdown",
   "metadata": {},
   "source": [
    "**Вывод:** Большинство объектов стоят до 10 млн рублей. Это основная масса рынка."
   ]
  },
  {
   "cell_type": "markdown",
   "metadata": {},
   "source": [
    "### Количество комнат"
   ]
  },
  {
   "cell_type": "code",
   "execution_count": 24,
   "metadata": {},
   "outputs": [
    {
     "data": {
      "image/png": "[encoded data removed]",
      "text/plain": [
       "<Figure size 720x288 with 1 Axes>"
      ]
     },
     "metadata": {
      "needs_background": "light"
     },
     "output_type": "display_data"
    }
   ],
   "source": [
    "plt.figure(figsize=(10, 4))\n",
    "plt.hist(df_clean['rooms'], bins=30, edgecolor='black')\n",
    "plt.title(\"Количество комнат\", fontsize=14)\n",
    "plt.xlabel(\"Количество комнат\")\n",
    "plt.ylabel(\"Количество объявлений\")\n",
    "plt.grid(True)\n",
    "plt.tight_layout()\n",
    "plt.show()\n"
   ]
  },
  {
   "cell_type": "markdown",
   "metadata": {},
   "source": [
    "**Вывод:** Лидируют 1, 2 и 3-комнатные квартиры — стандартная структура по рынку."
   ]
  },
  {
   "cell_type": "markdown",
   "metadata": {},
   "source": [
    "### Высота потолков (м)"
   ]
  },
  {
   "cell_type": "code",
   "execution_count": 25,
   "metadata": {},
   "outputs": [
    {
     "data": {
      "image/png": "[encoded data removed]",
      "text/plain": [
       "<Figure size 720x288 with 1 Axes>"
      ]
     },
     "metadata": {
      "needs_background": "light"
     },
     "output_type": "display_data"
    }
   ],
   "source": [
    "plt.figure(figsize=(10, 4))\n",
    "plt.hist(df_clean['ceiling_height'], bins=30, edgecolor='black')\n",
    "plt.title(\"Высота потолков (м)\", fontsize=14)\n",
    "plt.xlabel(\"Высота потолков (м)\")\n",
    "plt.ylabel(\"Количество объявлений\")\n",
    "plt.grid(True)\n",
    "plt.tight_layout()\n",
    "plt.show()\n"
   ]
  },
  {
   "cell_type": "markdown",
   "metadata": {},
   "source": [
    "**Вывод:** Чаще всего высота потолков — от 2.5 до 2.8 метров. Есть редкие квартиры с потолками выше 3 метров."
   ]
  },
  {
   "cell_type": "markdown",
   "metadata": {},
   "source": [
    "### Этажность дома"
   ]
  },
  {
   "cell_type": "code",
   "execution_count": 26,
   "metadata": {},
   "outputs": [
    {
     "data": {
      "image/png": "[encoded data removed]",
      "text/plain": [
       "<Figure size 720x288 with 1 Axes>"
      ]
     },
     "metadata": {
      "needs_background": "light"
     },
     "output_type": "display_data"
    }
   ],
   "source": [
    "plt.figure(figsize=(10, 4))\n",
    "plt.hist(df_clean['floors_total'].dropna(), bins=30, edgecolor='black')\n",
    "plt.title(\"Этажность дома\", fontsize=14)\n",
    "plt.xlabel(\"Этажность дома\")\n",
    "plt.ylabel(\"Количество объявлений\")\n",
    "plt.grid(True)\n",
    "plt.tight_layout()\n",
    "plt.show()\n"
   ]
  },
  {
   "cell_type": "markdown",
   "metadata": {},
   "source": [
    "**Вывод:** Чаще всего дома имеют от 5 до 25 этажей. Пик около 9 этажей."
   ]
  },
  {
   "cell_type": "markdown",
   "metadata": {},
   "source": [
    "### Расстояние до центра (м)"
   ]
  },
  {
   "cell_type": "code",
   "execution_count": 27,
   "metadata": {},
   "outputs": [
    {
     "data": {
      "image/png": "[encoded data removed]",
      "text/plain": [
       "<Figure size 720x288 with 1 Axes>"
      ]
     },
     "metadata": {
      "needs_background": "light"
     },
     "output_type": "display_data"
    }
   ],
   "source": [
    "plt.figure(figsize=(10, 4))\n",
    "plt.hist(df_clean['cityCenters_nearest'], bins=30, edgecolor='black')\n",
    "plt.title(\"Расстояние до центра (м)\", fontsize=14)\n",
    "plt.xlabel(\"Расстояние до центра (м)\")\n",
    "plt.ylabel(\"Количество объявлений\")\n",
    "plt.grid(True)\n",
    "plt.tight_layout()\n",
    "plt.show()\n"
   ]
  },
  {
   "cell_type": "markdown",
   "metadata": {},
   "source": [
    "**Вывод:** Большая часть квартир находится в пределах 10–15 км от центра."
   ]
  },
  {
   "cell_type": "markdown",
   "metadata": {},
   "source": [
    "### Расстояние до парка (м)"
   ]
  },
  {
   "cell_type": "code",
   "execution_count": 28,
   "metadata": {},
   "outputs": [
    {
     "data": {
      "image/png": "[encoded data removed]",
      "text/plain": [
       "<Figure size 720x288 with 1 Axes>"
      ]
     },
     "metadata": {
      "needs_background": "light"
     },
     "output_type": "display_data"
    }
   ],
   "source": [
    "plt.figure(figsize=(10, 4))\n",
    "plt.hist(df_clean['parks_nearest'], bins=30, edgecolor='black')\n",
    "plt.title(\"Расстояние до парка (м)\", fontsize=14)\n",
    "plt.xlabel(\"Расстояние до парка (м)\")\n",
    "plt.ylabel(\"Количество объявлений\")\n",
    "plt.grid(True)\n",
    "plt.tight_layout()\n",
    "plt.show()\n"
   ]
  },
  {
   "cell_type": "markdown",
   "metadata": {},
   "source": [
    "**Вывод:** Много квартир расположены вблизи зелёных зон — до 500 метров от парка. Однако следует учитывать, что у значительной части данных в этом столбце отсутствуют значения, поэтому вывод может не отражать общую картину."
   ]
  },
  {
   "cell_type": "markdown",
   "metadata": {},
   "source": [
    "### Тип этажа квартиры"
   ]
  },
  {
   "cell_type": "code",
   "execution_count": 29,
   "metadata": {},
   "outputs": [
    {
     "data": {
      "image/png": "[encoded data removed]",
      "text/plain": [
       "<Figure size 432x288 with 1 Axes>"
      ]
     },
     "metadata": {
      "needs_background": "light"
     },
     "output_type": "display_data"
    }
   ],
   "source": [
    "df_clean['floor_type'].value_counts().plot(kind='bar', figsize=(6, 4))\n",
    "plt.title(\"Тип этажа квартиры\", fontsize=14)\n",
    "plt.xlabel(\"Тип этажа\")\n",
    "plt.ylabel(\"Количество\")\n",
    "plt.grid(True)\n",
    "plt.tight_layout()\n",
    "plt.show()\n"
   ]
  },
  {
   "cell_type": "markdown",
   "metadata": {},
   "source": [
    "**Вывод:** Большинство квартир находятся не на первом и не на последнем этажах, что обычно более предпочтительно для покупателей."
   ]
  },
  {
   "cell_type": "code",
   "execution_count": 41,
   "metadata": {},
   "outputs": [
    {
     "name": "stdout",
     "output_type": "stream",
     "text": [
      "Медиана: 95.0\n",
      "Среднее: 180.88863436982163\n"
     ]
    },
    {
     "data": {
      "image/png": "[encoded data removed]",
      "text/plain": [
       "<Figure size 720x288 with 1 Axes>"
      ]
     },
     "metadata": {
      "needs_background": "light"
     },
     "output_type": "display_data"
    }
   ],
   "source": [
    "print(\"Медиана:\", data['days_exposition'].median())\n",
    "print(\"Среднее:\", data['days_exposition'].mean())\n",
    "\n",
    "plt.figure(figsize=(10, 4))\n",
    "plt.hist(data['days_exposition'].dropna(), bins=50, edgecolor='black')\n",
    "plt.title(\"Распределение времени продажи (в днях)\")\n",
    "plt.xlabel(\"Дни экспозиции\")\n",
    "plt.ylabel(\"Количество объявлений\")\n",
    "plt.grid(True)\n",
    "plt.tight_layout()\n",
    "plt.show()"
   ]
  },
  {
   "cell_type": "markdown",
   "metadata": {},
   "source": [
    "**Вывод:** большинство объектов продаются примерно за 90–100 дней. Распределение асимметрично — встречаются очень долгие продажи."
   ]
  },
  {
   "cell_type": "markdown",
   "metadata": {},
   "source": [
    "### Зависимость от: Общая площадь"
   ]
  },
  {
   "cell_type": "code",
   "execution_count": 42,
   "metadata": {},
   "outputs": [
    {
     "data": {
      "image/png": "[encoded data removed]",
      "text/plain": [
       "<Figure size 720x288 with 1 Axes>"
      ]
     },
     "metadata": {
      "needs_background": "light"
     },
     "output_type": "display_data"
    }
   ],
   "source": [
    "filtered = df_clean[[\"total_area\", \"last_price\"]].dropna()\n",
    "plt.figure(figsize=(10, 4))\n",
    "plt.scatter(filtered['total_area'], filtered['last_price'], alpha=0.3)\n",
    "plt.title(\"last_price vs Общая площадь\")\n",
    "plt.xlabel(\"Общая площадь\")\n",
    "plt.ylabel(\"Цена\")\n",
    "plt.grid(True)\n",
    "plt.tight_layout()\n",
    "plt.show()\n"
   ]
  },
  {
   "cell_type": "markdown",
   "metadata": {},
   "source": [
    "**Вывод:** На графике наблюдается положительная зависимость между общей площадью и ценой квартиры. До 150 м² рост цены выглядит логично, далее — появляются выбросы. Это может указывать на элитные объекты или ошибки в данных."
   ]
  },
  {
   "cell_type": "markdown",
   "metadata": {},
   "source": [
    "### Зависимость от: Жилая площадь"
   ]
  },
  {
   "cell_type": "code",
   "execution_count": 43,
   "metadata": {},
   "outputs": [
    {
     "data": {
      "image/png": "[encoded data removed]",
      "text/plain": [
       "<Figure size 720x288 with 1 Axes>"
      ]
     },
     "metadata": {
      "needs_background": "light"
     },
     "output_type": "display_data"
    }
   ],
   "source": [
    "filtered = df_clean[[\"living_area\", \"last_price\"]].dropna()\n",
    "plt.figure(figsize=(10, 4))\n",
    "plt.scatter(filtered['living_area'], filtered['last_price'], alpha=0.3)\n",
    "plt.title(\"last_price vs Жилая площадь\")\n",
    "plt.xlabel(\"Жилая площадь\")\n",
    "plt.ylabel(\"Цена\")\n",
    "plt.grid(True)\n",
    "plt.tight_layout()\n",
    "plt.show()\n"
   ]
  },
  {
   "cell_type": "markdown",
   "metadata": {},
   "source": [
    "**Вывод:** График показывает положительную зависимость между жилой площадью и ценой, особенно до 100 м². После этого значения становятся более разбросанными, появляются выбросы. Это снижает предсказуемость цены по жилой площади в больших объектах."
   ]
  },
  {
   "cell_type": "markdown",
   "metadata": {},
   "source": [
    "### Зависимость от: Площадь кухни"
   ]
  },
  {
   "cell_type": "code",
   "execution_count": 44,
   "metadata": {},
   "outputs": [
    {
     "data": {
      "image/png": "[encoded data removed]",
      "text/plain": [
       "<Figure size 720x288 with 1 Axes>"
      ]
     },
     "metadata": {
      "needs_background": "light"
     },
     "output_type": "display_data"
    }
   ],
   "source": [
    "filtered = df_clean[[\"kitchen_area\", \"last_price\"]].dropna()\n",
    "plt.figure(figsize=(10, 4))\n",
    "plt.scatter(filtered['kitchen_area'], filtered['last_price'], alpha=0.3)\n",
    "plt.title(\"last_price vs Площадь кухни\")\n",
    "plt.xlabel(\"Площадь кухни\")\n",
    "plt.ylabel(\"Цена\")\n",
    "plt.grid(True)\n",
    "plt.tight_layout()\n",
    "plt.show()\n"
   ]
  },
  {
   "cell_type": "markdown",
   "metadata": {},
   "source": [
    "**Вывод:** Связь между ценой и площадью кухни слабая. Основная масса квартир сосредоточена в диапазоне 7–15 м², дальше наблюдаются выбросы. Большие кухни не всегда означают высокую цену."
   ]
  },
  {
   "cell_type": "markdown",
   "metadata": {},
   "source": [
    "### Зависимость от: Количество комнат"
   ]
  },
  {
   "cell_type": "code",
   "execution_count": 45,
   "metadata": {},
   "outputs": [
    {
     "data": {
      "image/png": "[encoded data removed]",
      "text/plain": [
       "<Figure size 720x288 with 1 Axes>"
      ]
     },
     "metadata": {
      "needs_background": "light"
     },
     "output_type": "display_data"
    }
   ],
   "source": [
    "filtered = df_clean[[\"rooms\", \"last_price\"]].dropna()\n",
    "plt.figure(figsize=(10, 4))\n",
    "plt.scatter(filtered['rooms'], filtered['last_price'], alpha=0.3)\n",
    "plt.title(\"last_price vs Количество комнат\")\n",
    "plt.xlabel(\"Количество комнат\")\n",
    "plt.ylabel(\"Цена\")\n",
    "plt.grid(True)\n",
    "plt.tight_layout()\n",
    "plt.show()\n"
   ]
  },
  {
   "cell_type": "markdown",
   "metadata": {},
   "source": [
    "**Вывод:** Чаще всего встречаются квартиры с 1–3 комнатами, и их цена постепенно растёт с увеличением числа комнат. При этом для 4 комнат и выше наблюдается больше выбросов по цене. Связь ослабевает после 5 комнат."
   ]
  },
  {
   "cell_type": "markdown",
   "metadata": {},
   "source": [
    "### Зависимость от: Этаж"
   ]
  },
  {
   "cell_type": "code",
   "execution_count": 46,
   "metadata": {},
   "outputs": [
    {
     "data": {
      "image/png": "[encoded data removed]",
      "text/plain": [
       "<Figure size 720x288 with 1 Axes>"
      ]
     },
     "metadata": {
      "needs_background": "light"
     },
     "output_type": "display_data"
    }
   ],
   "source": [
    "filtered = df_clean[[\"floor\", \"last_price\"]].dropna()\n",
    "plt.figure(figsize=(10, 4))\n",
    "plt.scatter(filtered['floor'], filtered['last_price'], alpha=0.3)\n",
    "plt.title(\"last_price vs Этаж\")\n",
    "plt.xlabel(\"Этаж\")\n",
    "plt.ylabel(\"Цена\")\n",
    "plt.grid(True)\n",
    "plt.tight_layout()\n",
    "plt.show()\n"
   ]
  },
  {
   "cell_type": "markdown",
   "metadata": {},
   "source": [
    "**Вывод:** Цены наиболее разнообразны на этажах до 10 — там наблюдаются как бюджетные, так и дорогие квартиры. Начиная с 15 этажа, разброс цен уменьшается. Высокие этажи встречаются реже и чаще относятся к типовым домам с умеренной стоимостью."
   ]
  },
  {
   "cell_type": "markdown",
   "metadata": {},
   "source": [
    "### Зависимость от: День недели публикации"
   ]
  },
  {
   "cell_type": "code",
   "execution_count": 47,
   "metadata": {},
   "outputs": [
    {
     "data": {
      "image/png": "[encoded data removed]",
      "text/plain": [
       "<Figure size 720x288 with 1 Axes>"
      ]
     },
     "metadata": {
      "needs_background": "light"
     },
     "output_type": "display_data"
    }
   ],
   "source": [
    "filtered = df_clean[[\"first_exposition_weekday\", \"last_price\"]].dropna()\n",
    "plt.figure(figsize=(10, 4))\n",
    "plt.scatter(filtered['first_exposition_weekday'], filtered['last_price'], alpha=0.3)\n",
    "plt.title(\"last_price vs День недели публикации\")\n",
    "plt.ylabel(\"Цена\")\n",
    "plt.ylabel(\"Время продажи (дни)\")\n",
    "plt.grid(True)\n",
    "plt.tight_layout()\n",
    "plt.show()\n"
   ]
  },
  {
   "cell_type": "markdown",
   "metadata": {},
   "source": [
    "**Вывод:** Связи между днём недели публикации и ценой не наблюдается. Распределение по всем дням примерно одинаковое, выбросы присутствуют в каждом дне. День публикации не влияет на стоимость квартиры."
   ]
  },
  {
   "cell_type": "markdown",
   "metadata": {},
   "source": [
    "### Зависимость от: Месяц публикации"
   ]
  },
  {
   "cell_type": "code",
   "execution_count": 48,
   "metadata": {},
   "outputs": [
    {
     "data": {
      "image/png": "[encoded data removed]",
      "text/plain": [
       "<Figure size 720x288 with 1 Axes>"
      ]
     },
     "metadata": {
      "needs_background": "light"
     },
     "output_type": "display_data"
    }
   ],
   "source": [
    "filtered = df_clean[[\"first_exposition_month\", \"last_price\"]].dropna()\n",
    "plt.figure(figsize=(10, 4))\n",
    "plt.scatter(filtered['first_exposition_month'], filtered['last_price'], alpha=0.3)\n",
    "plt.title(\"last_price vs Месяц публикации\")\n",
    "plt.xlabel(\"Месяц публикации\")\n",
    "plt.ylabel(\"Цена\")\n",
    "plt.grid(True)\n",
    "plt.tight_layout()\n",
    "plt.show()\n"
   ]
  },
  {
   "cell_type": "markdown",
   "metadata": {},
   "source": [
    "**Вывод:** Зависимость между месяцем публикации и ценой не прослеживается. Распределение цен остаётся стабильным в течение года. Сезонного влияния на стоимость выявлено не было."
   ]
  },
  {
   "cell_type": "markdown",
   "metadata": {},
   "source": [
    "### Зависимость от: Год публикации"
   ]
  },
  {
   "cell_type": "code",
   "execution_count": 49,
   "metadata": {},
   "outputs": [],
   "source": [
    "# Преобразуем в обычные типы\n",
    "# grouped['first_exposition_year'] = grouped['first_exposition_year'].astype(int)\n",
    "# grouped['avg_price'] = grouped['avg_price'].astype(float)\n",
    "# grouped['avg_area'] = grouped['avg_area'].astype(float)\n",
    "# grouped['num_ads'] = grouped['num_ads'].astype(int)\n",
    "\n",
    "grouped = (\n",
    "    df_clean\n",
    "    .groupby('first_exposition_year', dropna=True)\n",
    "    .agg(\n",
    "        avg_price=('last_price', 'mean'),\n",
    "        avg_area=('total_area', 'mean'),\n",
    "        num_ads=('last_price', 'count')\n",
    "    )\n",
    "    .reset_index()\n",
    ")\n",
    "\n",
    "# Явное преобразование типов для matplotlib\n",
    "grouped['first_exposition_year'] = grouped['first_exposition_year'].astype(int)\n",
    "grouped['avg_price'] = grouped['avg_price'].astype(float)\n",
    "grouped['avg_area'] = grouped['avg_area'].astype(float)\n",
    "grouped['num_ads'] = grouped['num_ads'].astype(int)"
   ]
  },
  {
   "cell_type": "code",
   "execution_count": 50,
   "metadata": {},
   "outputs": [
    {
     "data": {
      "text/plain": [
       "<Figure size 1080x360 with 0 Axes>"
      ]
     },
     "execution_count": 50,
     "metadata": {},
     "output_type": "execute_result"
    },
    {
     "data": {
      "text/plain": [
       "<Figure size 1080x360 with 0 Axes>"
      ]
     },
     "metadata": {},
     "output_type": "display_data"
    }
   ],
   "source": [
    "# Построение графиков\n",
    "plt.figure(figsize=(15, 5))"
   ]
  },
  {
   "cell_type": "code",
   "execution_count": 51,
   "metadata": {},
   "outputs": [
    {
     "data": {
      "image/png": "[encoded data removed]",
      "text/plain": [
       "<Figure size 432x288 with 1 Axes>"
      ]
     },
     "metadata": {
      "needs_background": "light"
     },
     "output_type": "display_data"
    }
   ],
   "source": [
    "# Средняя цена\n",
    "plt.subplot(1, 3, 1)\n",
    "plt.plot(grouped['first_exposition_year'], grouped['avg_price'], marker='o')\n",
    "plt.title('Средняя цена по годам')\n",
    "plt.xlabel('Год')\n",
    "plt.ylabel('Средняя цена')\n",
    "plt.grid(True)"
   ]
  },
  {
   "cell_type": "code",
   "execution_count": 52,
   "metadata": {},
   "outputs": [
    {
     "data": {
      "image/png": "[encoded data removed]",
      "text/plain": [
       "<Figure size 432x288 with 1 Axes>"
      ]
     },
     "metadata": {
      "needs_background": "light"
     },
     "output_type": "display_data"
    }
   ],
   "source": [
    "# Средняя площадь\n",
    "plt.subplot(1, 3, 2)\n",
    "plt.plot(grouped['first_exposition_year'], grouped['avg_area'], marker='o', color='orange')\n",
    "plt.title('Средняя площадь по годам')\n",
    "plt.xlabel('Год')\n",
    "plt.ylabel('Средняя площадь (м²)')\n",
    "plt.grid(True)"
   ]
  },
  {
   "cell_type": "code",
   "execution_count": 53,
   "metadata": {},
   "outputs": [
    {
     "data": {
      "image/png": "[encoded data removed]",
      "text/plain": [
       "<Figure size 432x288 with 1 Axes>"
      ]
     },
     "metadata": {
      "needs_background": "light"
     },
     "output_type": "display_data"
    }
   ],
   "source": [
    "# Кол-во объявлений\n",
    "plt.subplot(1, 3, 3)\n",
    "plt.bar(grouped['first_exposition_year'], grouped['num_ads'], color='green')\n",
    "plt.title('Количество объявлений по годам')\n",
    "plt.xlabel('Год')\n",
    "plt.ylabel('Число объявлений')\n",
    "plt.grid(True)"
   ]
  },
  {
   "cell_type": "code",
   "execution_count": 54,
   "metadata": {},
   "outputs": [
    {
     "data": {
      "text/plain": [
       "<Figure size 432x288 with 0 Axes>"
      ]
     },
     "metadata": {},
     "output_type": "display_data"
    }
   ],
   "source": [
    "plt.tight_layout()\n",
    "plt.show()"
   ]
  },
  {
   "cell_type": "code",
   "execution_count": 55,
   "metadata": {},
   "outputs": [
    {
     "data": {
      "image/png": "[encoded data removed]",
      "text/plain": [
       "<Figure size 720x288 with 1 Axes>"
      ]
     },
     "metadata": {
      "needs_background": "light"
     },
     "output_type": "display_data"
    }
   ],
   "source": [
    "filtered = df_clean[[\"first_exposition_year\", \"last_price\"]].dropna()\n",
    "plt.figure(figsize=(10, 4))\n",
    "plt.scatter(filtered['first_exposition_year'], filtered['last_price'], alpha=0.3)\n",
    "plt.title(\"last_price vs Год публикации\")\n",
    "plt.xlabel(\"Год публикации\")\n",
    "plt.ylabel(\"Цена\")\n",
    "plt.grid(True)\n",
    "plt.tight_layout()\n",
    "plt.show()\n"
   ]
  },
  {
   "cell_type": "markdown",
   "metadata": {},
   "source": [
    "**Вывод:** Средняя цена на квартиры по годам демонстрирует снижение, особенно заметное в период с 2014 по 2016 год. Однако на это изменение повлияли и другие факторы. В частности, вместе с ценой уменьшалась и средняя площадь продаваемых объектов, что могло влиять на общую динамику стоимости. Кроме того, начиная с 2016 года резко увеличилось количество объявлений, что также могло сказаться на средней цене. Таким образом, снижение цен нельзя однозначно интерпретировать как удешевление недвижимости — оно может быть связано со структурой предложений, в которых стало больше компактных и, соответственно, более дешёвых квартир."
   ]
  },
  {
   "cell_type": "code",
   "execution_count": 56,
   "metadata": {},
   "outputs": [
    {
     "data": {
      "text/plain": [
       "locality_name\n",
       "санкт-петербург    114849.008793\n",
       "пушкин             103125.819377\n",
       "деревня кудрово     92473.547559\n",
       "село парголово      90175.913089\n",
       "село мурино         85681.762572\n",
       "село шушары         78677.364318\n",
       "колпино             75424.579112\n",
       "гатчина             68746.146515\n",
       "всеволожск          68654.473970\n",
       "выборг              58141.909325\n",
       "Name: price_per_m, dtype: float64"
      ]
     },
     "execution_count": 56,
     "metadata": {},
     "output_type": "execute_result"
    }
   ],
   "source": [
    "count_10 = data['locality_name'].value_counts().head(10).index\n",
    "count = data[data['locality_name'].isin(count_10)]\n",
    "top_per_m = (count.groupby('locality_name')['price_per_m'].mean().sort_values(ascending=False))\n",
    "top_per_m"
   ]
  },
  {
   "cell_type": "code",
   "execution_count": 57,
   "metadata": {},
   "outputs": [
    {
     "data": {
      "image/png": "[encoded data removed]",
      "text/plain": [
       "<Figure size 720x432 with 1 Axes>"
      ]
     },
     "metadata": {
      "needs_background": "light"
     },
     "output_type": "display_data"
    }
   ],
   "source": [
    "top_per_m.plot(kind='barh', figsize=(10, 6), color='skyblue')\n",
    "plt.title('Топ-10 населённых пунктов по средней цене за м²')\n",
    "plt.xlabel('Средняя цена за м²')\n",
    "plt.ylabel('Населённый пункт')\n",
    "plt.gca().invert_yaxis()\n",
    "plt.grid(axis='x')\n",
    "plt.tight_layout()\n",
    "plt.show()"
   ]
  },
  {
   "cell_type": "code",
   "execution_count": 58,
   "metadata": {
    "scrolled": true
   },
   "outputs": [
    {
     "data": {
      "image/png": "[encoded data removed]",
      "text/plain": [
       "<Figure size 1008x432 with 1 Axes>"
      ]
     },
     "metadata": {
      "needs_background": "light"
     },
     "output_type": "display_data"
    },
    {
     "data": {
      "text/plain": [
       "city_center_km\n",
       "0     31449115.85\n",
       "1     21206720.83\n",
       "2     17788319.61\n",
       "3     11126581.00\n",
       "4     13304279.53\n",
       "5     14499121.06\n",
       "6     15338418.39\n",
       "7     14775152.59\n",
       "8      9957716.83\n",
       "9      6950658.58\n",
       "10     6504119.23\n",
       "11     6250814.96\n",
       "12     5828544.72\n",
       "13     6083140.87\n",
       "14     5629101.25\n",
       "15     5884751.39\n",
       "16     5373130.56\n",
       "17     5292394.63\n",
       "18     5091331.32\n",
       "19     5037674.94\n",
       "20     5951464.84\n",
       "21     5493469.37\n",
       "22     5415524.28\n",
       "23     4985376.47\n",
       "24     3854429.62\n",
       "25     4052839.92\n",
       "26     3973012.51\n",
       "27     8300000.00\n",
       "28     5026428.57\n",
       "29     4236666.67\n",
       "Name: last_price, dtype: float64"
      ]
     },
     "execution_count": 58,
     "metadata": {},
     "output_type": "execute_result"
    }
   ],
   "source": [
    "spb_data = data[data['locality_name'] == 'санкт-петербург']\n",
    "spb_data = spb_data[spb_data['cityCenters_nearest'].notna()]\n",
    "spb_data['city_center_km'] = (spb_data['cityCenters_nearest'] / 1000).round().astype('Int64')\n",
    "price_by_km = spb_data.groupby('city_center_km')['last_price'].mean()\n",
    "price_by_km = price_by_km.astype(float).round(2)\n",
    "price_by_km = price_by_km.sort_index()\n",
    "distance_price = data.groupby('cityCenters_nearest_km')['last_price'].mean()\n",
    "\n",
    "# Визуализация\n",
    "distance_price.plot(kind='bar', figsize=(14, 6))\n",
    "plt.title('Средняя цена квартиры в Санкт-Петербурге по расстоянию от центра (км)')\n",
    "plt.xlabel('Расстояние до центра (км)')\n",
    "plt.ylabel('Средняя цена (руб.)')\n",
    "plt.xticks(rotation=45)\n",
    "plt.grid(axis='y')\n",
    "plt.tight_layout()\n",
    "plt.show()\n",
    "price_by_km"
   ]
  },
  {
   "cell_type": "code",
   "execution_count": 59,
   "metadata": {},
   "outputs": [
    {
     "data": {
      "text/html": [
       "<div>\n",
       "<style scoped>\n",
       "    .dataframe tbody tr th:only-of-type {\n",
       "        vertical-align: middle;\n",
       "    }\n",
       "\n",
       "    .dataframe tbody tr th {\n",
       "        vertical-align: top;\n",
       "    }\n",
       "\n",
       "    .dataframe thead th {\n",
       "        text-align: right;\n",
       "    }\n",
       "</style>\n",
       "<table border=\"1\" class=\"dataframe\">\n",
       "  <thead>\n",
       "    <tr style=\"text-align: right;\">\n",
       "      <th></th>\n",
       "      <th>last_price</th>\n",
       "      <th>total_area</th>\n",
       "      <th>rooms</th>\n",
       "      <th>cityCenters_nearest</th>\n",
       "    </tr>\n",
       "  </thead>\n",
       "  <tbody>\n",
       "    <tr>\n",
       "      <th>748</th>\n",
       "      <td>14350000</td>\n",
       "      <td>74.0</td>\n",
       "      <td>2</td>\n",
       "      <td>27313.0</td>\n",
       "    </tr>\n",
       "    <tr>\n",
       "      <th>5961</th>\n",
       "      <td>2250000</td>\n",
       "      <td>32.0</td>\n",
       "      <td>1</td>\n",
       "      <td>27431.0</td>\n",
       "    </tr>\n",
       "  </tbody>\n",
       "</table>\n",
       "</div>"
      ],
      "text/plain": [
       "      last_price  total_area  rooms  cityCenters_nearest\n",
       "748     14350000        74.0      2              27313.0\n",
       "5961     2250000        32.0      1              27431.0"
      ]
     },
     "metadata": {},
     "output_type": "display_data"
    }
   ],
   "source": [
    "data_27km = data[\n",
    "    (data['locality_name'] == 'санкт-петербург') &\n",
    "    (data['cityCenters_nearest'].notna())\n",
    "].copy()\n",
    "\n",
    "data_27km['cityCenters_nearest_km'] = (data_27km['cityCenters_nearest'] / 1000).round()\n",
    "data_27km = data_27km[data_27km['cityCenters_nearest_km'] == 27]\n",
    "\n",
    "display(data_27km[['last_price', 'total_area', 'rooms', 'cityCenters_nearest']].sort_values(by='last_price', ascending=False))"
   ]
  },
  {
   "cell_type": "markdown",
   "metadata": {},
   "source": [
    "**Вывод**: Выброс на 27-м километре от центра Санкт-Петербурга объясняется всего двумя записями. Одна из квартир имеет очень высокую цену — 14 350 000 рублей при площади 74 м, что существенно выше средних значений на этом расстоянии. Это искажение может быть связано с элитной недвижимостью за городом, ошибкой в расчёте расстояния до центра или некорректными координатами. Поскольку таких записей крайне мало и они значительно влияют на средние значения, их следует рассматривать как локальные выбросы"
   ]
  },
  {
   "cell_type": "code",
   "execution_count": 60,
   "metadata": {},
   "outputs": [
    {
     "data": {
      "text/html": [
       "<div>\n",
       "<style scoped>\n",
       "    .dataframe tbody tr th:only-of-type {\n",
       "        vertical-align: middle;\n",
       "    }\n",
       "\n",
       "    .dataframe tbody tr th {\n",
       "        vertical-align: top;\n",
       "    }\n",
       "\n",
       "    .dataframe thead th {\n",
       "        text-align: right;\n",
       "    }\n",
       "</style>\n",
       "<table border=\"1\" class=\"dataframe\">\n",
       "  <thead>\n",
       "    <tr style=\"text-align: right;\">\n",
       "      <th></th>\n",
       "      <th>cityCenters_nearest_km</th>\n",
       "      <th>floor_type</th>\n",
       "      <th>count</th>\n",
       "      <th>share</th>\n",
       "    </tr>\n",
       "  </thead>\n",
       "  <tbody>\n",
       "    <tr>\n",
       "      <th>9</th>\n",
       "      <td>3.0</td>\n",
       "      <td>другой</td>\n",
       "      <td>211</td>\n",
       "      <td>0.608069</td>\n",
       "    </tr>\n",
       "    <tr>\n",
       "      <th>10</th>\n",
       "      <td>3.0</td>\n",
       "      <td>неизвестно</td>\n",
       "      <td>2</td>\n",
       "      <td>0.005764</td>\n",
       "    </tr>\n",
       "    <tr>\n",
       "      <th>11</th>\n",
       "      <td>3.0</td>\n",
       "      <td>первый</td>\n",
       "      <td>56</td>\n",
       "      <td>0.161383</td>\n",
       "    </tr>\n",
       "    <tr>\n",
       "      <th>12</th>\n",
       "      <td>3.0</td>\n",
       "      <td>последний</td>\n",
       "      <td>78</td>\n",
       "      <td>0.224784</td>\n",
       "    </tr>\n",
       "    <tr>\n",
       "      <th>16</th>\n",
       "      <td>5.0</td>\n",
       "      <td>другой</td>\n",
       "      <td>676</td>\n",
       "      <td>0.751111</td>\n",
       "    </tr>\n",
       "    <tr>\n",
       "      <th>17</th>\n",
       "      <td>5.0</td>\n",
       "      <td>неизвестно</td>\n",
       "      <td>5</td>\n",
       "      <td>0.005556</td>\n",
       "    </tr>\n",
       "    <tr>\n",
       "      <th>18</th>\n",
       "      <td>5.0</td>\n",
       "      <td>первый</td>\n",
       "      <td>82</td>\n",
       "      <td>0.091111</td>\n",
       "    </tr>\n",
       "    <tr>\n",
       "      <th>19</th>\n",
       "      <td>5.0</td>\n",
       "      <td>последний</td>\n",
       "      <td>137</td>\n",
       "      <td>0.152222</td>\n",
       "    </tr>\n",
       "  </tbody>\n",
       "</table>\n",
       "</div>"
      ],
      "text/plain": [
       "    cityCenters_nearest_km  floor_type  count     share\n",
       "9                      3.0      другой    211  0.608069\n",
       "10                     3.0  неизвестно      2  0.005764\n",
       "11                     3.0      первый     56  0.161383\n",
       "12                     3.0   последний     78  0.224784\n",
       "16                     5.0      другой    676  0.751111\n",
       "17                     5.0  неизвестно      5  0.005556\n",
       "18                     5.0      первый     82  0.091111\n",
       "19                     5.0   последний    137  0.152222"
      ]
     },
     "metadata": {},
     "output_type": "display_data"
    }
   ],
   "source": [
    "df_clean['cityCenters_nearest_km'] = (df_clean['cityCenters_nearest'] / 1000).round()\n",
    "\n",
    "floor_km_counts = df_clean.pivot_table(\n",
    "    index=['cityCenters_nearest_km', 'floor_type'],\n",
    "    values='last_price',\n",
    "    aggfunc='count'\n",
    ").reset_index().rename(columns={'last_price': 'count'})\n",
    "\n",
    "target_km = [3, 5]\n",
    "\n",
    "floor_stats = floor_km_counts[\n",
    "    floor_km_counts['cityCenters_nearest_km'].isin(target_km)\n",
    "].copy()\n",
    "\n",
    "total_by_km = floor_stats.groupby('cityCenters_nearest_km')['count'].transform('sum')\n",
    "\n",
    "floor_stats['share'] = floor_stats['count'] / total_by_km\n",
    "\n",
    "floor_stats = floor_stats.sort_values(by=['cityCenters_nearest_km', 'floor_type'])\n",
    "\n",
    "display(floor_stats)"
   ]
  },
  {
   "cell_type": "code",
   "execution_count": 61,
   "metadata": {},
   "outputs": [
    {
     "data": {
      "image/png": "[encoded data removed]",
      "text/plain": [
       "<Figure size 432x288 with 1 Axes>"
      ]
     },
     "metadata": {
      "needs_background": "light"
     },
     "output_type": "display_data"
    }
   ],
   "source": [
    "# способы представления информации, иногда можно использовать графики чтобы посмотреть на доли\n",
    "(\n",
    "    df_clean\n",
    "     .query('locality_name == \"санкт-петербург\"')\n",
    "     .query('3 <= cityCenters_nearest_km <=7 ')\n",
    "     .pivot_table(index='cityCenters_nearest_km', columns='floor_type', values='last_price', aggfunc='count')\n",
    ").plot.bar(rot=0);"
   ]
  },
  {
   "cell_type": "markdown",
   "metadata": {},
   "source": [
    "**Вывод**:На 3-м и 5-м километре от центра Санкт-Петербурга преобладают квартиры, расположенные не на первом и не на последнем этажах. При этом доля первых и последних этажей на этих километрах составляет от 10% до 30% в зависимости от конкретного участка. Это может быть связано с особенностями жилой застройки, где многоквартирные дома с промежуточными этажами чаще встречаются вблизи центра, а первый и последний этажи занимают меньшую долю. Эти особенности структуры этажности позволяют объяснить локальные пики и провалы в ценах и спросе на конкретных километрах"
   ]
  },
  {
   "cell_type": "markdown",
   "metadata": {},
   "source": [
    "Пойдем по порядку:\n",
    "```\n",
    "-total_area(общая площадь) - Исходя из графика видно, что основная масса квартир с площадь от 20 до 80 кв. метров, большего всего квартир с площадью около 50 кв метров, их на графике 1500.Значения для этого графика взяты в диапозоне от 20 до 200 кв метров, остальные значения признаны выбросами\n",
    "-livining_area(жилая площадь) - Значения взяты в диапозоне о 10 до 150 кв метров, также отброшены логически неверные значения(когда жилая площадь больше общей). Больше всего квартир с жилой площадью примерно 30 кв метров. Большенство квартир находятся в области от 15 до 50 кв метров.\n",
    "-kitchen_area(площадь кухни) - Значения взяты в диапозоне от 5 до 50 кв метров, большенство значений располагаются от 7 до 15 кв метров, пик наблюдается в значениях от 7 до 10\n",
    "-last_price(цена) - Значения взяты от 1 до 100 млн, основная масса объектов находится в диапозоне до 10 млн.\n",
    "-rooms(кол-во комнат) - Значения взяты от 1 до 6, чаще всего встречаются квартиры с 1-3 комнатами, 4-6 комнат-небольшой хвост на графике\n",
    "ceiling_height(высота потолков) - Основная масса находится в диапозоне от 2.3-3 метра, всё что больше показывает результаты значительно меньше\n",
    "floors_total(кол-во этажей в доме) -  основная масса находится в диапозоне от 5 до 20 этажей, больше всего 5-тиэтажных домов, дома выше 20-ти этажей представляют довольно маленькие значения.\n",
    "cityCenters_nearest(метров до центра) - чаще всего дома располагаются в 5-15 км от центра, с пиком значени в 15км, всё что ближе/дальше представляют значения гораздо ниже.\n",
    "parks_nearest(метров до парка) - чаще всего парки располагаются до 800-а метров от домов, есть небольшое кол-во со значениями от 1.5 до 3 км.\n",
    "```\n",
    "Теперь про длительность продаж. Чаще всего квартиры продаются до 100 дней, реже до 200-450 дней, далее на графике тянится длинный хвост уходя в значения за 1500 дней. Среднее равно примерно 198 дням, но оно может быть сильно искажено из-за высоких значений в левой части графика. Медианное значение больше похоже на правду, потому что как раз примерно в этой области(111-медиана) наблюдается пик графика. Продажи ниже меедианы можно назвать быстрыми, а выше-долгими.\n",
    "Теперь про зависимость от разных факторов. Если брать зависимость дней продажи от общей площади, можно заметить, что прямой зависимости нет, большенство квартир продаётся до 200 дней, основной объём продаж происходит в квартирах до 100 м, для квартир больших по площади-точек меньше, значит таких квартир меньше на рынке.\n",
    "Зависимость жилой плоащади и дней продажи, как и с общей площадью прямой зависимости нет, большенство объектов имеют площадь до 80 м, а всё что больше, продается реже и имеет наибольший разброс в сведениях.\n",
    "Зависимость дней продажи от площади кухни, четкой линейной зависимости как и ранее нет, основная масс объектов имеет площадь кухни до 20м, всё что выше продается редко и имеет большой разброс в днях продажи.\n",
    "Зависимость комнат и дней продажи показывает, что основная масса продаж происходят в объектах с 1-4 комнатами, для квартир с 5-6 комнатами продаж значительно меньше, но разброс по сведениям о днях продажи, велик. Можно также заметить что наиболее покупаемый диапозон, это объекты с 1-3 комнатами.\n",
    "Если смотреть на зависимость дней продажи и этажа, на котором располагается объект, то можно найти некую зависимость, чаще всего продаются объекты, которые находятся до 7 этажа, начиная с 10 этажа график начинает показывать снижение кол-ва продаж, но и время продажи квартиры тоже понижается с каждым этажом, скорее это связано с маленьким кол-вом предложений на высоких этажах, которые довольно быстро покупаются.\n",
    "Зависимости от дня недели, в который выложили объявления напрямую, нет, однако можно заметить, что больший объём объектов был выставлен во вторник или четверг, реже всего выставляют объекты на продажу по выходным. В целом объём объявлений распределён равномерно по всем дням недели.\n",
    "Зависимости между месяцем выставления и сроком продажи, нет, в течении всё года, для каждого месяца равномерно распределеён объём продаж, это и означает, что зависимости нет.\n",
    "А вот зависимость между годом выставления сроком продажи, присутствует. В 2014 году, было и мало предложений и их долго покупали, от 600 до 1500 дней, дальше  с 2015 по 2019, видно тренд, в котором с каждым годом кол-во предложений снижалось и их срок продажи тоже, дойдя в 2019 году до отмеик не более 100 дней, в предыдущие года кол-во дней продаж постепенно снижалось с максимальных значений в 2015 в 1500 дней до 1200 в 2016, далее до 850 дней в 2017, а далее до 500 дней в 2018 году, в итоге дойдя до значений в 2019 году-до максимальных 100 дней продажи.\n",
    "Выделив 10 населённых пунктов с наибольшим кол-вом объявлений и посчитав среднюю цену за квадратный метр, можно заметить следующее: цена находится в диапозоне от 58000 до 115000 за квадратный метр, наименьший показатель в этой десятки у Выборги, а наибольший у Санкт-Петербурга.\n",
    "Чем ближе объект к центру Санкт-Петербурга, тем выше его средняя стоимость. График показывает закономерность: цена недвижимости убывает с удалением от центра."
   ]
  },
  {
   "cell_type": "markdown",
   "metadata": {
    "id": "h7VpzkIDAwb-"
   },
   "source": [
    "### Напишите общий вывод"
   ]
  },
  {
   "cell_type": "markdown",
   "metadata": {
    "id": "3H4lnp_KAwb-"
   },
   "source": [
    "В процессе подготовки данных была проведена масштабная очистка и преобразование. В столбцах balcony, parks_around3000, ponds_around3000 пустые значения заменены на 0, а тип данных преобразован с float64 на int64, так как эти параметры логично выражаются только целыми числами. Аналогичным образом тип данных был изменён для столбцов floors_total, last_price, days_exposition, airports_nearest, cityCenters_nearest, parks_nearest и ponds_nearest — все они также были переведены в int64 после округления.\n",
    "\n",
    "Было обнаружено множество пропусков: более 11 500 в balcony, свыше 15 000 в parks_nearest и почти 14 600 в ponds_nearest, около 9 200 — в ceiling_height, более 5 500 — в airports_nearest, и почти 3 200 — в days_exposition. Часть из них невозможно корректно заменить, поэтому они были оставлены как сигнал отсутствующих данных. Пропуски могли возникнуть из-за ошибок сбора данных или отсутствия параметров у конкретных объектов (например, отсутствие балкона или парк далеко за пределами зоны учёта).\n",
    "\n",
    "В столбце locality_name были устранены неявные дубликаты: приведение к нижнему регистру, удаление лишних пробелов, замена буквы \"ё\" на \"е\", стандартизация названий вроде «посёлок» и «ж/д станция». Также были добавлены новые признаки: price_per_m (цена за квадратный метр), floor_type (тип этажа: первый, последний, другой, неизвестно), а также извлечены день недели, месяц и год из даты публикации. Расстояние до центра (cityCenters_nearest) переведено из метров в километры, округлено и преобразовано в int64.\n",
    "\n",
    "Распределения показали, что большинство квартир имеют общую площадь от 20 до 80 м², с пиком около 50 м²; жилая площадь — от 15 до 50 м²; кухня — 7–15 м²; цена — до 10 млн рублей; количество комнат — 1–3; высота потолков — от 2.3 до 3 м; расстояние до центра — от 5 до 15 км. После перехода на фильтрацию с сохранением строк с пропущенными значениями объём выборки составил 23348 записей из 23 699, что составляет примерно 99% от исходных данных. Это позволило сохранить большую часть информации, избежать искажения распределений и сделать более надёжные выводы на основе очищенного, но репрезентативного массива.\n",
    "\n",
    "В анализе длительности продажи установлено: медианное значение составляет 111 дней, а среднее — 198 дней, что указывает на наличие длинного \"хвоста\" в данных. Квартиры чаще всего продаются в пределах 100–150 дней. Зависимость между площадью, количеством комнат, этажом, кухней и временем продажи оказалась слабой или отсутствующей. Однако было замечено, что квартиры до 100 м² с 1–3 комнатами преобладают и продаются быстрее. Квартиры на этажах выше 10 встречаются реже и чаще продаются быстрее — вероятно, из-за ограниченного предложения.\n",
    "\n",
    "Зависимость между днём недели или месяцем публикации и сроком продажи отсутствует. При этом чётко прослеживается связь между годом размещения и временем экспозиции: в 2014 году квартиры продавались до 1500 дней, в 2019 — менее чем за 100 дней.\n",
    "\n",
    "При выделении 10 населённых пунктов с наибольшим количеством объявлений было выявлено, что цена за квадратный метр варьируется от 58 000 до 115 000 ₽. Максимальное значение — у Санкт-Петербурга, минимальное — у Выборга. Также наблюдается чёткая зависимость между расстоянием от центра Санкт-Петербурга и средней ценой квартиры: от 31 млн на нулевом километре до менее 5 млн на расстоянии 20 км и дальше. Это подтверждает, что местоположение остаётся ключевым фактором в формировании цены на недвижимость.\n",
    "\n",
    "Дополнительно было проанализировано распределение квартир по типу этажа в зависимости от расстояния до центра. Результаты показали, что в пределах 3–5 км преобладают квартиры на промежуточных этажах, тогда как на больших расстояниях возрастает доля первых и последних этажей. Это подтверждает архитектурные особенности застройки: в центре чаще многоквартирные дома с несколькими этажами, в отдалённых районах — малоэтажные здания. Такие закономерности могут объяснять наблюдаемые пики и провалы в распределении цен и количества объявлений по удалённости от центра. Эти выводы усиливают понимание структуры рынка и позволяют точнее интерпретировать динамику спроса и предложения."
   ]
  }
 ],
 "metadata": {
  "ExecuteTimeLog": [
   {
    "duration": 482,
    "start_time": "2025-04-02T10:58:15.776Z"
   },
   {
    "duration": 136,
    "start_time": "2025-04-02T10:58:29.510Z"
   },
   {
    "duration": 420,
    "start_time": "2025-04-02T10:59:52.808Z"
   },
   {
    "duration": 91,
    "start_time": "2025-04-02T11:01:03.721Z"
   },
   {
    "duration": 85,
    "start_time": "2025-04-02T11:01:53.263Z"
   },
   {
    "duration": 92,
    "start_time": "2025-04-02T11:02:01.599Z"
   },
   {
    "duration": 89,
    "start_time": "2025-04-02T11:02:40.127Z"
   },
   {
    "duration": 87,
    "start_time": "2025-04-02T11:02:56.704Z"
   },
   {
    "duration": 83,
    "start_time": "2025-04-02T11:03:26.316Z"
   },
   {
    "duration": 83,
    "start_time": "2025-04-02T11:03:52.223Z"
   },
   {
    "duration": 106,
    "start_time": "2025-04-02T11:05:22.662Z"
   },
   {
    "duration": 169,
    "start_time": "2025-04-02T11:05:51.669Z"
   },
   {
    "duration": 111,
    "start_time": "2025-04-02T11:06:02.828Z"
   },
   {
    "duration": 107,
    "start_time": "2025-04-02T11:06:18.534Z"
   },
   {
    "duration": 96,
    "start_time": "2025-04-02T11:06:45.999Z"
   },
   {
    "duration": 2327,
    "start_time": "2025-04-02T11:07:08.751Z"
   },
   {
    "duration": 2173,
    "start_time": "2025-04-02T11:07:25.988Z"
   },
   {
    "duration": 2276,
    "start_time": "2025-04-02T11:08:15.627Z"
   },
   {
    "duration": 2116,
    "start_time": "2025-04-02T11:11:25.722Z"
   },
   {
    "duration": 2352,
    "start_time": "2025-04-02T11:11:57.897Z"
   },
   {
    "duration": 31,
    "start_time": "2025-04-02T11:16:25.257Z"
   },
   {
    "duration": 11,
    "start_time": "2025-04-02T11:16:36.942Z"
   },
   {
    "duration": 17,
    "start_time": "2025-04-02T11:16:50.279Z"
   },
   {
    "duration": 11,
    "start_time": "2025-04-02T11:16:58.929Z"
   },
   {
    "duration": 35,
    "start_time": "2025-04-02T11:17:33.442Z"
   },
   {
    "duration": 11,
    "start_time": "2025-04-02T11:17:53.743Z"
   },
   {
    "duration": 13,
    "start_time": "2025-04-02T11:23:36.749Z"
   },
   {
    "duration": 13,
    "start_time": "2025-04-02T11:24:28.118Z"
   },
   {
    "duration": 12,
    "start_time": "2025-04-02T11:24:42.134Z"
   },
   {
    "duration": 14,
    "start_time": "2025-04-02T11:26:15.580Z"
   },
   {
    "duration": 12,
    "start_time": "2025-04-02T11:26:23.453Z"
   },
   {
    "duration": 26,
    "start_time": "2025-04-02T11:27:21.407Z"
   },
   {
    "duration": 12,
    "start_time": "2025-04-02T11:27:33.398Z"
   },
   {
    "duration": 12,
    "start_time": "2025-04-02T11:28:25.378Z"
   },
   {
    "duration": 29,
    "start_time": "2025-04-02T11:28:54.153Z"
   },
   {
    "duration": 6,
    "start_time": "2025-04-02T11:33:17.735Z"
   },
   {
    "duration": 27,
    "start_time": "2025-04-02T11:33:36.507Z"
   },
   {
    "duration": 2266,
    "start_time": "2025-04-02T11:41:03.450Z"
   },
   {
    "duration": 2268,
    "start_time": "2025-04-02T11:42:25.904Z"
   },
   {
    "duration": 25,
    "start_time": "2025-04-02T11:50:51.841Z"
   },
   {
    "duration": 1372,
    "start_time": "2025-04-02T11:53:24.530Z"
   },
   {
    "duration": 27,
    "start_time": "2025-04-02T11:53:44.472Z"
   },
   {
    "duration": 53,
    "start_time": "2025-04-02T11:55:27.917Z"
   },
   {
    "duration": 15,
    "start_time": "2025-04-02T11:58:10.344Z"
   },
   {
    "duration": 2772,
    "start_time": "2025-04-02T11:59:49.290Z"
   },
   {
    "duration": 9,
    "start_time": "2025-04-02T11:59:52.065Z"
   },
   {
    "duration": 61,
    "start_time": "2025-04-02T11:59:52.076Z"
   },
   {
    "duration": 79,
    "start_time": "2025-04-02T12:01:41.952Z"
   },
   {
    "duration": 2883,
    "start_time": "2025-04-02T12:01:50.875Z"
   },
   {
    "duration": 11,
    "start_time": "2025-04-02T12:01:53.760Z"
   },
   {
    "duration": 63,
    "start_time": "2025-04-02T12:01:53.773Z"
   },
   {
    "duration": 78,
    "start_time": "2025-04-02T12:10:31.290Z"
   },
   {
    "duration": 2914,
    "start_time": "2025-04-02T12:10:39.384Z"
   },
   {
    "duration": 10,
    "start_time": "2025-04-02T12:10:42.300Z"
   },
   {
    "duration": 28,
    "start_time": "2025-04-02T12:10:42.312Z"
   },
   {
    "duration": 78,
    "start_time": "2025-04-02T12:11:11.650Z"
   },
   {
    "duration": 2795,
    "start_time": "2025-04-02T12:11:17.815Z"
   },
   {
    "duration": 10,
    "start_time": "2025-04-02T12:11:20.612Z"
   },
   {
    "duration": 95,
    "start_time": "2025-04-02T12:11:20.623Z"
   },
   {
    "duration": 2966,
    "start_time": "2025-04-02T12:11:32.440Z"
   },
   {
    "duration": 12,
    "start_time": "2025-04-02T12:11:35.409Z"
   },
   {
    "duration": 105,
    "start_time": "2025-04-02T12:11:35.423Z"
   },
   {
    "duration": 2860,
    "start_time": "2025-04-02T12:11:53.695Z"
   },
   {
    "duration": 10,
    "start_time": "2025-04-02T12:11:56.557Z"
   },
   {
    "duration": 108,
    "start_time": "2025-04-02T12:11:56.569Z"
   },
   {
    "duration": 16,
    "start_time": "2025-04-02T12:12:09.419Z"
   },
   {
    "duration": 2959,
    "start_time": "2025-04-02T12:12:13.280Z"
   },
   {
    "duration": 11,
    "start_time": "2025-04-02T12:12:16.241Z"
   },
   {
    "duration": 97,
    "start_time": "2025-04-02T12:12:16.256Z"
   },
   {
    "duration": 2956,
    "start_time": "2025-04-02T12:12:42.524Z"
   },
   {
    "duration": 10,
    "start_time": "2025-04-02T12:12:45.482Z"
   },
   {
    "duration": 154,
    "start_time": "2025-04-02T12:12:45.494Z"
   },
   {
    "duration": 15,
    "start_time": "2025-04-02T12:13:07.397Z"
   },
   {
    "duration": 2850,
    "start_time": "2025-04-02T12:13:14.168Z"
   },
   {
    "duration": 10,
    "start_time": "2025-04-02T12:13:17.020Z"
   },
   {
    "duration": 31,
    "start_time": "2025-04-02T12:13:17.032Z"
   },
   {
    "duration": 85,
    "start_time": "2025-04-02T12:13:34.501Z"
   },
   {
    "duration": 2976,
    "start_time": "2025-04-02T12:13:39.024Z"
   },
   {
    "duration": 11,
    "start_time": "2025-04-02T12:13:42.002Z"
   },
   {
    "duration": 92,
    "start_time": "2025-04-02T12:13:42.014Z"
   },
   {
    "duration": 2812,
    "start_time": "2025-04-02T12:14:01.587Z"
   },
   {
    "duration": 11,
    "start_time": "2025-04-02T12:14:04.401Z"
   },
   {
    "duration": 28,
    "start_time": "2025-04-02T12:14:04.413Z"
   },
   {
    "duration": 3166,
    "start_time": "2025-04-04T10:24:33.279Z"
   },
   {
    "duration": 10,
    "start_time": "2025-04-04T10:24:36.448Z"
   },
   {
    "duration": 31,
    "start_time": "2025-04-04T10:24:36.459Z"
   },
   {
    "duration": 93,
    "start_time": "2025-04-04T10:28:26.271Z"
   },
   {
    "duration": 88,
    "start_time": "2025-04-04T10:28:49.102Z"
   },
   {
    "duration": 83,
    "start_time": "2025-04-04T10:29:08.644Z"
   },
   {
    "duration": 2002,
    "start_time": "2025-04-04T10:29:33.224Z"
   },
   {
    "duration": 10,
    "start_time": "2025-04-04T10:29:35.227Z"
   },
   {
    "duration": 42,
    "start_time": "2025-04-04T10:29:35.238Z"
   },
   {
    "duration": 2939,
    "start_time": "2025-04-04T10:35:44.394Z"
   },
   {
    "duration": 10,
    "start_time": "2025-04-04T10:35:47.335Z"
   },
   {
    "duration": 34,
    "start_time": "2025-04-04T10:35:47.347Z"
   },
   {
    "duration": 121,
    "start_time": "2025-04-04T10:36:42.365Z"
   },
   {
    "duration": 2602,
    "start_time": "2025-04-04T10:36:57.383Z"
   },
   {
    "duration": 9,
    "start_time": "2025-04-04T10:36:59.987Z"
   },
   {
    "duration": 41,
    "start_time": "2025-04-04T10:36:59.997Z"
   },
   {
    "duration": 80,
    "start_time": "2025-04-04T10:38:41.110Z"
   },
   {
    "duration": 2814,
    "start_time": "2025-04-04T10:38:47.583Z"
   },
   {
    "duration": 10,
    "start_time": "2025-04-04T10:38:50.399Z"
   },
   {
    "duration": 130,
    "start_time": "2025-04-04T10:38:50.411Z"
   },
   {
    "duration": 2860,
    "start_time": "2025-04-04T10:39:58.693Z"
   },
   {
    "duration": 11,
    "start_time": "2025-04-04T10:40:01.556Z"
   },
   {
    "duration": 58,
    "start_time": "2025-04-04T10:40:01.568Z"
   },
   {
    "duration": 77,
    "start_time": "2025-04-04T10:40:37.462Z"
   },
   {
    "duration": 2843,
    "start_time": "2025-04-04T10:40:53.962Z"
   },
   {
    "duration": 10,
    "start_time": "2025-04-04T10:40:56.807Z"
   },
   {
    "duration": 107,
    "start_time": "2025-04-04T10:40:56.819Z"
   },
   {
    "duration": 2781,
    "start_time": "2025-04-04T10:46:04.701Z"
   },
   {
    "duration": 9,
    "start_time": "2025-04-04T10:46:07.484Z"
   },
   {
    "duration": 58,
    "start_time": "2025-04-04T10:46:07.495Z"
   },
   {
    "duration": 2498,
    "start_time": "2025-04-04T10:49:27.631Z"
   },
   {
    "duration": 10,
    "start_time": "2025-04-04T10:49:30.131Z"
   },
   {
    "duration": 110,
    "start_time": "2025-04-04T10:49:30.142Z"
   },
   {
    "duration": 3074,
    "start_time": "2025-04-04T10:50:03.283Z"
   },
   {
    "duration": 11,
    "start_time": "2025-04-04T10:50:06.359Z"
   },
   {
    "duration": 130,
    "start_time": "2025-04-04T10:50:06.372Z"
   },
   {
    "duration": 2674,
    "start_time": "2025-04-04T10:51:30.259Z"
   },
   {
    "duration": 12,
    "start_time": "2025-04-04T10:51:32.936Z"
   },
   {
    "duration": 106,
    "start_time": "2025-04-04T10:51:32.950Z"
   },
   {
    "duration": 15,
    "start_time": "2025-04-04T10:51:47.713Z"
   },
   {
    "duration": 2611,
    "start_time": "2025-04-04T10:51:53.422Z"
   },
   {
    "duration": 10,
    "start_time": "2025-04-04T10:51:56.035Z"
   },
   {
    "duration": 107,
    "start_time": "2025-04-04T10:51:56.046Z"
   },
   {
    "duration": 3066,
    "start_time": "2025-04-05T08:57:44.834Z"
   },
   {
    "duration": 12,
    "start_time": "2025-04-05T08:57:47.902Z"
   },
   {
    "duration": 125,
    "start_time": "2025-04-05T08:57:47.917Z"
   },
   {
    "duration": 16,
    "start_time": "2025-04-05T09:14:42.713Z"
   },
   {
    "duration": 2896,
    "start_time": "2025-04-05T09:14:49.099Z"
   },
   {
    "duration": 10,
    "start_time": "2025-04-05T09:14:51.997Z"
   },
   {
    "duration": 103,
    "start_time": "2025-04-05T09:14:52.009Z"
   },
   {
    "duration": 3029,
    "start_time": "2025-04-05T09:19:22.514Z"
   },
   {
    "duration": 11,
    "start_time": "2025-04-05T09:19:25.545Z"
   },
   {
    "duration": 160,
    "start_time": "2025-04-05T09:19:25.559Z"
   },
   {
    "duration": 2852,
    "start_time": "2025-04-05T09:19:52.315Z"
   },
   {
    "duration": 11,
    "start_time": "2025-04-05T09:19:55.169Z"
   },
   {
    "duration": 71,
    "start_time": "2025-04-05T09:19:55.181Z"
   },
   {
    "duration": 85,
    "start_time": "2025-04-05T09:20:12.562Z"
   },
   {
    "duration": 2975,
    "start_time": "2025-04-05T09:20:18.008Z"
   },
   {
    "duration": 11,
    "start_time": "2025-04-05T09:20:20.985Z"
   },
   {
    "duration": 72,
    "start_time": "2025-04-05T09:20:20.998Z"
   },
   {
    "duration": 3058,
    "start_time": "2025-04-05T09:23:35.665Z"
   },
   {
    "duration": 12,
    "start_time": "2025-04-05T09:23:38.726Z"
   },
   {
    "duration": 80,
    "start_time": "2025-04-05T09:23:38.740Z"
   },
   {
    "duration": 2900,
    "start_time": "2025-04-05T09:23:57.460Z"
   },
   {
    "duration": 12,
    "start_time": "2025-04-05T09:24:00.363Z"
   },
   {
    "duration": 88,
    "start_time": "2025-04-05T09:24:00.377Z"
   },
   {
    "duration": 2969,
    "start_time": "2025-04-05T09:24:57.471Z"
   },
   {
    "duration": 10,
    "start_time": "2025-04-05T09:25:00.442Z"
   },
   {
    "duration": 123,
    "start_time": "2025-04-05T09:25:00.454Z"
   },
   {
    "duration": 2924,
    "start_time": "2025-04-05T09:25:59.316Z"
   },
   {
    "duration": 11,
    "start_time": "2025-04-05T09:26:02.242Z"
   },
   {
    "duration": 123,
    "start_time": "2025-04-05T09:26:02.254Z"
   },
   {
    "duration": 2998,
    "start_time": "2025-04-05T09:26:13.361Z"
   },
   {
    "duration": 10,
    "start_time": "2025-04-05T09:26:16.362Z"
   },
   {
    "duration": 92,
    "start_time": "2025-04-05T09:26:16.374Z"
   },
   {
    "duration": 2992,
    "start_time": "2025-04-05T09:26:35.776Z"
   },
   {
    "duration": 11,
    "start_time": "2025-04-05T09:26:38.770Z"
   },
   {
    "duration": 89,
    "start_time": "2025-04-05T09:26:38.783Z"
   },
   {
    "duration": 84,
    "start_time": "2025-04-05T09:31:01.313Z"
   },
   {
    "duration": 3173,
    "start_time": "2025-04-05T09:31:48.202Z"
   },
   {
    "duration": 11,
    "start_time": "2025-04-05T09:31:51.378Z"
   },
   {
    "duration": 134,
    "start_time": "2025-04-05T09:31:51.390Z"
   },
   {
    "duration": 2897,
    "start_time": "2025-04-05T09:32:40.526Z"
   },
   {
    "duration": 11,
    "start_time": "2025-04-05T09:32:43.425Z"
   },
   {
    "duration": 107,
    "start_time": "2025-04-05T09:32:43.438Z"
   },
   {
    "duration": 79,
    "start_time": "2025-04-05T09:53:39.724Z"
   },
   {
    "duration": 6,
    "start_time": "2025-04-05T09:54:40.117Z"
   },
   {
    "duration": 30,
    "start_time": "2025-04-05T09:54:48.730Z"
   },
   {
    "duration": 9,
    "start_time": "2025-04-05T09:55:06.212Z"
   },
   {
    "duration": 8,
    "start_time": "2025-04-05T09:57:18.833Z"
   },
   {
    "duration": 19,
    "start_time": "2025-04-05T09:59:30.101Z"
   },
   {
    "duration": 41,
    "start_time": "2025-04-05T09:59:52.534Z"
   },
   {
    "duration": 1107,
    "start_time": "2025-04-05T10:03:16.943Z"
   },
   {
    "duration": 1294,
    "start_time": "2025-04-05T10:03:35.869Z"
   },
   {
    "duration": 23,
    "start_time": "2025-04-05T10:03:45.998Z"
   },
   {
    "duration": 125,
    "start_time": "2025-04-05T10:03:57.286Z"
   },
   {
    "duration": 24,
    "start_time": "2025-04-05T10:05:26.576Z"
   },
   {
    "duration": 1004,
    "start_time": "2025-04-05T10:08:18.110Z"
   },
   {
    "duration": 40,
    "start_time": "2025-04-05T10:08:42.849Z"
   },
   {
    "duration": 92,
    "start_time": "2025-04-05T10:12:10.523Z"
   },
   {
    "duration": 30,
    "start_time": "2025-04-05T10:12:19.676Z"
   },
   {
    "duration": 30,
    "start_time": "2025-04-05T10:12:29.857Z"
   },
   {
    "duration": 1156,
    "start_time": "2025-04-05T10:12:39.989Z"
   },
   {
    "duration": 406,
    "start_time": "2025-04-05T10:12:50.771Z"
   },
   {
    "duration": 529,
    "start_time": "2025-04-05T10:14:05.933Z"
   },
   {
    "duration": 515,
    "start_time": "2025-04-05T10:15:03.255Z"
   },
   {
    "duration": 2891,
    "start_time": "2025-04-05T10:15:17.500Z"
   },
   {
    "duration": 12,
    "start_time": "2025-04-05T10:15:20.394Z"
   },
   {
    "duration": 112,
    "start_time": "2025-04-05T10:15:20.409Z"
   },
   {
    "duration": 506,
    "start_time": "2025-04-05T10:15:20.523Z"
   },
   {
    "duration": 632,
    "start_time": "2025-04-05T10:17:23.176Z"
   },
   {
    "duration": 1823,
    "start_time": "2025-04-05T10:22:35.862Z"
   },
   {
    "duration": 1479,
    "start_time": "2025-04-05T10:22:55.859Z"
   },
   {
    "duration": 546,
    "start_time": "2025-04-05T10:23:19.208Z"
   },
   {
    "duration": 504,
    "start_time": "2025-04-05T10:23:31.433Z"
   },
   {
    "duration": 527,
    "start_time": "2025-04-05T10:23:40.792Z"
   },
   {
    "duration": 575,
    "start_time": "2025-04-05T10:24:04.253Z"
   },
   {
    "duration": 562,
    "start_time": "2025-04-05T10:24:12.039Z"
   },
   {
    "duration": 2889,
    "start_time": "2025-04-05T10:25:54.746Z"
   },
   {
    "duration": 11,
    "start_time": "2025-04-05T10:25:57.637Z"
   },
   {
    "duration": 104,
    "start_time": "2025-04-05T10:25:57.649Z"
   },
   {
    "duration": 523,
    "start_time": "2025-04-05T10:25:57.755Z"
   },
   {
    "duration": 569,
    "start_time": "2025-04-05T10:26:32.241Z"
   },
   {
    "duration": 553,
    "start_time": "2025-04-05T10:26:40.526Z"
   },
   {
    "duration": 530,
    "start_time": "2025-04-05T10:26:47.527Z"
   },
   {
    "duration": 2928,
    "start_time": "2025-04-05T10:27:09.483Z"
   },
   {
    "duration": 13,
    "start_time": "2025-04-05T10:27:12.413Z"
   },
   {
    "duration": 125,
    "start_time": "2025-04-05T10:27:12.428Z"
   },
   {
    "duration": 511,
    "start_time": "2025-04-05T10:27:12.555Z"
   },
   {
    "duration": 566,
    "start_time": "2025-04-05T10:27:20.297Z"
   },
   {
    "duration": 2956,
    "start_time": "2025-04-05T10:27:57.419Z"
   },
   {
    "duration": 10,
    "start_time": "2025-04-05T10:28:00.377Z"
   },
   {
    "duration": 97,
    "start_time": "2025-04-05T10:28:00.389Z"
   },
   {
    "duration": 487,
    "start_time": "2025-04-05T10:28:00.488Z"
   },
   {
    "duration": 2920,
    "start_time": "2025-04-05T10:28:19.739Z"
   },
   {
    "duration": 14,
    "start_time": "2025-04-05T10:28:22.662Z"
   },
   {
    "duration": 114,
    "start_time": "2025-04-05T10:28:22.677Z"
   },
   {
    "duration": 481,
    "start_time": "2025-04-05T10:28:22.793Z"
   },
   {
    "duration": 2982,
    "start_time": "2025-04-05T10:43:22.721Z"
   },
   {
    "duration": 11,
    "start_time": "2025-04-05T10:43:25.705Z"
   },
   {
    "duration": 154,
    "start_time": "2025-04-05T10:43:25.718Z"
   },
   {
    "duration": 543,
    "start_time": "2025-04-05T10:43:25.873Z"
   },
   {
    "duration": 113,
    "start_time": "2025-04-05T10:43:40.230Z"
   },
   {
    "duration": 149,
    "start_time": "2025-04-05T10:44:00.338Z"
   },
   {
    "duration": 117,
    "start_time": "2025-04-05T10:44:09.780Z"
   },
   {
    "duration": 212,
    "start_time": "2025-04-05T10:44:15.718Z"
   },
   {
    "duration": 230,
    "start_time": "2025-04-05T10:44:24.599Z"
   },
   {
    "duration": 115,
    "start_time": "2025-04-05T10:44:33.799Z"
   },
   {
    "duration": 104,
    "start_time": "2025-04-05T10:44:40.024Z"
   },
   {
    "duration": 118,
    "start_time": "2025-04-05T10:44:51.355Z"
   },
   {
    "duration": 205,
    "start_time": "2025-04-05T10:45:43.203Z"
   },
   {
    "duration": 115,
    "start_time": "2025-04-05T10:45:58.320Z"
   },
   {
    "duration": 133,
    "start_time": "2025-04-05T10:46:52.094Z"
   },
   {
    "duration": 1068,
    "start_time": "2025-04-05T10:47:53.216Z"
   },
   {
    "duration": 80,
    "start_time": "2025-04-05T10:48:06.119Z"
   },
   {
    "duration": 224,
    "start_time": "2025-04-05T10:48:12.122Z"
   },
   {
    "duration": 268,
    "start_time": "2025-04-05T10:48:31.783Z"
   },
   {
    "duration": 341,
    "start_time": "2025-04-05T10:48:40.514Z"
   },
   {
    "duration": 475,
    "start_time": "2025-04-05T10:51:38.735Z"
   },
   {
    "duration": 12,
    "start_time": "2025-04-05T10:52:08.430Z"
   },
   {
    "duration": 14,
    "start_time": "2025-04-05T10:52:47.815Z"
   },
   {
    "duration": 873,
    "start_time": "2025-04-05T10:54:32.008Z"
   },
   {
    "duration": 957,
    "start_time": "2025-04-05T10:59:08.677Z"
   },
   {
    "duration": 14,
    "start_time": "2025-04-05T10:59:23.690Z"
   },
   {
    "duration": 2972,
    "start_time": "2025-04-05T10:59:34.643Z"
   },
   {
    "duration": 11,
    "start_time": "2025-04-05T10:59:37.617Z"
   },
   {
    "duration": 118,
    "start_time": "2025-04-05T10:59:37.629Z"
   },
   {
    "duration": 515,
    "start_time": "2025-04-05T10:59:37.749Z"
   },
   {
    "duration": 92,
    "start_time": "2025-04-05T10:59:38.266Z"
   },
   {
    "duration": 11,
    "start_time": "2025-04-05T10:59:54.272Z"
   },
   {
    "duration": 11,
    "start_time": "2025-04-05T11:00:21.805Z"
   },
   {
    "duration": 2948,
    "start_time": "2025-04-05T11:00:54.179Z"
   },
   {
    "duration": 12,
    "start_time": "2025-04-05T11:00:57.129Z"
   },
   {
    "duration": 106,
    "start_time": "2025-04-05T11:00:57.143Z"
   },
   {
    "duration": 528,
    "start_time": "2025-04-05T11:00:57.251Z"
   },
   {
    "duration": 1011,
    "start_time": "2025-04-05T11:00:57.782Z"
   },
   {
    "duration": 4,
    "start_time": "2025-04-05T11:02:28.586Z"
   },
   {
    "duration": 84,
    "start_time": "2025-04-05T11:02:43.902Z"
   },
   {
    "duration": 2926,
    "start_time": "2025-04-05T11:02:58.189Z"
   },
   {
    "duration": 10,
    "start_time": "2025-04-05T11:03:01.117Z"
   },
   {
    "duration": 120,
    "start_time": "2025-04-05T11:03:01.129Z"
   },
   {
    "duration": 513,
    "start_time": "2025-04-05T11:03:01.251Z"
   },
   {
    "duration": 93,
    "start_time": "2025-04-05T11:03:01.766Z"
   },
   {
    "duration": 17,
    "start_time": "2025-04-05T11:03:42.407Z"
   },
   {
    "duration": 49,
    "start_time": "2025-04-05T11:04:14.921Z"
   },
   {
    "duration": 4,
    "start_time": "2025-04-05T11:05:41.444Z"
   },
   {
    "duration": 1001,
    "start_time": "2025-04-05T11:05:52.639Z"
   },
   {
    "duration": 923,
    "start_time": "2025-04-05T11:06:07.598Z"
   },
   {
    "duration": 939,
    "start_time": "2025-04-05T11:06:16.134Z"
   },
   {
    "duration": 24,
    "start_time": "2025-04-05T11:06:49.225Z"
   },
   {
    "duration": 948,
    "start_time": "2025-04-05T11:07:13.519Z"
   },
   {
    "duration": 2977,
    "start_time": "2025-04-05T11:07:49.518Z"
   },
   {
    "duration": 11,
    "start_time": "2025-04-05T11:07:52.498Z"
   },
   {
    "duration": 112,
    "start_time": "2025-04-05T11:07:52.510Z"
   },
   {
    "duration": 518,
    "start_time": "2025-04-05T11:07:52.623Z"
   },
   {
    "duration": 1022,
    "start_time": "2025-04-05T11:07:53.144Z"
   },
   {
    "duration": 75,
    "start_time": "2025-04-05T11:10:54.719Z"
   },
   {
    "duration": 875,
    "start_time": "2025-04-05T11:11:04.762Z"
   },
   {
    "duration": 87,
    "start_time": "2025-04-05T11:11:49.677Z"
   },
   {
    "duration": 912,
    "start_time": "2025-04-05T11:11:57.040Z"
   },
   {
    "duration": 185,
    "start_time": "2025-04-05T11:17:49.573Z"
   },
   {
    "duration": 861,
    "start_time": "2025-04-05T11:19:08.226Z"
   },
   {
    "duration": 870,
    "start_time": "2025-04-05T11:20:31.555Z"
   },
   {
    "duration": 976,
    "start_time": "2025-04-05T11:21:45.323Z"
   },
   {
    "duration": 906,
    "start_time": "2025-04-05T11:23:23.353Z"
   },
   {
    "duration": 129,
    "start_time": "2025-04-05T11:48:32.449Z"
   },
   {
    "duration": 85,
    "start_time": "2025-04-05T11:49:33.996Z"
   },
   {
    "duration": 114,
    "start_time": "2025-04-05T11:49:40.556Z"
   },
   {
    "duration": 141,
    "start_time": "2025-04-05T11:49:49.383Z"
   },
   {
    "duration": 165,
    "start_time": "2025-04-05T11:49:56.196Z"
   },
   {
    "duration": 271,
    "start_time": "2025-04-05T11:55:12.952Z"
   },
   {
    "duration": 164,
    "start_time": "2025-04-05T12:07:27.099Z"
   },
   {
    "duration": 161,
    "start_time": "2025-04-05T12:08:34.189Z"
   },
   {
    "duration": 348,
    "start_time": "2025-04-05T12:09:50.779Z"
   },
   {
    "duration": 2860,
    "start_time": "2025-04-05T12:10:31.047Z"
   },
   {
    "duration": 12,
    "start_time": "2025-04-05T12:10:33.909Z"
   },
   {
    "duration": 112,
    "start_time": "2025-04-05T12:10:33.923Z"
   },
   {
    "duration": 506,
    "start_time": "2025-04-05T12:10:34.037Z"
   },
   {
    "duration": 972,
    "start_time": "2025-04-05T12:10:34.545Z"
   },
   {
    "duration": 2914,
    "start_time": "2025-04-05T12:11:19.894Z"
   },
   {
    "duration": 11,
    "start_time": "2025-04-05T12:11:22.810Z"
   },
   {
    "duration": 125,
    "start_time": "2025-04-05T12:11:22.823Z"
   },
   {
    "duration": 506,
    "start_time": "2025-04-05T12:11:22.950Z"
   },
   {
    "duration": 1066,
    "start_time": "2025-04-05T12:11:23.457Z"
   },
   {
    "duration": 237,
    "start_time": "2025-04-05T12:11:24.524Z"
   },
   {
    "duration": 293,
    "start_time": "2025-04-05T12:11:38.019Z"
   },
   {
    "duration": 304,
    "start_time": "2025-04-05T12:11:42.476Z"
   },
   {
    "duration": 2905,
    "start_time": "2025-04-05T12:12:07.222Z"
   },
   {
    "duration": 11,
    "start_time": "2025-04-05T12:12:10.129Z"
   },
   {
    "duration": 97,
    "start_time": "2025-04-05T12:12:10.141Z"
   },
   {
    "duration": 484,
    "start_time": "2025-04-05T12:12:10.240Z"
   },
   {
    "duration": 958,
    "start_time": "2025-04-05T12:12:10.726Z"
   },
   {
    "duration": 58196,
    "start_time": "2025-04-05T12:12:11.686Z"
   },
   {
    "duration": 340,
    "start_time": "2025-04-05T12:18:06.055Z"
   },
   {
    "duration": 1393,
    "start_time": "2025-04-05T12:20:07.185Z"
   },
   {
    "duration": 3002,
    "start_time": "2025-04-06T07:41:34.422Z"
   },
   {
    "duration": 10,
    "start_time": "2025-04-06T07:41:37.427Z"
   },
   {
    "duration": 99,
    "start_time": "2025-04-06T07:41:37.439Z"
   },
   {
    "duration": 463,
    "start_time": "2025-04-06T07:41:37.540Z"
   },
   {
    "duration": 935,
    "start_time": "2025-04-06T07:41:38.005Z"
   },
   {
    "duration": 1257,
    "start_time": "2025-04-06T07:41:38.941Z"
   },
   {
    "duration": 8,
    "start_time": "2025-04-06T08:34:17.348Z"
   },
   {
    "duration": 12,
    "start_time": "2025-04-06T08:34:58.733Z"
   },
   {
    "duration": 2998,
    "start_time": "2025-04-06T08:35:17.944Z"
   },
   {
    "duration": 14,
    "start_time": "2025-04-06T08:35:20.946Z"
   },
   {
    "duration": 120,
    "start_time": "2025-04-06T08:35:20.962Z"
   },
   {
    "duration": 511,
    "start_time": "2025-04-06T08:35:21.084Z"
   },
   {
    "duration": 1056,
    "start_time": "2025-04-06T08:35:21.597Z"
   },
   {
    "duration": 1393,
    "start_time": "2025-04-06T08:35:22.654Z"
   },
   {
    "duration": 7,
    "start_time": "2025-04-06T08:35:24.052Z"
   },
   {
    "duration": 78,
    "start_time": "2025-04-06T08:36:38.565Z"
   },
   {
    "duration": 3083,
    "start_time": "2025-04-06T08:36:59.521Z"
   },
   {
    "duration": 11,
    "start_time": "2025-04-06T08:37:02.606Z"
   },
   {
    "duration": 229,
    "start_time": "2025-04-06T08:37:02.618Z"
   },
   {
    "duration": 534,
    "start_time": "2025-04-06T08:37:02.849Z"
   },
   {
    "duration": 1041,
    "start_time": "2025-04-06T08:37:03.385Z"
   },
   {
    "duration": 1423,
    "start_time": "2025-04-06T08:37:04.427Z"
   },
   {
    "duration": 5,
    "start_time": "2025-04-06T08:37:05.853Z"
   },
   {
    "duration": 5,
    "start_time": "2025-04-06T08:37:38.385Z"
   },
   {
    "duration": 892,
    "start_time": "2025-04-06T08:38:52.431Z"
   },
   {
    "duration": 2941,
    "start_time": "2025-04-06T08:39:01.887Z"
   },
   {
    "duration": 18,
    "start_time": "2025-04-06T08:39:04.830Z"
   },
   {
    "duration": 136,
    "start_time": "2025-04-06T08:39:04.850Z"
   },
   {
    "duration": 514,
    "start_time": "2025-04-06T08:39:04.987Z"
   },
   {
    "duration": 1013,
    "start_time": "2025-04-06T08:39:05.503Z"
   },
   {
    "duration": 1813,
    "start_time": "2025-04-06T08:39:06.518Z"
   },
   {
    "duration": 15,
    "start_time": "2025-04-06T08:39:08.335Z"
   },
   {
    "duration": 11,
    "start_time": "2025-04-06T08:39:45.543Z"
   },
   {
    "duration": 84,
    "start_time": "2025-04-06T08:45:19.782Z"
   },
   {
    "duration": 21,
    "start_time": "2025-04-06T08:46:42.778Z"
   },
   {
    "duration": 28,
    "start_time": "2025-04-06T08:52:28.565Z"
   },
   {
    "duration": 2994,
    "start_time": "2025-04-06T08:52:37.930Z"
   },
   {
    "duration": 15,
    "start_time": "2025-04-06T08:52:40.926Z"
   },
   {
    "duration": 147,
    "start_time": "2025-04-06T08:52:40.943Z"
   },
   {
    "duration": 549,
    "start_time": "2025-04-06T08:52:41.092Z"
   },
   {
    "duration": 1007,
    "start_time": "2025-04-06T08:52:41.644Z"
   },
   {
    "duration": 1790,
    "start_time": "2025-04-06T08:52:42.654Z"
   },
   {
    "duration": 25,
    "start_time": "2025-04-06T08:52:44.445Z"
   },
   {
    "duration": 108,
    "start_time": "2025-04-06T08:52:44.472Z"
   },
   {
    "duration": 22,
    "start_time": "2025-04-06T08:53:12.945Z"
   },
   {
    "duration": 302,
    "start_time": "2025-04-06T08:54:15.878Z"
   },
   {
    "duration": 293,
    "start_time": "2025-04-06T08:54:37.349Z"
   },
   {
    "duration": 2942,
    "start_time": "2025-04-06T08:59:18.008Z"
   },
   {
    "duration": 10,
    "start_time": "2025-04-06T08:59:20.952Z"
   },
   {
    "duration": 142,
    "start_time": "2025-04-06T08:59:20.964Z"
   },
   {
    "duration": 522,
    "start_time": "2025-04-06T08:59:21.108Z"
   },
   {
    "duration": 1016,
    "start_time": "2025-04-06T08:59:21.631Z"
   },
   {
    "duration": 1771,
    "start_time": "2025-04-06T08:59:22.649Z"
   },
   {
    "duration": 33,
    "start_time": "2025-04-06T08:59:24.422Z"
   },
   {
    "duration": 324,
    "start_time": "2025-04-06T08:59:24.457Z"
   },
   {
    "duration": 1271,
    "start_time": "2025-04-06T09:06:53.987Z"
   },
   {
    "duration": 1056,
    "start_time": "2025-04-06T09:07:16.706Z"
   },
   {
    "duration": 974,
    "start_time": "2025-04-06T09:08:37.133Z"
   },
   {
    "duration": 1122,
    "start_time": "2025-04-06T09:09:28.097Z"
   },
   {
    "duration": 49,
    "start_time": "2025-04-06T09:09:39.328Z"
   },
   {
    "duration": 29,
    "start_time": "2025-04-06T09:11:05.030Z"
   },
   {
    "duration": 312,
    "start_time": "2025-04-06T09:11:40.280Z"
   },
   {
    "duration": 52,
    "start_time": "2025-04-06T09:33:59.548Z"
   },
   {
    "duration": 3072,
    "start_time": "2025-04-06T09:34:03.903Z"
   },
   {
    "duration": 10,
    "start_time": "2025-04-06T09:34:06.977Z"
   },
   {
    "duration": 26,
    "start_time": "2025-04-06T09:34:06.989Z"
   },
   {
    "duration": 269,
    "start_time": "2025-04-06T09:34:07.017Z"
   },
   {
    "duration": 149,
    "start_time": "2025-04-06T09:34:07.288Z"
   },
   {
    "duration": 10,
    "start_time": "2025-04-06T09:34:07.439Z"
   },
   {
    "duration": 514,
    "start_time": "2025-04-06T09:34:07.450Z"
   },
   {
    "duration": 1029,
    "start_time": "2025-04-06T09:34:07.966Z"
   },
   {
    "duration": 2682,
    "start_time": "2025-04-06T09:34:08.996Z"
   },
   {
    "duration": 22,
    "start_time": "2025-04-06T09:34:11.680Z"
   },
   {
    "duration": 364,
    "start_time": "2025-04-06T09:34:11.705Z"
   },
   {
    "duration": 11,
    "start_time": "2025-04-06T09:35:44.892Z"
   },
   {
    "duration": 17,
    "start_time": "2025-04-06T09:39:40.630Z"
   },
   {
    "duration": 55,
    "start_time": "2025-04-06T09:39:48.790Z"
   },
   {
    "duration": 3104,
    "start_time": "2025-04-06T09:46:12.983Z"
   },
   {
    "duration": 11,
    "start_time": "2025-04-06T09:46:16.089Z"
   },
   {
    "duration": 11,
    "start_time": "2025-04-06T09:46:16.102Z"
   },
   {
    "duration": 271,
    "start_time": "2025-04-06T09:46:16.114Z"
   },
   {
    "duration": 150,
    "start_time": "2025-04-06T09:46:16.388Z"
   },
   {
    "duration": 10,
    "start_time": "2025-04-06T09:46:16.540Z"
   },
   {
    "duration": 520,
    "start_time": "2025-04-06T09:46:16.551Z"
   },
   {
    "duration": 4,
    "start_time": "2025-04-06T09:46:17.073Z"
   },
   {
    "duration": 19,
    "start_time": "2025-04-06T09:46:17.079Z"
   },
   {
    "duration": 36,
    "start_time": "2025-04-06T09:46:17.099Z"
   },
   {
    "duration": 1059,
    "start_time": "2025-04-06T09:46:17.137Z"
   },
   {
    "duration": 18,
    "start_time": "2025-04-06T09:46:18.198Z"
   },
   {
    "duration": 72,
    "start_time": "2025-04-06T09:46:18.218Z"
   },
   {
    "duration": 258,
    "start_time": "2025-04-06T09:46:18.293Z"
   },
   {
    "duration": 10,
    "start_time": "2025-04-06T09:46:18.553Z"
   },
   {
    "duration": 7,
    "start_time": "2025-04-06T09:46:18.565Z"
   },
   {
    "duration": 350,
    "start_time": "2025-04-06T09:46:18.573Z"
   },
   {
    "duration": 344,
    "start_time": "2025-04-06T09:46:18.925Z"
   },
   {
    "duration": 169,
    "start_time": "2025-04-06T09:46:19.271Z"
   },
   {
    "duration": 178,
    "start_time": "2025-04-06T09:46:19.443Z"
   },
   {
    "duration": 62,
    "start_time": "2025-04-06T09:46:19.623Z"
   },
   {
    "duration": 1889,
    "start_time": "2025-04-06T09:46:19.688Z"
   },
   {
    "duration": 20,
    "start_time": "2025-04-06T09:46:21.579Z"
   },
   {
    "duration": 329,
    "start_time": "2025-04-06T09:46:21.601Z"
   },
   {
    "duration": 2751,
    "start_time": "2025-04-07T06:30:29.228Z"
   },
   {
    "duration": 9,
    "start_time": "2025-04-07T06:30:31.980Z"
   },
   {
    "duration": 26,
    "start_time": "2025-04-07T06:30:31.991Z"
   },
   {
    "duration": 230,
    "start_time": "2025-04-07T06:30:32.020Z"
   },
   {
    "duration": 125,
    "start_time": "2025-04-07T06:30:32.252Z"
   },
   {
    "duration": 14,
    "start_time": "2025-04-07T06:30:32.379Z"
   },
   {
    "duration": 456,
    "start_time": "2025-04-07T06:30:32.394Z"
   },
   {
    "duration": 3,
    "start_time": "2025-04-07T06:30:32.852Z"
   },
   {
    "duration": 5,
    "start_time": "2025-04-07T06:30:32.862Z"
   },
   {
    "duration": 18,
    "start_time": "2025-04-07T06:30:32.869Z"
   },
   {
    "duration": 922,
    "start_time": "2025-04-07T06:30:32.888Z"
   },
   {
    "duration": 15,
    "start_time": "2025-04-07T06:30:33.811Z"
   },
   {
    "duration": 64,
    "start_time": "2025-04-07T06:30:33.827Z"
   },
   {
    "duration": 291,
    "start_time": "2025-04-07T06:30:33.893Z"
   },
   {
    "duration": 8,
    "start_time": "2025-04-07T06:30:34.186Z"
   },
   {
    "duration": 5,
    "start_time": "2025-04-07T06:30:34.195Z"
   },
   {
    "duration": 320,
    "start_time": "2025-04-07T06:30:34.202Z"
   },
   {
    "duration": 324,
    "start_time": "2025-04-07T06:30:34.524Z"
   },
   {
    "duration": 139,
    "start_time": "2025-04-07T06:30:34.850Z"
   },
   {
    "duration": 206,
    "start_time": "2025-04-07T06:30:34.991Z"
   },
   {
    "duration": 81,
    "start_time": "2025-04-07T06:30:35.198Z"
   },
   {
    "duration": 1535,
    "start_time": "2025-04-07T06:30:35.280Z"
   },
   {
    "duration": 15,
    "start_time": "2025-04-07T06:30:36.816Z"
   },
   {
    "duration": 302,
    "start_time": "2025-04-07T06:30:36.832Z"
   },
   {
    "duration": 2,
    "start_time": "2025-04-07T07:49:29.073Z"
   },
   {
    "duration": 159,
    "start_time": "2025-04-07T07:49:29.604Z"
   },
   {
    "duration": 1794,
    "start_time": "2025-04-07T07:49:30.739Z"
   },
   {
    "duration": 4,
    "start_time": "2025-04-07T07:50:53.767Z"
   },
   {
    "duration": 224,
    "start_time": "2025-04-07T07:50:54.157Z"
   },
   {
    "duration": 113,
    "start_time": "2025-04-07T07:59:33.690Z"
   },
   {
    "duration": 79,
    "start_time": "2025-04-07T08:01:05.910Z"
   },
   {
    "duration": 115,
    "start_time": "2025-04-07T08:01:21.673Z"
   },
   {
    "duration": 84,
    "start_time": "2025-04-07T08:01:36.478Z"
   },
   {
    "duration": 72,
    "start_time": "2025-04-07T08:01:39.726Z"
   },
   {
    "duration": 395,
    "start_time": "2025-04-07T08:01:57.562Z"
   },
   {
    "duration": 176,
    "start_time": "2025-04-07T08:01:57.959Z"
   },
   {
    "duration": 2023,
    "start_time": "2025-04-07T08:01:58.136Z"
   },
   {
    "duration": 9,
    "start_time": "2025-04-07T08:02:00.160Z"
   },
   {
    "duration": 28,
    "start_time": "2025-04-07T08:02:00.171Z"
   },
   {
    "duration": 242,
    "start_time": "2025-04-07T08:02:00.200Z"
   },
   {
    "duration": 122,
    "start_time": "2025-04-07T08:02:00.443Z"
   },
   {
    "duration": 9,
    "start_time": "2025-04-07T08:02:00.566Z"
   },
   {
    "duration": 479,
    "start_time": "2025-04-07T08:02:00.576Z"
   },
   {
    "duration": 6,
    "start_time": "2025-04-07T08:02:01.056Z"
   },
   {
    "duration": 90,
    "start_time": "2025-04-07T08:02:01.063Z"
   },
   {
    "duration": 29,
    "start_time": "2025-04-07T08:02:01.154Z"
   },
   {
    "duration": 878,
    "start_time": "2025-04-07T08:02:01.184Z"
   },
   {
    "duration": 16,
    "start_time": "2025-04-07T08:02:02.064Z"
   },
   {
    "duration": 85,
    "start_time": "2025-04-07T08:02:02.082Z"
   },
   {
    "duration": 237,
    "start_time": "2025-04-07T08:02:02.168Z"
   },
   {
    "duration": 8,
    "start_time": "2025-04-07T08:02:02.406Z"
   },
   {
    "duration": 3,
    "start_time": "2025-04-07T08:02:02.415Z"
   },
   {
    "duration": 298,
    "start_time": "2025-04-07T08:02:02.420Z"
   },
   {
    "duration": 272,
    "start_time": "2025-04-07T08:02:02.719Z"
   },
   {
    "duration": 131,
    "start_time": "2025-04-07T08:02:02.992Z"
   },
   {
    "duration": 156,
    "start_time": "2025-04-07T08:02:03.124Z"
   },
   {
    "duration": 44,
    "start_time": "2025-04-07T08:02:03.281Z"
   },
   {
    "duration": 1515,
    "start_time": "2025-04-07T08:02:03.326Z"
   },
   {
    "duration": 24,
    "start_time": "2025-04-07T08:02:04.843Z"
   },
   {
    "duration": 315,
    "start_time": "2025-04-07T08:02:04.868Z"
   },
   {
    "duration": 73,
    "start_time": "2025-04-07T08:08:21.455Z"
   },
   {
    "duration": 344,
    "start_time": "2025-04-07T08:08:28.112Z"
   },
   {
    "duration": 165,
    "start_time": "2025-04-07T08:08:28.458Z"
   },
   {
    "duration": 1991,
    "start_time": "2025-04-07T08:08:28.624Z"
   },
   {
    "duration": 8,
    "start_time": "2025-04-07T08:08:30.617Z"
   },
   {
    "duration": 5,
    "start_time": "2025-04-07T08:08:30.627Z"
   },
   {
    "duration": 214,
    "start_time": "2025-04-07T08:08:30.634Z"
   },
   {
    "duration": 89,
    "start_time": "2025-04-07T08:08:30.850Z"
   },
   {
    "duration": 1,
    "start_time": "2025-04-07T08:08:30.941Z"
   },
   {
    "duration": 0,
    "start_time": "2025-04-07T08:08:30.942Z"
   },
   {
    "duration": 0,
    "start_time": "2025-04-07T08:08:30.944Z"
   },
   {
    "duration": 0,
    "start_time": "2025-04-07T08:08:30.945Z"
   },
   {
    "duration": 0,
    "start_time": "2025-04-07T08:08:30.962Z"
   },
   {
    "duration": 0,
    "start_time": "2025-04-07T08:08:30.963Z"
   },
   {
    "duration": 0,
    "start_time": "2025-04-07T08:08:30.964Z"
   },
   {
    "duration": 0,
    "start_time": "2025-04-07T08:08:30.964Z"
   },
   {
    "duration": 0,
    "start_time": "2025-04-07T08:08:30.965Z"
   },
   {
    "duration": 0,
    "start_time": "2025-04-07T08:08:30.966Z"
   },
   {
    "duration": 0,
    "start_time": "2025-04-07T08:08:30.967Z"
   },
   {
    "duration": 0,
    "start_time": "2025-04-07T08:08:30.968Z"
   },
   {
    "duration": 0,
    "start_time": "2025-04-07T08:08:30.969Z"
   },
   {
    "duration": 0,
    "start_time": "2025-04-07T08:08:30.969Z"
   },
   {
    "duration": 1,
    "start_time": "2025-04-07T08:08:30.970Z"
   },
   {
    "duration": 0,
    "start_time": "2025-04-07T08:08:30.971Z"
   },
   {
    "duration": 0,
    "start_time": "2025-04-07T08:08:30.972Z"
   },
   {
    "duration": 0,
    "start_time": "2025-04-07T08:08:30.973Z"
   },
   {
    "duration": 0,
    "start_time": "2025-04-07T08:08:30.974Z"
   },
   {
    "duration": 340,
    "start_time": "2025-04-07T08:09:04.914Z"
   },
   {
    "duration": 162,
    "start_time": "2025-04-07T08:09:05.255Z"
   },
   {
    "duration": 2008,
    "start_time": "2025-04-07T08:09:05.419Z"
   },
   {
    "duration": 11,
    "start_time": "2025-04-07T08:09:07.429Z"
   },
   {
    "duration": 4,
    "start_time": "2025-04-07T08:09:07.442Z"
   },
   {
    "duration": 206,
    "start_time": "2025-04-07T08:09:07.447Z"
   },
   {
    "duration": 117,
    "start_time": "2025-04-07T08:09:07.655Z"
   },
   {
    "duration": 8,
    "start_time": "2025-04-07T08:09:07.774Z"
   },
   {
    "duration": 470,
    "start_time": "2025-04-07T08:09:07.783Z"
   },
   {
    "duration": 8,
    "start_time": "2025-04-07T08:09:08.255Z"
   },
   {
    "duration": 14,
    "start_time": "2025-04-07T08:09:08.264Z"
   },
   {
    "duration": 17,
    "start_time": "2025-04-07T08:09:08.279Z"
   },
   {
    "duration": 873,
    "start_time": "2025-04-07T08:09:08.297Z"
   },
   {
    "duration": 15,
    "start_time": "2025-04-07T08:09:09.171Z"
   },
   {
    "duration": 46,
    "start_time": "2025-04-07T08:09:09.187Z"
   },
   {
    "duration": 227,
    "start_time": "2025-04-07T08:09:09.234Z"
   },
   {
    "duration": 7,
    "start_time": "2025-04-07T08:09:09.463Z"
   },
   {
    "duration": 5,
    "start_time": "2025-04-07T08:09:09.471Z"
   },
   {
    "duration": 292,
    "start_time": "2025-04-07T08:09:09.478Z"
   },
   {
    "duration": 293,
    "start_time": "2025-04-07T08:09:09.771Z"
   },
   {
    "duration": 146,
    "start_time": "2025-04-07T08:09:10.066Z"
   },
   {
    "duration": 136,
    "start_time": "2025-04-07T08:09:10.213Z"
   },
   {
    "duration": 49,
    "start_time": "2025-04-07T08:09:10.351Z"
   },
   {
    "duration": 1482,
    "start_time": "2025-04-07T08:09:10.401Z"
   },
   {
    "duration": 15,
    "start_time": "2025-04-07T08:09:11.885Z"
   },
   {
    "duration": 266,
    "start_time": "2025-04-07T08:09:11.901Z"
   },
   {
    "duration": 72,
    "start_time": "2025-04-07T08:10:55.986Z"
   },
   {
    "duration": 345,
    "start_time": "2025-04-07T08:11:01.710Z"
   },
   {
    "duration": 160,
    "start_time": "2025-04-07T08:11:02.057Z"
   },
   {
    "duration": 2028,
    "start_time": "2025-04-07T08:11:02.219Z"
   },
   {
    "duration": 10,
    "start_time": "2025-04-07T08:11:04.249Z"
   },
   {
    "duration": 15,
    "start_time": "2025-04-07T08:11:04.261Z"
   },
   {
    "duration": 235,
    "start_time": "2025-04-07T08:11:04.278Z"
   },
   {
    "duration": 115,
    "start_time": "2025-04-07T08:11:04.514Z"
   },
   {
    "duration": 8,
    "start_time": "2025-04-07T08:11:04.630Z"
   },
   {
    "duration": 450,
    "start_time": "2025-04-07T08:11:04.639Z"
   },
   {
    "duration": 3,
    "start_time": "2025-04-07T08:11:05.092Z"
   },
   {
    "duration": 107,
    "start_time": "2025-04-07T08:11:05.097Z"
   },
   {
    "duration": 7,
    "start_time": "2025-04-07T08:11:05.206Z"
   },
   {
    "duration": 824,
    "start_time": "2025-04-07T08:11:05.215Z"
   },
   {
    "duration": 24,
    "start_time": "2025-04-07T08:11:06.041Z"
   },
   {
    "duration": 121,
    "start_time": "2025-04-07T08:11:06.067Z"
   },
   {
    "duration": 212,
    "start_time": "2025-04-07T08:11:06.190Z"
   },
   {
    "duration": 6,
    "start_time": "2025-04-07T08:11:06.404Z"
   },
   {
    "duration": 34,
    "start_time": "2025-04-07T08:11:06.412Z"
   },
   {
    "duration": 279,
    "start_time": "2025-04-07T08:11:06.448Z"
   },
   {
    "duration": 285,
    "start_time": "2025-04-07T08:11:06.728Z"
   },
   {
    "duration": 137,
    "start_time": "2025-04-07T08:11:07.015Z"
   },
   {
    "duration": 135,
    "start_time": "2025-04-07T08:11:07.161Z"
   },
   {
    "duration": 42,
    "start_time": "2025-04-07T08:11:07.297Z"
   },
   {
    "duration": 1579,
    "start_time": "2025-04-07T08:11:07.340Z"
   },
   {
    "duration": 17,
    "start_time": "2025-04-07T08:11:08.920Z"
   },
   {
    "duration": 286,
    "start_time": "2025-04-07T08:11:08.938Z"
   },
   {
    "duration": 3,
    "start_time": "2025-04-07T08:16:53.620Z"
   },
   {
    "duration": 446,
    "start_time": "2025-04-07T08:16:54.834Z"
   },
   {
    "duration": 528,
    "start_time": "2025-04-07T08:17:15.570Z"
   },
   {
    "duration": 472,
    "start_time": "2025-04-07T08:17:38.483Z"
   },
   {
    "duration": 488,
    "start_time": "2025-04-07T08:18:23.262Z"
   },
   {
    "duration": 501,
    "start_time": "2025-04-07T08:19:33.990Z"
   },
   {
    "duration": 439,
    "start_time": "2025-04-07T08:19:40.349Z"
   },
   {
    "duration": 93,
    "start_time": "2025-04-07T08:19:51.769Z"
   },
   {
    "duration": 548,
    "start_time": "2025-04-07T08:19:57.576Z"
   },
   {
    "duration": 437,
    "start_time": "2025-04-07T08:20:04.904Z"
   },
   {
    "duration": 436,
    "start_time": "2025-04-07T08:20:26.967Z"
   },
   {
    "duration": 3,
    "start_time": "2025-04-07T08:22:59.756Z"
   },
   {
    "duration": 605,
    "start_time": "2025-04-07T08:23:01.796Z"
   },
   {
    "duration": 17,
    "start_time": "2025-04-07T08:25:27.770Z"
   },
   {
    "duration": 390,
    "start_time": "2025-04-07T18:37:28.271Z"
   },
   {
    "duration": 199,
    "start_time": "2025-04-07T18:37:28.662Z"
   },
   {
    "duration": 2470,
    "start_time": "2025-04-07T18:37:28.863Z"
   },
   {
    "duration": 11,
    "start_time": "2025-04-07T18:37:31.335Z"
   },
   {
    "duration": 19,
    "start_time": "2025-04-07T18:37:31.348Z"
   },
   {
    "duration": 259,
    "start_time": "2025-04-07T18:37:31.369Z"
   },
   {
    "duration": 160,
    "start_time": "2025-04-07T18:37:31.629Z"
   },
   {
    "duration": 10,
    "start_time": "2025-04-07T18:37:31.792Z"
   },
   {
    "duration": 97,
    "start_time": "2025-04-07T18:37:31.803Z"
   },
   {
    "duration": 659,
    "start_time": "2025-04-07T18:37:31.902Z"
   },
   {
    "duration": 3,
    "start_time": "2025-04-07T18:37:32.564Z"
   },
   {
    "duration": 49,
    "start_time": "2025-04-07T18:37:32.569Z"
   },
   {
    "duration": 6,
    "start_time": "2025-04-07T18:37:32.620Z"
   },
   {
    "duration": 1064,
    "start_time": "2025-04-07T18:37:32.628Z"
   },
   {
    "duration": 17,
    "start_time": "2025-04-07T18:37:33.694Z"
   },
   {
    "duration": 71,
    "start_time": "2025-04-07T18:37:33.713Z"
   },
   {
    "duration": 223,
    "start_time": "2025-04-07T18:37:33.786Z"
   },
   {
    "duration": 9,
    "start_time": "2025-04-07T18:37:34.011Z"
   },
   {
    "duration": 11,
    "start_time": "2025-04-07T18:37:34.021Z"
   },
   {
    "duration": 329,
    "start_time": "2025-04-07T18:37:34.033Z"
   },
   {
    "duration": 358,
    "start_time": "2025-04-07T18:37:34.364Z"
   },
   {
    "duration": 152,
    "start_time": "2025-04-07T18:37:34.723Z"
   },
   {
    "duration": 164,
    "start_time": "2025-04-07T18:37:34.877Z"
   },
   {
    "duration": 49,
    "start_time": "2025-04-07T18:37:35.043Z"
   },
   {
    "duration": 1748,
    "start_time": "2025-04-07T18:37:35.094Z"
   },
   {
    "duration": 20,
    "start_time": "2025-04-07T18:37:36.843Z"
   },
   {
    "duration": 319,
    "start_time": "2025-04-07T18:37:36.864Z"
   },
   {
    "duration": 375,
    "start_time": "2025-04-08T09:09:56.656Z"
   },
   {
    "duration": 185,
    "start_time": "2025-04-08T09:09:57.033Z"
   },
   {
    "duration": 2557,
    "start_time": "2025-04-08T09:09:57.220Z"
   },
   {
    "duration": 10,
    "start_time": "2025-04-08T09:09:59.779Z"
   },
   {
    "duration": 26,
    "start_time": "2025-04-08T09:09:59.791Z"
   },
   {
    "duration": 255,
    "start_time": "2025-04-08T09:09:59.819Z"
   },
   {
    "duration": 138,
    "start_time": "2025-04-08T09:10:00.076Z"
   },
   {
    "duration": 10,
    "start_time": "2025-04-08T09:10:00.216Z"
   },
   {
    "duration": 108,
    "start_time": "2025-04-08T09:10:00.227Z"
   },
   {
    "duration": 696,
    "start_time": "2025-04-08T09:10:00.338Z"
   },
   {
    "duration": 4,
    "start_time": "2025-04-08T09:10:01.036Z"
   },
   {
    "duration": 13,
    "start_time": "2025-04-08T09:10:01.041Z"
   },
   {
    "duration": 8,
    "start_time": "2025-04-08T09:10:01.056Z"
   },
   {
    "duration": 1031,
    "start_time": "2025-04-08T09:10:01.066Z"
   },
   {
    "duration": 19,
    "start_time": "2025-04-08T09:10:02.099Z"
   },
   {
    "duration": 77,
    "start_time": "2025-04-08T09:10:02.120Z"
   },
   {
    "duration": 372,
    "start_time": "2025-04-08T09:10:02.199Z"
   },
   {
    "duration": 8,
    "start_time": "2025-04-08T09:10:02.573Z"
   },
   {
    "duration": 27,
    "start_time": "2025-04-08T09:10:02.582Z"
   },
   {
    "duration": 331,
    "start_time": "2025-04-08T09:10:02.611Z"
   },
   {
    "duration": 331,
    "start_time": "2025-04-08T09:10:02.944Z"
   },
   {
    "duration": 163,
    "start_time": "2025-04-08T09:10:03.276Z"
   },
   {
    "duration": 240,
    "start_time": "2025-04-08T09:10:03.441Z"
   },
   {
    "duration": 62,
    "start_time": "2025-04-08T09:10:03.683Z"
   },
   {
    "duration": 1688,
    "start_time": "2025-04-08T09:10:03.747Z"
   },
   {
    "duration": 20,
    "start_time": "2025-04-08T09:10:05.436Z"
   },
   {
    "duration": 371,
    "start_time": "2025-04-08T09:10:05.457Z"
   },
   {
    "duration": 979,
    "start_time": "2025-04-08T15:09:23.599Z"
   },
   {
    "duration": 229,
    "start_time": "2025-04-08T15:09:24.580Z"
   },
   {
    "duration": 0,
    "start_time": "2025-04-08T15:09:24.812Z"
   },
   {
    "duration": 0,
    "start_time": "2025-04-08T15:09:24.813Z"
   },
   {
    "duration": 0,
    "start_time": "2025-04-08T15:09:24.814Z"
   },
   {
    "duration": 0,
    "start_time": "2025-04-08T15:09:24.815Z"
   },
   {
    "duration": 0,
    "start_time": "2025-04-08T15:09:24.816Z"
   },
   {
    "duration": 0,
    "start_time": "2025-04-08T15:09:24.836Z"
   },
   {
    "duration": 0,
    "start_time": "2025-04-08T15:09:24.838Z"
   },
   {
    "duration": 0,
    "start_time": "2025-04-08T15:09:24.839Z"
   },
   {
    "duration": 0,
    "start_time": "2025-04-08T15:09:24.840Z"
   },
   {
    "duration": 0,
    "start_time": "2025-04-08T15:09:24.841Z"
   },
   {
    "duration": 0,
    "start_time": "2025-04-08T15:09:24.842Z"
   },
   {
    "duration": 0,
    "start_time": "2025-04-08T15:09:24.843Z"
   },
   {
    "duration": 0,
    "start_time": "2025-04-08T15:09:24.844Z"
   },
   {
    "duration": 0,
    "start_time": "2025-04-08T15:09:24.845Z"
   },
   {
    "duration": 0,
    "start_time": "2025-04-08T15:09:24.846Z"
   },
   {
    "duration": 0,
    "start_time": "2025-04-08T15:09:24.847Z"
   },
   {
    "duration": 0,
    "start_time": "2025-04-08T15:09:24.848Z"
   },
   {
    "duration": 0,
    "start_time": "2025-04-08T15:09:24.849Z"
   },
   {
    "duration": 0,
    "start_time": "2025-04-08T15:09:24.850Z"
   },
   {
    "duration": 0,
    "start_time": "2025-04-08T15:09:24.851Z"
   },
   {
    "duration": 0,
    "start_time": "2025-04-08T15:09:24.852Z"
   },
   {
    "duration": 0,
    "start_time": "2025-04-08T15:09:24.853Z"
   },
   {
    "duration": 0,
    "start_time": "2025-04-08T15:09:24.854Z"
   },
   {
    "duration": 0,
    "start_time": "2025-04-08T15:09:24.855Z"
   },
   {
    "duration": 0,
    "start_time": "2025-04-08T15:09:24.856Z"
   },
   {
    "duration": 0,
    "start_time": "2025-04-08T15:09:24.857Z"
   },
   {
    "duration": 0,
    "start_time": "2025-04-08T15:09:24.858Z"
   },
   {
    "duration": 0,
    "start_time": "2025-04-08T15:09:24.859Z"
   },
   {
    "duration": 0,
    "start_time": "2025-04-08T15:09:24.861Z"
   },
   {
    "duration": 0,
    "start_time": "2025-04-08T15:09:24.862Z"
   },
   {
    "duration": 0,
    "start_time": "2025-04-08T15:09:24.863Z"
   },
   {
    "duration": 0,
    "start_time": "2025-04-08T15:09:24.863Z"
   },
   {
    "duration": 0,
    "start_time": "2025-04-08T15:09:24.865Z"
   },
   {
    "duration": 0,
    "start_time": "2025-04-08T15:09:24.865Z"
   },
   {
    "duration": 0,
    "start_time": "2025-04-08T15:09:24.867Z"
   },
   {
    "duration": 0,
    "start_time": "2025-04-08T15:09:24.868Z"
   },
   {
    "duration": 0,
    "start_time": "2025-04-08T15:09:24.869Z"
   },
   {
    "duration": 0,
    "start_time": "2025-04-08T15:09:24.870Z"
   },
   {
    "duration": 0,
    "start_time": "2025-04-08T15:09:24.871Z"
   },
   {
    "duration": 0,
    "start_time": "2025-04-08T15:09:24.936Z"
   },
   {
    "duration": 0,
    "start_time": "2025-04-08T15:09:24.937Z"
   },
   {
    "duration": 0,
    "start_time": "2025-04-08T15:09:24.938Z"
   },
   {
    "duration": 0,
    "start_time": "2025-04-08T15:09:24.940Z"
   },
   {
    "duration": 0,
    "start_time": "2025-04-08T15:09:24.941Z"
   },
   {
    "duration": 0,
    "start_time": "2025-04-08T15:09:24.942Z"
   },
   {
    "duration": 0,
    "start_time": "2025-04-08T15:09:24.943Z"
   },
   {
    "duration": 0,
    "start_time": "2025-04-08T15:09:24.944Z"
   },
   {
    "duration": 89,
    "start_time": "2025-04-08T15:10:22.675Z"
   },
   {
    "duration": 85,
    "start_time": "2025-04-08T15:10:26.266Z"
   },
   {
    "duration": 89,
    "start_time": "2025-04-08T15:10:27.231Z"
   },
   {
    "duration": 606,
    "start_time": "2025-04-08T15:10:32.795Z"
   },
   {
    "duration": 90,
    "start_time": "2025-04-08T15:10:33.405Z"
   },
   {
    "duration": 100,
    "start_time": "2025-04-08T15:10:33.497Z"
   },
   {
    "duration": 77,
    "start_time": "2025-04-08T15:10:33.600Z"
   },
   {
    "duration": 0,
    "start_time": "2025-04-08T15:10:33.680Z"
   },
   {
    "duration": 0,
    "start_time": "2025-04-08T15:10:33.682Z"
   },
   {
    "duration": 0,
    "start_time": "2025-04-08T15:10:33.683Z"
   },
   {
    "duration": 0,
    "start_time": "2025-04-08T15:10:33.684Z"
   },
   {
    "duration": 0,
    "start_time": "2025-04-08T15:10:33.685Z"
   },
   {
    "duration": 0,
    "start_time": "2025-04-08T15:10:33.686Z"
   },
   {
    "duration": 0,
    "start_time": "2025-04-08T15:10:33.687Z"
   },
   {
    "duration": 0,
    "start_time": "2025-04-08T15:10:33.688Z"
   },
   {
    "duration": 0,
    "start_time": "2025-04-08T15:10:33.689Z"
   },
   {
    "duration": 0,
    "start_time": "2025-04-08T15:10:33.690Z"
   },
   {
    "duration": 0,
    "start_time": "2025-04-08T15:10:33.691Z"
   },
   {
    "duration": 0,
    "start_time": "2025-04-08T15:10:33.693Z"
   },
   {
    "duration": 0,
    "start_time": "2025-04-08T15:10:33.693Z"
   },
   {
    "duration": 0,
    "start_time": "2025-04-08T15:10:33.694Z"
   },
   {
    "duration": 0,
    "start_time": "2025-04-08T15:10:33.695Z"
   },
   {
    "duration": 0,
    "start_time": "2025-04-08T15:10:33.696Z"
   },
   {
    "duration": 0,
    "start_time": "2025-04-08T15:10:33.697Z"
   },
   {
    "duration": 0,
    "start_time": "2025-04-08T15:10:33.698Z"
   },
   {
    "duration": 0,
    "start_time": "2025-04-08T15:10:33.699Z"
   },
   {
    "duration": 0,
    "start_time": "2025-04-08T15:10:33.700Z"
   },
   {
    "duration": 0,
    "start_time": "2025-04-08T15:10:33.701Z"
   },
   {
    "duration": 0,
    "start_time": "2025-04-08T15:10:33.702Z"
   },
   {
    "duration": 0,
    "start_time": "2025-04-08T15:10:33.703Z"
   },
   {
    "duration": 0,
    "start_time": "2025-04-08T15:10:33.704Z"
   },
   {
    "duration": 0,
    "start_time": "2025-04-08T15:10:33.705Z"
   },
   {
    "duration": 0,
    "start_time": "2025-04-08T15:10:33.706Z"
   },
   {
    "duration": 0,
    "start_time": "2025-04-08T15:10:33.707Z"
   },
   {
    "duration": 0,
    "start_time": "2025-04-08T15:10:33.708Z"
   },
   {
    "duration": 0,
    "start_time": "2025-04-08T15:10:33.709Z"
   },
   {
    "duration": 0,
    "start_time": "2025-04-08T15:10:33.710Z"
   },
   {
    "duration": 0,
    "start_time": "2025-04-08T15:10:33.711Z"
   },
   {
    "duration": 0,
    "start_time": "2025-04-08T15:10:33.712Z"
   },
   {
    "duration": 0,
    "start_time": "2025-04-08T15:10:33.713Z"
   },
   {
    "duration": 0,
    "start_time": "2025-04-08T15:10:33.714Z"
   },
   {
    "duration": 0,
    "start_time": "2025-04-08T15:10:33.715Z"
   },
   {
    "duration": 0,
    "start_time": "2025-04-08T15:10:33.716Z"
   },
   {
    "duration": 0,
    "start_time": "2025-04-08T15:10:33.736Z"
   },
   {
    "duration": 0,
    "start_time": "2025-04-08T15:10:33.737Z"
   },
   {
    "duration": 0,
    "start_time": "2025-04-08T15:10:33.738Z"
   },
   {
    "duration": 0,
    "start_time": "2025-04-08T15:10:33.739Z"
   },
   {
    "duration": 1,
    "start_time": "2025-04-08T15:10:33.740Z"
   },
   {
    "duration": 0,
    "start_time": "2025-04-08T15:10:33.742Z"
   },
   {
    "duration": 0,
    "start_time": "2025-04-08T15:10:33.743Z"
   },
   {
    "duration": 0,
    "start_time": "2025-04-08T15:10:33.744Z"
   },
   {
    "duration": 0,
    "start_time": "2025-04-08T15:10:33.745Z"
   },
   {
    "duration": 0,
    "start_time": "2025-04-08T15:10:33.746Z"
   },
   {
    "duration": 2006,
    "start_time": "2025-04-08T15:10:40.627Z"
   },
   {
    "duration": 635,
    "start_time": "2025-04-08T15:10:45.073Z"
   },
   {
    "duration": 92,
    "start_time": "2025-04-08T15:10:45.710Z"
   },
   {
    "duration": 92,
    "start_time": "2025-04-08T15:10:45.803Z"
   },
   {
    "duration": 2164,
    "start_time": "2025-04-08T15:10:45.897Z"
   },
   {
    "duration": 10,
    "start_time": "2025-04-08T15:10:48.063Z"
   },
   {
    "duration": 10,
    "start_time": "2025-04-08T15:10:48.075Z"
   },
   {
    "duration": 250,
    "start_time": "2025-04-08T15:10:48.086Z"
   },
   {
    "duration": 128,
    "start_time": "2025-04-08T15:10:48.338Z"
   },
   {
    "duration": 9,
    "start_time": "2025-04-08T15:10:48.468Z"
   },
   {
    "duration": 7,
    "start_time": "2025-04-08T15:10:48.480Z"
   },
   {
    "duration": 637,
    "start_time": "2025-04-08T15:10:48.489Z"
   },
   {
    "duration": 10,
    "start_time": "2025-04-08T15:10:49.127Z"
   },
   {
    "duration": 3,
    "start_time": "2025-04-08T15:10:49.138Z"
   },
   {
    "duration": 6,
    "start_time": "2025-04-08T15:10:49.143Z"
   },
   {
    "duration": 30,
    "start_time": "2025-04-08T15:10:49.151Z"
   },
   {
    "duration": 30,
    "start_time": "2025-04-08T15:10:49.182Z"
   },
   {
    "duration": 168,
    "start_time": "2025-04-08T15:10:49.214Z"
   },
   {
    "duration": 320,
    "start_time": "2025-04-08T15:10:49.384Z"
   },
   {
    "duration": 395,
    "start_time": "2025-04-08T15:10:49.706Z"
   },
   {
    "duration": 306,
    "start_time": "2025-04-08T15:10:50.103Z"
   },
   {
    "duration": 293,
    "start_time": "2025-04-08T15:10:50.411Z"
   },
   {
    "duration": 300,
    "start_time": "2025-04-08T15:10:50.706Z"
   },
   {
    "duration": 304,
    "start_time": "2025-04-08T15:10:51.007Z"
   },
   {
    "duration": 297,
    "start_time": "2025-04-08T15:10:51.313Z"
   },
   {
    "duration": 296,
    "start_time": "2025-04-08T15:10:51.612Z"
   },
   {
    "duration": 291,
    "start_time": "2025-04-08T15:10:51.909Z"
   },
   {
    "duration": 256,
    "start_time": "2025-04-08T15:10:52.201Z"
   },
   {
    "duration": 17,
    "start_time": "2025-04-08T15:10:52.461Z"
   },
   {
    "duration": 71,
    "start_time": "2025-04-08T15:10:52.479Z"
   },
   {
    "duration": 225,
    "start_time": "2025-04-08T15:10:52.551Z"
   },
   {
    "duration": 9,
    "start_time": "2025-04-08T15:10:52.777Z"
   },
   {
    "duration": 77,
    "start_time": "2025-04-08T15:10:52.788Z"
   },
   {
    "duration": 430,
    "start_time": "2025-04-08T15:10:52.866Z"
   },
   {
    "duration": 324,
    "start_time": "2025-04-08T15:10:53.298Z"
   },
   {
    "duration": 161,
    "start_time": "2025-04-08T15:10:53.624Z"
   },
   {
    "duration": 168,
    "start_time": "2025-04-08T15:10:53.787Z"
   },
   {
    "duration": 50,
    "start_time": "2025-04-08T15:10:53.956Z"
   },
   {
    "duration": 365,
    "start_time": "2025-04-08T15:10:54.007Z"
   },
   {
    "duration": 354,
    "start_time": "2025-04-08T15:10:54.374Z"
   },
   {
    "duration": 324,
    "start_time": "2025-04-08T15:10:54.730Z"
   },
   {
    "duration": 315,
    "start_time": "2025-04-08T15:10:55.056Z"
   },
   {
    "duration": 424,
    "start_time": "2025-04-08T15:10:55.373Z"
   },
   {
    "duration": 338,
    "start_time": "2025-04-08T15:10:55.799Z"
   },
   {
    "duration": 305,
    "start_time": "2025-04-08T15:10:56.139Z"
   },
   {
    "duration": 305,
    "start_time": "2025-04-08T15:10:56.445Z"
   },
   {
    "duration": 305,
    "start_time": "2025-04-08T15:10:56.751Z"
   },
   {
    "duration": 18,
    "start_time": "2025-04-08T15:10:57.058Z"
   },
   {
    "duration": 342,
    "start_time": "2025-04-08T15:10:57.078Z"
   },
   {
    "duration": 1320,
    "start_time": "2025-04-08T15:10:57.422Z"
   },
   {
    "duration": 13,
    "start_time": "2025-04-08T15:10:58.744Z"
   },
   {
    "duration": 17,
    "start_time": "2025-04-08T15:11:57.589Z"
   },
   {
    "duration": 17,
    "start_time": "2025-04-08T15:12:23.894Z"
   },
   {
    "duration": 5,
    "start_time": "2025-04-08T15:12:29.078Z"
   },
   {
    "duration": 18,
    "start_time": "2025-04-08T15:12:29.543Z"
   },
   {
    "duration": 3,
    "start_time": "2025-04-08T15:12:30.215Z"
   },
   {
    "duration": 3,
    "start_time": "2025-04-08T15:12:32.294Z"
   },
   {
    "duration": 177,
    "start_time": "2025-04-08T15:12:32.879Z"
   },
   {
    "duration": 17,
    "start_time": "2025-04-08T15:12:33.967Z"
   },
   {
    "duration": 5,
    "start_time": "2025-04-08T15:13:33.793Z"
   },
   {
    "duration": 17,
    "start_time": "2025-04-08T15:13:34.017Z"
   },
   {
    "duration": 3,
    "start_time": "2025-04-08T15:13:34.233Z"
   },
   {
    "duration": 168,
    "start_time": "2025-04-08T15:13:34.658Z"
   },
   {
    "duration": 17,
    "start_time": "2025-04-08T15:13:35.233Z"
   },
   {
    "duration": 6,
    "start_time": "2025-04-08T15:13:47.353Z"
   },
   {
    "duration": 17,
    "start_time": "2025-04-08T15:13:47.746Z"
   },
   {
    "duration": 3,
    "start_time": "2025-04-08T15:13:48.090Z"
   },
   {
    "duration": 364,
    "start_time": "2025-04-08T15:13:48.426Z"
   },
   {
    "duration": 20,
    "start_time": "2025-04-08T15:13:48.946Z"
   },
   {
    "duration": 5,
    "start_time": "2025-04-08T15:15:07.755Z"
   },
   {
    "duration": 16,
    "start_time": "2025-04-08T15:15:07.956Z"
   },
   {
    "duration": 3,
    "start_time": "2025-04-08T15:15:08.125Z"
   },
   {
    "duration": 290,
    "start_time": "2025-04-08T15:15:08.309Z"
   },
   {
    "duration": 15,
    "start_time": "2025-04-08T15:15:09.285Z"
   },
   {
    "duration": 154,
    "start_time": "2025-04-08T15:15:58.527Z"
   },
   {
    "duration": 15,
    "start_time": "2025-04-08T15:16:00.462Z"
   },
   {
    "duration": 392,
    "start_time": "2025-04-08T15:16:10.446Z"
   },
   {
    "duration": 401,
    "start_time": "2025-04-08T15:16:26.112Z"
   },
   {
    "duration": 323,
    "start_time": "2025-04-08T15:18:35.634Z"
   },
   {
    "duration": 646,
    "start_time": "2025-04-08T15:23:24.364Z"
   },
   {
    "duration": 91,
    "start_time": "2025-04-08T15:23:25.012Z"
   },
   {
    "duration": 94,
    "start_time": "2025-04-08T15:23:25.104Z"
   },
   {
    "duration": 2054,
    "start_time": "2025-04-08T15:23:25.199Z"
   },
   {
    "duration": 10,
    "start_time": "2025-04-08T15:23:27.255Z"
   },
   {
    "duration": 4,
    "start_time": "2025-04-08T15:23:27.267Z"
   },
   {
    "duration": 254,
    "start_time": "2025-04-08T15:23:27.272Z"
   },
   {
    "duration": 124,
    "start_time": "2025-04-08T15:23:27.528Z"
   },
   {
    "duration": 9,
    "start_time": "2025-04-08T15:23:27.654Z"
   },
   {
    "duration": 38,
    "start_time": "2025-04-08T15:23:27.665Z"
   },
   {
    "duration": 627,
    "start_time": "2025-04-08T15:23:27.705Z"
   },
   {
    "duration": 4,
    "start_time": "2025-04-08T15:23:28.336Z"
   },
   {
    "duration": 9,
    "start_time": "2025-04-08T15:23:28.341Z"
   },
   {
    "duration": 11,
    "start_time": "2025-04-08T15:23:28.353Z"
   },
   {
    "duration": 8,
    "start_time": "2025-04-08T15:23:28.365Z"
   },
   {
    "duration": 19,
    "start_time": "2025-04-08T15:23:28.374Z"
   },
   {
    "duration": 3,
    "start_time": "2025-04-08T15:23:28.394Z"
   },
   {
    "duration": 196,
    "start_time": "2025-04-08T15:23:28.398Z"
   },
   {
    "duration": 49,
    "start_time": "2025-04-08T15:23:28.596Z"
   },
   {
    "duration": 532,
    "start_time": "2025-04-08T15:23:28.647Z"
   },
   {
    "duration": 321,
    "start_time": "2025-04-08T15:23:29.181Z"
   },
   {
    "duration": 316,
    "start_time": "2025-04-08T15:23:29.504Z"
   },
   {
    "duration": 299,
    "start_time": "2025-04-08T15:23:29.822Z"
   },
   {
    "duration": 294,
    "start_time": "2025-04-08T15:23:30.123Z"
   },
   {
    "duration": 297,
    "start_time": "2025-04-08T15:23:30.419Z"
   },
   {
    "duration": 298,
    "start_time": "2025-04-08T15:23:30.719Z"
   },
   {
    "duration": 294,
    "start_time": "2025-04-08T15:23:31.020Z"
   },
   {
    "duration": 306,
    "start_time": "2025-04-08T15:23:31.317Z"
   },
   {
    "duration": 290,
    "start_time": "2025-04-08T15:23:31.624Z"
   },
   {
    "duration": 349,
    "start_time": "2025-04-08T15:23:31.917Z"
   },
   {
    "duration": 16,
    "start_time": "2025-04-08T15:23:32.268Z"
   },
   {
    "duration": 42,
    "start_time": "2025-04-08T15:23:32.286Z"
   },
   {
    "duration": 595,
    "start_time": "2025-04-08T15:23:32.329Z"
   },
   {
    "duration": 8,
    "start_time": "2025-04-08T15:23:32.925Z"
   },
   {
    "duration": 58,
    "start_time": "2025-04-08T15:23:32.935Z"
   },
   {
    "duration": 326,
    "start_time": "2025-04-08T15:23:32.994Z"
   },
   {
    "duration": 330,
    "start_time": "2025-04-08T15:23:33.322Z"
   },
   {
    "duration": 178,
    "start_time": "2025-04-08T15:23:33.654Z"
   },
   {
    "duration": 164,
    "start_time": "2025-04-08T15:23:33.835Z"
   },
   {
    "duration": 57,
    "start_time": "2025-04-08T15:23:34.001Z"
   },
   {
    "duration": 315,
    "start_time": "2025-04-08T15:23:34.062Z"
   },
   {
    "duration": 406,
    "start_time": "2025-04-08T15:23:34.379Z"
   },
   {
    "duration": 423,
    "start_time": "2025-04-08T15:23:34.787Z"
   },
   {
    "duration": 353,
    "start_time": "2025-04-08T15:23:35.212Z"
   },
   {
    "duration": 370,
    "start_time": "2025-04-08T15:23:35.566Z"
   },
   {
    "duration": 317,
    "start_time": "2025-04-08T15:23:35.938Z"
   },
   {
    "duration": 454,
    "start_time": "2025-04-08T15:23:36.257Z"
   },
   {
    "duration": 409,
    "start_time": "2025-04-08T15:23:36.713Z"
   },
   {
    "duration": 328,
    "start_time": "2025-04-08T15:23:37.123Z"
   },
   {
    "duration": 315,
    "start_time": "2025-04-08T15:23:37.453Z"
   },
   {
    "duration": 19,
    "start_time": "2025-04-08T15:23:37.770Z"
   },
   {
    "duration": 331,
    "start_time": "2025-04-08T15:23:37.791Z"
   },
   {
    "duration": 1367,
    "start_time": "2025-04-08T15:23:38.124Z"
   },
   {
    "duration": 16,
    "start_time": "2025-04-08T15:23:39.493Z"
   },
   {
    "duration": 670,
    "start_time": "2025-04-08T15:24:18.568Z"
   },
   {
    "duration": 121,
    "start_time": "2025-04-08T15:24:19.240Z"
   },
   {
    "duration": 0,
    "start_time": "2025-04-08T15:24:19.363Z"
   },
   {
    "duration": 0,
    "start_time": "2025-04-08T15:24:19.365Z"
   },
   {
    "duration": 0,
    "start_time": "2025-04-08T15:24:19.367Z"
   },
   {
    "duration": 0,
    "start_time": "2025-04-08T15:24:19.368Z"
   },
   {
    "duration": 0,
    "start_time": "2025-04-08T15:24:19.370Z"
   },
   {
    "duration": 0,
    "start_time": "2025-04-08T15:24:19.371Z"
   },
   {
    "duration": 0,
    "start_time": "2025-04-08T15:24:19.372Z"
   },
   {
    "duration": 0,
    "start_time": "2025-04-08T15:24:19.374Z"
   },
   {
    "duration": 0,
    "start_time": "2025-04-08T15:24:19.375Z"
   },
   {
    "duration": 0,
    "start_time": "2025-04-08T15:24:19.377Z"
   },
   {
    "duration": 0,
    "start_time": "2025-04-08T15:24:19.378Z"
   },
   {
    "duration": 0,
    "start_time": "2025-04-08T15:24:19.380Z"
   },
   {
    "duration": 0,
    "start_time": "2025-04-08T15:24:19.381Z"
   },
   {
    "duration": 0,
    "start_time": "2025-04-08T15:24:19.383Z"
   },
   {
    "duration": 0,
    "start_time": "2025-04-08T15:24:19.384Z"
   },
   {
    "duration": 0,
    "start_time": "2025-04-08T15:24:19.386Z"
   },
   {
    "duration": 0,
    "start_time": "2025-04-08T15:24:19.387Z"
   },
   {
    "duration": 0,
    "start_time": "2025-04-08T15:24:19.389Z"
   },
   {
    "duration": 0,
    "start_time": "2025-04-08T15:24:19.391Z"
   },
   {
    "duration": 0,
    "start_time": "2025-04-08T15:24:19.437Z"
   },
   {
    "duration": 0,
    "start_time": "2025-04-08T15:24:19.438Z"
   },
   {
    "duration": 0,
    "start_time": "2025-04-08T15:24:19.440Z"
   },
   {
    "duration": 0,
    "start_time": "2025-04-08T15:24:19.441Z"
   },
   {
    "duration": 0,
    "start_time": "2025-04-08T15:24:19.443Z"
   },
   {
    "duration": 0,
    "start_time": "2025-04-08T15:24:19.445Z"
   },
   {
    "duration": 0,
    "start_time": "2025-04-08T15:24:19.446Z"
   },
   {
    "duration": 0,
    "start_time": "2025-04-08T15:24:19.448Z"
   },
   {
    "duration": 0,
    "start_time": "2025-04-08T15:24:19.449Z"
   },
   {
    "duration": 1,
    "start_time": "2025-04-08T15:24:19.450Z"
   },
   {
    "duration": 0,
    "start_time": "2025-04-08T15:24:19.452Z"
   },
   {
    "duration": 0,
    "start_time": "2025-04-08T15:24:19.454Z"
   },
   {
    "duration": 0,
    "start_time": "2025-04-08T15:24:19.455Z"
   },
   {
    "duration": 0,
    "start_time": "2025-04-08T15:24:19.457Z"
   },
   {
    "duration": 0,
    "start_time": "2025-04-08T15:24:19.459Z"
   },
   {
    "duration": 0,
    "start_time": "2025-04-08T15:24:19.460Z"
   },
   {
    "duration": 0,
    "start_time": "2025-04-08T15:24:19.461Z"
   },
   {
    "duration": 0,
    "start_time": "2025-04-08T15:24:19.463Z"
   },
   {
    "duration": 0,
    "start_time": "2025-04-08T15:24:19.464Z"
   },
   {
    "duration": 0,
    "start_time": "2025-04-08T15:24:19.465Z"
   },
   {
    "duration": 0,
    "start_time": "2025-04-08T15:24:19.467Z"
   },
   {
    "duration": 0,
    "start_time": "2025-04-08T15:24:19.468Z"
   },
   {
    "duration": 0,
    "start_time": "2025-04-08T15:24:19.470Z"
   },
   {
    "duration": 0,
    "start_time": "2025-04-08T15:24:19.471Z"
   },
   {
    "duration": 0,
    "start_time": "2025-04-08T15:24:19.472Z"
   },
   {
    "duration": 0,
    "start_time": "2025-04-08T15:24:19.473Z"
   },
   {
    "duration": 0,
    "start_time": "2025-04-08T15:24:19.474Z"
   },
   {
    "duration": 0,
    "start_time": "2025-04-08T15:24:19.475Z"
   },
   {
    "duration": 0,
    "start_time": "2025-04-08T15:24:19.536Z"
   },
   {
    "duration": 0,
    "start_time": "2025-04-08T15:24:19.537Z"
   },
   {
    "duration": 0,
    "start_time": "2025-04-08T15:24:19.539Z"
   },
   {
    "duration": 0,
    "start_time": "2025-04-08T15:24:19.540Z"
   },
   {
    "duration": 48,
    "start_time": "2025-04-09T09:41:12.522Z"
   },
   {
    "duration": 849,
    "start_time": "2025-04-09T09:41:19.323Z"
   },
   {
    "duration": 116,
    "start_time": "2025-04-09T09:41:20.173Z"
   },
   {
    "duration": 0,
    "start_time": "2025-04-09T09:41:20.293Z"
   },
   {
    "duration": 0,
    "start_time": "2025-04-09T09:41:20.294Z"
   },
   {
    "duration": 0,
    "start_time": "2025-04-09T09:41:20.295Z"
   },
   {
    "duration": 0,
    "start_time": "2025-04-09T09:41:20.297Z"
   },
   {
    "duration": 0,
    "start_time": "2025-04-09T09:41:20.298Z"
   },
   {
    "duration": 1,
    "start_time": "2025-04-09T09:41:20.299Z"
   },
   {
    "duration": 0,
    "start_time": "2025-04-09T09:41:20.301Z"
   },
   {
    "duration": 0,
    "start_time": "2025-04-09T09:41:20.302Z"
   },
   {
    "duration": 0,
    "start_time": "2025-04-09T09:41:20.303Z"
   },
   {
    "duration": 0,
    "start_time": "2025-04-09T09:41:20.305Z"
   },
   {
    "duration": 0,
    "start_time": "2025-04-09T09:41:20.306Z"
   },
   {
    "duration": 0,
    "start_time": "2025-04-09T09:41:20.307Z"
   },
   {
    "duration": 0,
    "start_time": "2025-04-09T09:41:20.309Z"
   },
   {
    "duration": 0,
    "start_time": "2025-04-09T09:41:20.336Z"
   },
   {
    "duration": 0,
    "start_time": "2025-04-09T09:41:20.337Z"
   },
   {
    "duration": 0,
    "start_time": "2025-04-09T09:41:20.339Z"
   },
   {
    "duration": 0,
    "start_time": "2025-04-09T09:41:20.340Z"
   },
   {
    "duration": 0,
    "start_time": "2025-04-09T09:41:20.341Z"
   },
   {
    "duration": 0,
    "start_time": "2025-04-09T09:41:20.342Z"
   },
   {
    "duration": 0,
    "start_time": "2025-04-09T09:41:20.343Z"
   },
   {
    "duration": 0,
    "start_time": "2025-04-09T09:41:20.345Z"
   },
   {
    "duration": 0,
    "start_time": "2025-04-09T09:41:20.346Z"
   },
   {
    "duration": 0,
    "start_time": "2025-04-09T09:41:20.347Z"
   },
   {
    "duration": 0,
    "start_time": "2025-04-09T09:41:20.349Z"
   },
   {
    "duration": 0,
    "start_time": "2025-04-09T09:41:20.350Z"
   },
   {
    "duration": 0,
    "start_time": "2025-04-09T09:41:20.351Z"
   },
   {
    "duration": 0,
    "start_time": "2025-04-09T09:41:20.352Z"
   },
   {
    "duration": 0,
    "start_time": "2025-04-09T09:41:20.353Z"
   },
   {
    "duration": 0,
    "start_time": "2025-04-09T09:41:20.354Z"
   },
   {
    "duration": 0,
    "start_time": "2025-04-09T09:41:20.355Z"
   },
   {
    "duration": 0,
    "start_time": "2025-04-09T09:41:20.356Z"
   },
   {
    "duration": 0,
    "start_time": "2025-04-09T09:41:20.357Z"
   },
   {
    "duration": 0,
    "start_time": "2025-04-09T09:41:20.358Z"
   },
   {
    "duration": 0,
    "start_time": "2025-04-09T09:41:20.359Z"
   },
   {
    "duration": 0,
    "start_time": "2025-04-09T09:41:20.361Z"
   },
   {
    "duration": 0,
    "start_time": "2025-04-09T09:41:20.361Z"
   },
   {
    "duration": 0,
    "start_time": "2025-04-09T09:41:20.363Z"
   },
   {
    "duration": 0,
    "start_time": "2025-04-09T09:41:20.364Z"
   },
   {
    "duration": 0,
    "start_time": "2025-04-09T09:41:20.365Z"
   },
   {
    "duration": 0,
    "start_time": "2025-04-09T09:41:20.366Z"
   },
   {
    "duration": 0,
    "start_time": "2025-04-09T09:41:20.367Z"
   },
   {
    "duration": 0,
    "start_time": "2025-04-09T09:41:20.368Z"
   },
   {
    "duration": 0,
    "start_time": "2025-04-09T09:41:20.369Z"
   },
   {
    "duration": 0,
    "start_time": "2025-04-09T09:41:20.371Z"
   },
   {
    "duration": 0,
    "start_time": "2025-04-09T09:41:20.372Z"
   },
   {
    "duration": 0,
    "start_time": "2025-04-09T09:41:20.436Z"
   },
   {
    "duration": 0,
    "start_time": "2025-04-09T09:41:20.438Z"
   },
   {
    "duration": 0,
    "start_time": "2025-04-09T09:41:20.439Z"
   },
   {
    "duration": 0,
    "start_time": "2025-04-09T09:41:20.440Z"
   },
   {
    "duration": 0,
    "start_time": "2025-04-09T09:41:20.442Z"
   },
   {
    "duration": 0,
    "start_time": "2025-04-09T09:41:20.443Z"
   },
   {
    "duration": 353,
    "start_time": "2025-04-09T09:43:19.646Z"
   },
   {
    "duration": 644,
    "start_time": "2025-04-09T09:43:26.456Z"
   },
   {
    "duration": 237,
    "start_time": "2025-04-09T09:43:27.102Z"
   },
   {
    "duration": 2053,
    "start_time": "2025-04-09T09:43:27.340Z"
   },
   {
    "duration": 11,
    "start_time": "2025-04-09T09:43:29.396Z"
   },
   {
    "duration": 21,
    "start_time": "2025-04-09T09:43:29.409Z"
   },
   {
    "duration": 244,
    "start_time": "2025-04-09T09:43:29.432Z"
   },
   {
    "duration": 131,
    "start_time": "2025-04-09T09:43:29.677Z"
   },
   {
    "duration": 12,
    "start_time": "2025-04-09T09:43:29.810Z"
   },
   {
    "duration": 59,
    "start_time": "2025-04-09T09:43:29.824Z"
   },
   {
    "duration": 627,
    "start_time": "2025-04-09T09:43:29.887Z"
   },
   {
    "duration": 3,
    "start_time": "2025-04-09T09:43:30.516Z"
   },
   {
    "duration": 282,
    "start_time": "2025-04-09T09:43:30.521Z"
   },
   {
    "duration": 45,
    "start_time": "2025-04-09T09:43:30.805Z"
   },
   {
    "duration": 33,
    "start_time": "2025-04-09T09:43:30.852Z"
   },
   {
    "duration": 19,
    "start_time": "2025-04-09T09:43:30.887Z"
   },
   {
    "duration": 3,
    "start_time": "2025-04-09T09:43:30.908Z"
   },
   {
    "duration": 174,
    "start_time": "2025-04-09T09:43:30.913Z"
   },
   {
    "duration": 59,
    "start_time": "2025-04-09T09:43:31.089Z"
   },
   {
    "duration": 457,
    "start_time": "2025-04-09T09:43:31.149Z"
   },
   {
    "duration": 311,
    "start_time": "2025-04-09T09:43:31.607Z"
   },
   {
    "duration": 288,
    "start_time": "2025-04-09T09:43:31.920Z"
   },
   {
    "duration": 289,
    "start_time": "2025-04-09T09:43:32.210Z"
   },
   {
    "duration": 304,
    "start_time": "2025-04-09T09:43:32.501Z"
   },
   {
    "duration": 301,
    "start_time": "2025-04-09T09:43:32.806Z"
   },
   {
    "duration": 300,
    "start_time": "2025-04-09T09:43:33.109Z"
   },
   {
    "duration": 292,
    "start_time": "2025-04-09T09:43:33.411Z"
   },
   {
    "duration": 303,
    "start_time": "2025-04-09T09:43:33.705Z"
   },
   {
    "duration": 291,
    "start_time": "2025-04-09T09:43:34.012Z"
   },
   {
    "duration": 358,
    "start_time": "2025-04-09T09:43:34.304Z"
   },
   {
    "duration": 17,
    "start_time": "2025-04-09T09:43:34.663Z"
   },
   {
    "duration": 105,
    "start_time": "2025-04-09T09:43:34.681Z"
   },
   {
    "duration": 196,
    "start_time": "2025-04-09T09:43:34.788Z"
   },
   {
    "duration": 8,
    "start_time": "2025-04-09T09:43:34.986Z"
   },
   {
    "duration": 22,
    "start_time": "2025-04-09T09:43:34.995Z"
   },
   {
    "duration": 312,
    "start_time": "2025-04-09T09:43:35.019Z"
   },
   {
    "duration": 315,
    "start_time": "2025-04-09T09:43:35.336Z"
   },
   {
    "duration": 164,
    "start_time": "2025-04-09T09:43:35.653Z"
   },
   {
    "duration": 217,
    "start_time": "2025-04-09T09:43:35.819Z"
   },
   {
    "duration": 48,
    "start_time": "2025-04-09T09:43:36.038Z"
   },
   {
    "duration": 314,
    "start_time": "2025-04-09T09:43:36.087Z"
   },
   {
    "duration": 356,
    "start_time": "2025-04-09T09:43:36.403Z"
   },
   {
    "duration": 382,
    "start_time": "2025-04-09T09:43:36.761Z"
   },
   {
    "duration": 325,
    "start_time": "2025-04-09T09:43:37.144Z"
   },
   {
    "duration": 344,
    "start_time": "2025-04-09T09:43:37.470Z"
   },
   {
    "duration": 328,
    "start_time": "2025-04-09T09:43:37.816Z"
   },
   {
    "duration": 316,
    "start_time": "2025-04-09T09:43:38.146Z"
   },
   {
    "duration": 352,
    "start_time": "2025-04-09T09:43:38.465Z"
   },
   {
    "duration": 325,
    "start_time": "2025-04-09T09:43:38.819Z"
   },
   {
    "duration": 298,
    "start_time": "2025-04-09T09:43:39.145Z"
   },
   {
    "duration": 19,
    "start_time": "2025-04-09T09:43:39.444Z"
   },
   {
    "duration": 348,
    "start_time": "2025-04-09T09:43:39.465Z"
   },
   {
    "duration": 1336,
    "start_time": "2025-04-09T09:43:39.814Z"
   },
   {
    "duration": 12,
    "start_time": "2025-04-09T09:43:41.152Z"
   },
   {
    "duration": 167,
    "start_time": "2025-04-09T09:50:26.257Z"
   },
   {
    "duration": 32,
    "start_time": "2025-04-09T09:50:41.053Z"
   },
   {
    "duration": 150,
    "start_time": "2025-04-09T09:52:05.538Z"
   },
   {
    "duration": 155,
    "start_time": "2025-04-09T09:53:27.261Z"
   },
   {
    "duration": 406,
    "start_time": "2025-04-09T09:55:44.083Z"
   },
   {
    "duration": 378,
    "start_time": "2025-04-09T09:55:49.152Z"
   },
   {
    "duration": 16,
    "start_time": "2025-04-09T09:59:18.791Z"
   },
   {
    "duration": 17,
    "start_time": "2025-04-09T10:00:08.985Z"
   },
   {
    "duration": 650,
    "start_time": "2025-04-09T10:10:28.548Z"
   },
   {
    "duration": 257,
    "start_time": "2025-04-09T10:10:29.200Z"
   },
   {
    "duration": 2007,
    "start_time": "2025-04-09T10:10:29.458Z"
   },
   {
    "duration": 11,
    "start_time": "2025-04-09T10:10:31.467Z"
   },
   {
    "duration": 15,
    "start_time": "2025-04-09T10:10:31.479Z"
   },
   {
    "duration": 253,
    "start_time": "2025-04-09T10:10:31.496Z"
   },
   {
    "duration": 132,
    "start_time": "2025-04-09T10:10:31.751Z"
   },
   {
    "duration": 9,
    "start_time": "2025-04-09T10:10:31.885Z"
   },
   {
    "duration": 86,
    "start_time": "2025-04-09T10:10:31.896Z"
   },
   {
    "duration": 665,
    "start_time": "2025-04-09T10:10:31.985Z"
   },
   {
    "duration": 3,
    "start_time": "2025-04-09T10:10:32.651Z"
   },
   {
    "duration": 16,
    "start_time": "2025-04-09T10:10:32.656Z"
   },
   {
    "duration": 21,
    "start_time": "2025-04-09T10:10:32.673Z"
   },
   {
    "duration": 10,
    "start_time": "2025-04-09T10:10:32.695Z"
   },
   {
    "duration": 31,
    "start_time": "2025-04-09T10:10:32.706Z"
   },
   {
    "duration": 2,
    "start_time": "2025-04-09T10:10:32.739Z"
   },
   {
    "duration": 265,
    "start_time": "2025-04-09T10:10:32.743Z"
   },
   {
    "duration": 52,
    "start_time": "2025-04-09T10:10:33.010Z"
   },
   {
    "duration": 621,
    "start_time": "2025-04-09T10:10:33.064Z"
   },
   {
    "duration": 324,
    "start_time": "2025-04-09T10:10:33.687Z"
   },
   {
    "duration": 291,
    "start_time": "2025-04-09T10:10:34.013Z"
   },
   {
    "duration": 317,
    "start_time": "2025-04-09T10:10:34.306Z"
   },
   {
    "duration": 280,
    "start_time": "2025-04-09T10:10:34.624Z"
   },
   {
    "duration": 301,
    "start_time": "2025-04-09T10:10:34.905Z"
   },
   {
    "duration": 306,
    "start_time": "2025-04-09T10:10:35.208Z"
   },
   {
    "duration": 540,
    "start_time": "2025-04-09T10:10:35.516Z"
   },
   {
    "duration": 0,
    "start_time": "2025-04-09T10:10:36.059Z"
   },
   {
    "duration": 0,
    "start_time": "2025-04-09T10:10:36.061Z"
   },
   {
    "duration": 0,
    "start_time": "2025-04-09T10:10:36.063Z"
   },
   {
    "duration": 0,
    "start_time": "2025-04-09T10:10:36.065Z"
   },
   {
    "duration": 0,
    "start_time": "2025-04-09T10:10:36.066Z"
   },
   {
    "duration": 0,
    "start_time": "2025-04-09T10:10:36.068Z"
   },
   {
    "duration": 0,
    "start_time": "2025-04-09T10:10:36.069Z"
   },
   {
    "duration": 0,
    "start_time": "2025-04-09T10:10:36.071Z"
   },
   {
    "duration": 0,
    "start_time": "2025-04-09T10:10:36.072Z"
   },
   {
    "duration": 0,
    "start_time": "2025-04-09T10:10:36.074Z"
   },
   {
    "duration": 0,
    "start_time": "2025-04-09T10:10:36.075Z"
   },
   {
    "duration": 0,
    "start_time": "2025-04-09T10:10:36.077Z"
   },
   {
    "duration": 0,
    "start_time": "2025-04-09T10:10:36.078Z"
   },
   {
    "duration": 0,
    "start_time": "2025-04-09T10:10:36.080Z"
   },
   {
    "duration": 0,
    "start_time": "2025-04-09T10:10:36.081Z"
   },
   {
    "duration": 0,
    "start_time": "2025-04-09T10:10:36.083Z"
   },
   {
    "duration": 1,
    "start_time": "2025-04-09T10:10:36.084Z"
   },
   {
    "duration": 0,
    "start_time": "2025-04-09T10:10:36.086Z"
   },
   {
    "duration": 0,
    "start_time": "2025-04-09T10:10:36.087Z"
   },
   {
    "duration": 0,
    "start_time": "2025-04-09T10:10:36.088Z"
   },
   {
    "duration": 0,
    "start_time": "2025-04-09T10:10:36.089Z"
   },
   {
    "duration": 0,
    "start_time": "2025-04-09T10:10:36.137Z"
   },
   {
    "duration": 0,
    "start_time": "2025-04-09T10:10:36.138Z"
   },
   {
    "duration": 0,
    "start_time": "2025-04-09T10:10:36.139Z"
   },
   {
    "duration": 0,
    "start_time": "2025-04-09T10:10:36.140Z"
   },
   {
    "duration": 0,
    "start_time": "2025-04-09T10:10:36.141Z"
   },
   {
    "duration": 0,
    "start_time": "2025-04-09T10:10:36.142Z"
   },
   {
    "duration": 321,
    "start_time": "2025-04-09T10:10:42.784Z"
   },
   {
    "duration": 285,
    "start_time": "2025-04-09T10:10:45.959Z"
   },
   {
    "duration": 670,
    "start_time": "2025-04-09T10:10:51.724Z"
   },
   {
    "duration": 282,
    "start_time": "2025-04-09T10:10:52.396Z"
   },
   {
    "duration": 2057,
    "start_time": "2025-04-09T10:10:52.680Z"
   },
   {
    "duration": 12,
    "start_time": "2025-04-09T10:10:54.740Z"
   },
   {
    "duration": 5,
    "start_time": "2025-04-09T10:10:54.753Z"
   },
   {
    "duration": 249,
    "start_time": "2025-04-09T10:10:54.760Z"
   },
   {
    "duration": 136,
    "start_time": "2025-04-09T10:10:55.010Z"
   },
   {
    "duration": 9,
    "start_time": "2025-04-09T10:10:55.148Z"
   },
   {
    "duration": 20,
    "start_time": "2025-04-09T10:10:55.159Z"
   },
   {
    "duration": 607,
    "start_time": "2025-04-09T10:10:55.182Z"
   },
   {
    "duration": 4,
    "start_time": "2025-04-09T10:10:55.791Z"
   },
   {
    "duration": 26,
    "start_time": "2025-04-09T10:10:55.796Z"
   },
   {
    "duration": 37,
    "start_time": "2025-04-09T10:10:55.824Z"
   },
   {
    "duration": 117,
    "start_time": "2025-04-09T10:10:55.862Z"
   },
   {
    "duration": 19,
    "start_time": "2025-04-09T10:10:55.981Z"
   },
   {
    "duration": 3,
    "start_time": "2025-04-09T10:10:56.002Z"
   },
   {
    "duration": 262,
    "start_time": "2025-04-09T10:10:56.006Z"
   },
   {
    "duration": 48,
    "start_time": "2025-04-09T10:10:56.270Z"
   },
   {
    "duration": 459,
    "start_time": "2025-04-09T10:10:56.320Z"
   },
   {
    "duration": 350,
    "start_time": "2025-04-09T10:10:56.780Z"
   },
   {
    "duration": 295,
    "start_time": "2025-04-09T10:10:57.131Z"
   },
   {
    "duration": 287,
    "start_time": "2025-04-09T10:10:57.436Z"
   },
   {
    "duration": 284,
    "start_time": "2025-04-09T10:10:57.725Z"
   },
   {
    "duration": 290,
    "start_time": "2025-04-09T10:10:58.011Z"
   },
   {
    "duration": 301,
    "start_time": "2025-04-09T10:10:58.303Z"
   },
   {
    "duration": 560,
    "start_time": "2025-04-09T10:10:58.606Z"
   },
   {
    "duration": 1,
    "start_time": "2025-04-09T10:10:59.168Z"
   },
   {
    "duration": 0,
    "start_time": "2025-04-09T10:10:59.170Z"
   },
   {
    "duration": 0,
    "start_time": "2025-04-09T10:10:59.171Z"
   },
   {
    "duration": 0,
    "start_time": "2025-04-09T10:10:59.172Z"
   },
   {
    "duration": 0,
    "start_time": "2025-04-09T10:10:59.173Z"
   },
   {
    "duration": 0,
    "start_time": "2025-04-09T10:10:59.174Z"
   },
   {
    "duration": 0,
    "start_time": "2025-04-09T10:10:59.175Z"
   },
   {
    "duration": 0,
    "start_time": "2025-04-09T10:10:59.176Z"
   },
   {
    "duration": 0,
    "start_time": "2025-04-09T10:10:59.177Z"
   },
   {
    "duration": 0,
    "start_time": "2025-04-09T10:10:59.178Z"
   },
   {
    "duration": 0,
    "start_time": "2025-04-09T10:10:59.179Z"
   },
   {
    "duration": 0,
    "start_time": "2025-04-09T10:10:59.180Z"
   },
   {
    "duration": 0,
    "start_time": "2025-04-09T10:10:59.181Z"
   },
   {
    "duration": 0,
    "start_time": "2025-04-09T10:10:59.183Z"
   },
   {
    "duration": 0,
    "start_time": "2025-04-09T10:10:59.183Z"
   },
   {
    "duration": 0,
    "start_time": "2025-04-09T10:10:59.185Z"
   },
   {
    "duration": 0,
    "start_time": "2025-04-09T10:10:59.186Z"
   },
   {
    "duration": 0,
    "start_time": "2025-04-09T10:10:59.187Z"
   },
   {
    "duration": 0,
    "start_time": "2025-04-09T10:10:59.188Z"
   },
   {
    "duration": 0,
    "start_time": "2025-04-09T10:10:59.189Z"
   },
   {
    "duration": 0,
    "start_time": "2025-04-09T10:10:59.190Z"
   },
   {
    "duration": 0,
    "start_time": "2025-04-09T10:10:59.190Z"
   },
   {
    "duration": 0,
    "start_time": "2025-04-09T10:10:59.192Z"
   },
   {
    "duration": 0,
    "start_time": "2025-04-09T10:10:59.192Z"
   },
   {
    "duration": 0,
    "start_time": "2025-04-09T10:10:59.193Z"
   },
   {
    "duration": 0,
    "start_time": "2025-04-09T10:10:59.195Z"
   },
   {
    "duration": 0,
    "start_time": "2025-04-09T10:10:59.195Z"
   },
   {
    "duration": 329,
    "start_time": "2025-04-09T10:11:01.483Z"
   },
   {
    "duration": 326,
    "start_time": "2025-04-09T10:11:15.582Z"
   },
   {
    "duration": 369,
    "start_time": "2025-04-09T10:11:28.781Z"
   },
   {
    "duration": 280,
    "start_time": "2025-04-09T10:11:55.233Z"
   },
   {
    "duration": 21,
    "start_time": "2025-04-09T10:12:19.386Z"
   },
   {
    "duration": 339,
    "start_time": "2025-04-09T10:12:20.168Z"
   },
   {
    "duration": 1435,
    "start_time": "2025-04-09T10:12:50.171Z"
   },
   {
    "duration": 29,
    "start_time": "2025-04-09T10:12:51.608Z"
   },
   {
    "duration": 19,
    "start_time": "2025-04-09T10:13:41.700Z"
   },
   {
    "duration": 20,
    "start_time": "2025-04-09T10:15:15.825Z"
   },
   {
    "duration": 18,
    "start_time": "2025-04-09T10:15:20.329Z"
   },
   {
    "duration": 457,
    "start_time": "2025-04-09T10:17:25.419Z"
   },
   {
    "duration": 23,
    "start_time": "2025-04-09T10:18:24.230Z"
   },
   {
    "duration": 20,
    "start_time": "2025-04-09T10:25:05.122Z"
   },
   {
    "duration": 19,
    "start_time": "2025-04-09T10:25:55.945Z"
   },
   {
    "duration": 26,
    "start_time": "2025-04-09T10:27:00.590Z"
   },
   {
    "duration": 1384,
    "start_time": "2025-04-09T10:27:32.538Z"
   },
   {
    "duration": 1047,
    "start_time": "2025-04-09T10:28:10.336Z"
   },
   {
    "duration": 615,
    "start_time": "2025-04-09T10:28:58.017Z"
   },
   {
    "duration": 17,
    "start_time": "2025-04-09T10:31:16.431Z"
   },
   {
    "duration": 457,
    "start_time": "2025-04-09T10:36:26.289Z"
   },
   {
    "duration": 282,
    "start_time": "2025-04-09T10:36:46.929Z"
   },
   {
    "duration": 313,
    "start_time": "2025-04-09T10:36:49.585Z"
   },
   {
    "duration": 307,
    "start_time": "2025-04-09T10:37:13.700Z"
   },
   {
    "duration": 288,
    "start_time": "2025-04-09T10:37:27.233Z"
   },
   {
    "duration": 284,
    "start_time": "2025-04-09T10:37:32.514Z"
   },
   {
    "duration": 994,
    "start_time": "2025-04-09T14:43:33.274Z"
   },
   {
    "duration": 337,
    "start_time": "2025-04-09T14:43:34.270Z"
   },
   {
    "duration": 2692,
    "start_time": "2025-04-09T14:43:34.609Z"
   },
   {
    "duration": 10,
    "start_time": "2025-04-09T14:43:37.303Z"
   },
   {
    "duration": 61,
    "start_time": "2025-04-09T14:43:37.315Z"
   },
   {
    "duration": 341,
    "start_time": "2025-04-09T14:43:37.378Z"
   },
   {
    "duration": 145,
    "start_time": "2025-04-09T14:43:37.721Z"
   },
   {
    "duration": 10,
    "start_time": "2025-04-09T14:43:37.868Z"
   },
   {
    "duration": 42,
    "start_time": "2025-04-09T14:43:37.879Z"
   },
   {
    "duration": 620,
    "start_time": "2025-04-09T14:43:37.923Z"
   },
   {
    "duration": 16,
    "start_time": "2025-04-09T14:43:38.545Z"
   },
   {
    "duration": 61,
    "start_time": "2025-04-09T14:43:38.562Z"
   },
   {
    "duration": 70,
    "start_time": "2025-04-09T14:43:38.625Z"
   },
   {
    "duration": 121,
    "start_time": "2025-04-09T14:43:38.698Z"
   },
   {
    "duration": 46,
    "start_time": "2025-04-09T14:43:38.821Z"
   },
   {
    "duration": 2,
    "start_time": "2025-04-09T14:43:38.869Z"
   },
   {
    "duration": 256,
    "start_time": "2025-04-09T14:43:38.873Z"
   },
   {
    "duration": 60,
    "start_time": "2025-04-09T14:43:39.131Z"
   },
   {
    "duration": 492,
    "start_time": "2025-04-09T14:43:39.193Z"
   },
   {
    "duration": 406,
    "start_time": "2025-04-09T14:43:39.687Z"
   },
   {
    "duration": 356,
    "start_time": "2025-04-09T14:43:40.095Z"
   },
   {
    "duration": 334,
    "start_time": "2025-04-09T14:43:40.460Z"
   },
   {
    "duration": 331,
    "start_time": "2025-04-09T14:43:40.796Z"
   },
   {
    "duration": 291,
    "start_time": "2025-04-09T14:43:41.129Z"
   },
   {
    "duration": 345,
    "start_time": "2025-04-09T14:43:41.422Z"
   },
   {
    "duration": 311,
    "start_time": "2025-04-09T14:43:41.769Z"
   },
   {
    "duration": 302,
    "start_time": "2025-04-09T14:43:42.082Z"
   },
   {
    "duration": 337,
    "start_time": "2025-04-09T14:43:42.386Z"
   },
   {
    "duration": 370,
    "start_time": "2025-04-09T14:43:42.725Z"
   },
   {
    "duration": 16,
    "start_time": "2025-04-09T14:43:43.097Z"
   },
   {
    "duration": 33,
    "start_time": "2025-04-09T14:43:43.115Z"
   },
   {
    "duration": 203,
    "start_time": "2025-04-09T14:43:43.150Z"
   },
   {
    "duration": 9,
    "start_time": "2025-04-09T14:43:43.355Z"
   },
   {
    "duration": 25,
    "start_time": "2025-04-09T14:43:43.366Z"
   },
   {
    "duration": 338,
    "start_time": "2025-04-09T14:43:43.394Z"
   },
   {
    "duration": 327,
    "start_time": "2025-04-09T14:43:43.734Z"
   },
   {
    "duration": 158,
    "start_time": "2025-04-09T14:43:44.063Z"
   },
   {
    "duration": 164,
    "start_time": "2025-04-09T14:43:44.222Z"
   },
   {
    "duration": 46,
    "start_time": "2025-04-09T14:43:44.388Z"
   },
   {
    "duration": 329,
    "start_time": "2025-04-09T14:43:44.435Z"
   },
   {
    "duration": 378,
    "start_time": "2025-04-09T14:43:44.768Z"
   },
   {
    "duration": 420,
    "start_time": "2025-04-09T14:43:45.148Z"
   },
   {
    "duration": 406,
    "start_time": "2025-04-09T14:43:45.570Z"
   },
   {
    "duration": 314,
    "start_time": "2025-04-09T14:43:45.978Z"
   },
   {
    "duration": 350,
    "start_time": "2025-04-09T14:43:46.294Z"
   },
   {
    "duration": 305,
    "start_time": "2025-04-09T14:43:46.646Z"
   },
   {
    "duration": 315,
    "start_time": "2025-04-09T14:43:46.953Z"
   },
   {
    "duration": 306,
    "start_time": "2025-04-09T14:43:47.270Z"
   },
   {
    "duration": 344,
    "start_time": "2025-04-09T14:43:47.578Z"
   },
   {
    "duration": 21,
    "start_time": "2025-04-09T14:43:47.924Z"
   },
   {
    "duration": 349,
    "start_time": "2025-04-09T14:43:47.961Z"
   },
   {
    "duration": 1278,
    "start_time": "2025-04-09T14:43:48.312Z"
   },
   {
    "duration": 23,
    "start_time": "2025-04-09T14:43:49.592Z"
   },
   {
    "duration": 87,
    "start_time": "2025-04-09T14:43:49.617Z"
   },
   {
    "duration": 16,
    "start_time": "2025-04-09T14:44:43.530Z"
   },
   {
    "duration": 7,
    "start_time": "2025-04-09T14:46:01.620Z"
   },
   {
    "duration": 24,
    "start_time": "2025-04-09T14:46:01.893Z"
   },
   {
    "duration": 3,
    "start_time": "2025-04-09T14:46:02.717Z"
   },
   {
    "duration": 915,
    "start_time": "2025-04-09T14:46:03.046Z"
   },
   {
    "duration": 24,
    "start_time": "2025-04-09T14:46:04.814Z"
   },
   {
    "duration": 8,
    "start_time": "2025-04-09T14:49:39.476Z"
   },
   {
    "duration": 9,
    "start_time": "2025-04-09T14:49:56.974Z"
   },
   {
    "duration": 20,
    "start_time": "2025-04-09T14:51:03.553Z"
   },
   {
    "duration": 757,
    "start_time": "2025-04-09T14:57:22.442Z"
   },
   {
    "duration": 531,
    "start_time": "2025-04-09T14:57:23.201Z"
   },
   {
    "duration": 2268,
    "start_time": "2025-04-09T14:57:23.734Z"
   },
   {
    "duration": 10,
    "start_time": "2025-04-09T14:57:26.019Z"
   },
   {
    "duration": 20,
    "start_time": "2025-04-09T14:57:26.031Z"
   },
   {
    "duration": 278,
    "start_time": "2025-04-09T14:57:26.053Z"
   },
   {
    "duration": 140,
    "start_time": "2025-04-09T14:57:26.332Z"
   },
   {
    "duration": 12,
    "start_time": "2025-04-09T14:57:26.474Z"
   },
   {
    "duration": 23,
    "start_time": "2025-04-09T14:57:26.488Z"
   },
   {
    "duration": 726,
    "start_time": "2025-04-09T14:57:26.514Z"
   },
   {
    "duration": 4,
    "start_time": "2025-04-09T14:57:27.242Z"
   },
   {
    "duration": 73,
    "start_time": "2025-04-09T14:57:27.247Z"
   },
   {
    "duration": 22,
    "start_time": "2025-04-09T14:57:27.321Z"
   },
   {
    "duration": 8,
    "start_time": "2025-04-09T14:57:27.344Z"
   },
   {
    "duration": 24,
    "start_time": "2025-04-09T14:57:27.354Z"
   },
   {
    "duration": 4,
    "start_time": "2025-04-09T14:57:27.380Z"
   },
   {
    "duration": 309,
    "start_time": "2025-04-09T14:57:27.386Z"
   },
   {
    "duration": 65,
    "start_time": "2025-04-09T14:57:27.697Z"
   },
   {
    "duration": 521,
    "start_time": "2025-04-09T14:57:27.764Z"
   },
   {
    "duration": 374,
    "start_time": "2025-04-09T14:57:28.287Z"
   },
   {
    "duration": 313,
    "start_time": "2025-04-09T14:57:28.664Z"
   },
   {
    "duration": 358,
    "start_time": "2025-04-09T14:57:28.979Z"
   },
   {
    "duration": 312,
    "start_time": "2025-04-09T14:57:29.339Z"
   },
   {
    "duration": 295,
    "start_time": "2025-04-09T14:57:29.653Z"
   },
   {
    "duration": 328,
    "start_time": "2025-04-09T14:57:29.950Z"
   },
   {
    "duration": 372,
    "start_time": "2025-04-09T14:57:30.280Z"
   },
   {
    "duration": 315,
    "start_time": "2025-04-09T14:57:30.660Z"
   },
   {
    "duration": 381,
    "start_time": "2025-04-09T14:57:30.980Z"
   },
   {
    "duration": 440,
    "start_time": "2025-04-09T14:57:31.363Z"
   },
   {
    "duration": 19,
    "start_time": "2025-04-09T14:57:31.805Z"
   },
   {
    "duration": 45,
    "start_time": "2025-04-09T14:57:31.826Z"
   },
   {
    "duration": 181,
    "start_time": "2025-04-09T14:57:31.873Z"
   },
   {
    "duration": 10,
    "start_time": "2025-04-09T14:57:32.056Z"
   },
   {
    "duration": 24,
    "start_time": "2025-04-09T14:57:32.068Z"
   },
   {
    "duration": 372,
    "start_time": "2025-04-09T14:57:32.094Z"
   },
   {
    "duration": 372,
    "start_time": "2025-04-09T14:57:32.468Z"
   },
   {
    "duration": 181,
    "start_time": "2025-04-09T14:57:32.842Z"
   },
   {
    "duration": 188,
    "start_time": "2025-04-09T14:57:33.025Z"
   },
   {
    "duration": 62,
    "start_time": "2025-04-09T14:57:33.215Z"
   },
   {
    "duration": 406,
    "start_time": "2025-04-09T14:57:33.279Z"
   },
   {
    "duration": 402,
    "start_time": "2025-04-09T14:57:33.687Z"
   },
   {
    "duration": 470,
    "start_time": "2025-04-09T14:57:34.091Z"
   },
   {
    "duration": 311,
    "start_time": "2025-04-09T14:57:34.563Z"
   },
   {
    "duration": 335,
    "start_time": "2025-04-09T14:57:34.876Z"
   },
   {
    "duration": 334,
    "start_time": "2025-04-09T14:57:35.213Z"
   },
   {
    "duration": 298,
    "start_time": "2025-04-09T14:57:35.548Z"
   },
   {
    "duration": 319,
    "start_time": "2025-04-09T14:57:35.847Z"
   },
   {
    "duration": 316,
    "start_time": "2025-04-09T14:57:36.169Z"
   },
   {
    "duration": 342,
    "start_time": "2025-04-09T14:57:36.487Z"
   },
   {
    "duration": 31,
    "start_time": "2025-04-09T14:57:36.831Z"
   },
   {
    "duration": 398,
    "start_time": "2025-04-09T14:57:36.864Z"
   },
   {
    "duration": 1440,
    "start_time": "2025-04-09T14:57:37.264Z"
   },
   {
    "duration": 27,
    "start_time": "2025-04-09T14:57:38.706Z"
   },
   {
    "duration": 102,
    "start_time": "2025-04-09T14:57:38.734Z"
   },
   {
    "duration": 684,
    "start_time": "2025-04-09T15:07:07.729Z"
   },
   {
    "duration": 452,
    "start_time": "2025-04-09T15:07:08.415Z"
   },
   {
    "duration": 2108,
    "start_time": "2025-04-09T15:07:08.869Z"
   },
   {
    "duration": 10,
    "start_time": "2025-04-09T15:07:10.979Z"
   },
   {
    "duration": 37,
    "start_time": "2025-04-09T15:07:10.991Z"
   },
   {
    "duration": 275,
    "start_time": "2025-04-09T15:07:11.029Z"
   },
   {
    "duration": 134,
    "start_time": "2025-04-09T15:07:11.305Z"
   },
   {
    "duration": 10,
    "start_time": "2025-04-09T15:07:11.441Z"
   },
   {
    "duration": 4,
    "start_time": "2025-04-09T15:07:11.461Z"
   },
   {
    "duration": 611,
    "start_time": "2025-04-09T15:07:11.467Z"
   },
   {
    "duration": 3,
    "start_time": "2025-04-09T15:07:12.080Z"
   },
   {
    "duration": 17,
    "start_time": "2025-04-09T15:07:12.085Z"
   },
   {
    "duration": 10,
    "start_time": "2025-04-09T15:07:12.104Z"
   },
   {
    "duration": 20,
    "start_time": "2025-04-09T15:07:12.117Z"
   },
   {
    "duration": 21,
    "start_time": "2025-04-09T15:07:12.139Z"
   },
   {
    "duration": 3,
    "start_time": "2025-04-09T15:07:12.162Z"
   },
   {
    "duration": 276,
    "start_time": "2025-04-09T15:07:12.166Z"
   },
   {
    "duration": 60,
    "start_time": "2025-04-09T15:07:12.444Z"
   },
   {
    "duration": 509,
    "start_time": "2025-04-09T15:07:12.506Z"
   },
   {
    "duration": 348,
    "start_time": "2025-04-09T15:07:13.017Z"
   },
   {
    "duration": 323,
    "start_time": "2025-04-09T15:07:13.366Z"
   },
   {
    "duration": 342,
    "start_time": "2025-04-09T15:07:13.691Z"
   },
   {
    "duration": 297,
    "start_time": "2025-04-09T15:07:14.034Z"
   },
   {
    "duration": 289,
    "start_time": "2025-04-09T15:07:14.333Z"
   },
   {
    "duration": 315,
    "start_time": "2025-04-09T15:07:14.624Z"
   },
   {
    "duration": 302,
    "start_time": "2025-04-09T15:07:14.941Z"
   },
   {
    "duration": 287,
    "start_time": "2025-04-09T15:07:15.245Z"
   },
   {
    "duration": 312,
    "start_time": "2025-04-09T15:07:15.533Z"
   },
   {
    "duration": 345,
    "start_time": "2025-04-09T15:07:15.847Z"
   },
   {
    "duration": 16,
    "start_time": "2025-04-09T15:07:16.194Z"
   },
   {
    "duration": 26,
    "start_time": "2025-04-09T15:07:16.211Z"
   },
   {
    "duration": 152,
    "start_time": "2025-04-09T15:07:16.239Z"
   },
   {
    "duration": 8,
    "start_time": "2025-04-09T15:07:16.392Z"
   },
   {
    "duration": 7,
    "start_time": "2025-04-09T15:07:16.401Z"
   },
   {
    "duration": 312,
    "start_time": "2025-04-09T15:07:16.410Z"
   },
   {
    "duration": 326,
    "start_time": "2025-04-09T15:07:16.724Z"
   },
   {
    "duration": 155,
    "start_time": "2025-04-09T15:07:17.052Z"
   },
   {
    "duration": 165,
    "start_time": "2025-04-09T15:07:17.209Z"
   },
   {
    "duration": 46,
    "start_time": "2025-04-09T15:07:17.376Z"
   },
   {
    "duration": 333,
    "start_time": "2025-04-09T15:07:17.424Z"
   },
   {
    "duration": 403,
    "start_time": "2025-04-09T15:07:17.761Z"
   },
   {
    "duration": 403,
    "start_time": "2025-04-09T15:07:18.165Z"
   },
   {
    "duration": 276,
    "start_time": "2025-04-09T15:07:18.570Z"
   },
   {
    "duration": 315,
    "start_time": "2025-04-09T15:07:18.848Z"
   },
   {
    "duration": 271,
    "start_time": "2025-04-09T15:07:19.165Z"
   },
   {
    "duration": 294,
    "start_time": "2025-04-09T15:07:19.437Z"
   },
   {
    "duration": 305,
    "start_time": "2025-04-09T15:07:19.732Z"
   },
   {
    "duration": 297,
    "start_time": "2025-04-09T15:07:20.039Z"
   },
   {
    "duration": 291,
    "start_time": "2025-04-09T15:07:20.337Z"
   },
   {
    "duration": 33,
    "start_time": "2025-04-09T15:07:20.629Z"
   },
   {
    "duration": 374,
    "start_time": "2025-04-09T15:07:20.663Z"
   },
   {
    "duration": 1284,
    "start_time": "2025-04-09T15:07:21.039Z"
   },
   {
    "duration": 22,
    "start_time": "2025-04-09T15:07:22.325Z"
   },
   {
    "duration": 98,
    "start_time": "2025-04-09T15:07:22.362Z"
   },
   {
    "duration": 799,
    "start_time": "2025-04-10T07:31:05.124Z"
   },
   {
    "duration": 399,
    "start_time": "2025-04-10T07:31:05.925Z"
   },
   {
    "duration": 2854,
    "start_time": "2025-04-10T07:31:06.325Z"
   },
   {
    "duration": 11,
    "start_time": "2025-04-10T07:31:09.180Z"
   },
   {
    "duration": 14,
    "start_time": "2025-04-10T07:31:09.193Z"
   },
   {
    "duration": 233,
    "start_time": "2025-04-10T07:31:09.208Z"
   },
   {
    "duration": 125,
    "start_time": "2025-04-10T07:31:09.443Z"
   },
   {
    "duration": 10,
    "start_time": "2025-04-10T07:31:09.570Z"
   },
   {
    "duration": 3,
    "start_time": "2025-04-10T07:31:09.582Z"
   },
   {
    "duration": 625,
    "start_time": "2025-04-10T07:31:09.587Z"
   },
   {
    "duration": 3,
    "start_time": "2025-04-10T07:31:10.214Z"
   },
   {
    "duration": 5,
    "start_time": "2025-04-10T07:31:10.219Z"
   },
   {
    "duration": 8,
    "start_time": "2025-04-10T07:31:10.225Z"
   },
   {
    "duration": 4,
    "start_time": "2025-04-10T07:31:10.236Z"
   },
   {
    "duration": 17,
    "start_time": "2025-04-10T07:31:10.262Z"
   },
   {
    "duration": 3,
    "start_time": "2025-04-10T07:31:10.280Z"
   },
   {
    "duration": 263,
    "start_time": "2025-04-10T07:31:10.285Z"
   },
   {
    "duration": 56,
    "start_time": "2025-04-10T07:31:10.550Z"
   },
   {
    "duration": 468,
    "start_time": "2025-04-10T07:31:10.608Z"
   },
   {
    "duration": 412,
    "start_time": "2025-04-10T07:31:11.077Z"
   },
   {
    "duration": 327,
    "start_time": "2025-04-10T07:31:11.491Z"
   },
   {
    "duration": 306,
    "start_time": "2025-04-10T07:31:11.819Z"
   },
   {
    "duration": 295,
    "start_time": "2025-04-10T07:31:12.127Z"
   },
   {
    "duration": 299,
    "start_time": "2025-04-10T07:31:12.424Z"
   },
   {
    "duration": 304,
    "start_time": "2025-04-10T07:31:12.724Z"
   },
   {
    "duration": 308,
    "start_time": "2025-04-10T07:31:13.030Z"
   },
   {
    "duration": 290,
    "start_time": "2025-04-10T07:31:13.340Z"
   },
   {
    "duration": 320,
    "start_time": "2025-04-10T07:31:13.632Z"
   },
   {
    "duration": 332,
    "start_time": "2025-04-10T07:31:13.954Z"
   },
   {
    "duration": 16,
    "start_time": "2025-04-10T07:31:14.288Z"
   },
   {
    "duration": 21,
    "start_time": "2025-04-10T07:31:14.306Z"
   },
   {
    "duration": 297,
    "start_time": "2025-04-10T07:31:14.329Z"
   },
   {
    "duration": 8,
    "start_time": "2025-04-10T07:31:14.628Z"
   },
   {
    "duration": 7,
    "start_time": "2025-04-10T07:31:14.637Z"
   },
   {
    "duration": 360,
    "start_time": "2025-04-10T07:31:14.646Z"
   },
   {
    "duration": 336,
    "start_time": "2025-04-10T07:31:15.008Z"
   },
   {
    "duration": 159,
    "start_time": "2025-04-10T07:31:15.346Z"
   },
   {
    "duration": 161,
    "start_time": "2025-04-10T07:31:15.507Z"
   },
   {
    "duration": 47,
    "start_time": "2025-04-10T07:31:15.670Z"
   },
   {
    "duration": 332,
    "start_time": "2025-04-10T07:31:15.719Z"
   },
   {
    "duration": 371,
    "start_time": "2025-04-10T07:31:16.062Z"
   },
   {
    "duration": 393,
    "start_time": "2025-04-10T07:31:16.434Z"
   },
   {
    "duration": 302,
    "start_time": "2025-04-10T07:31:16.828Z"
   },
   {
    "duration": 298,
    "start_time": "2025-04-10T07:31:17.132Z"
   },
   {
    "duration": 293,
    "start_time": "2025-04-10T07:31:17.432Z"
   },
   {
    "duration": 294,
    "start_time": "2025-04-10T07:31:17.727Z"
   },
   {
    "duration": 301,
    "start_time": "2025-04-10T07:31:18.023Z"
   },
   {
    "duration": 298,
    "start_time": "2025-04-10T07:31:18.326Z"
   },
   {
    "duration": 294,
    "start_time": "2025-04-10T07:31:18.625Z"
   },
   {
    "duration": 19,
    "start_time": "2025-04-10T07:31:18.920Z"
   },
   {
    "duration": 316,
    "start_time": "2025-04-10T07:31:18.941Z"
   },
   {
    "duration": 1289,
    "start_time": "2025-04-10T07:31:19.263Z"
   },
   {
    "duration": 26,
    "start_time": "2025-04-10T07:31:20.554Z"
   },
   {
    "duration": 85,
    "start_time": "2025-04-10T07:31:20.581Z"
   },
   {
    "duration": 305,
    "start_time": "2025-04-10T07:37:07.512Z"
   },
   {
    "duration": 241,
    "start_time": "2025-04-10T07:37:20.804Z"
   },
   {
    "duration": 242,
    "start_time": "2025-04-10T07:37:36.342Z"
   },
   {
    "duration": 231,
    "start_time": "2025-04-10T07:37:41.471Z"
   },
   {
    "duration": 238,
    "start_time": "2025-04-10T07:40:19.448Z"
   },
   {
    "duration": 274,
    "start_time": "2025-04-10T07:40:37.163Z"
   },
   {
    "duration": 229,
    "start_time": "2025-04-10T07:40:44.090Z"
   },
   {
    "duration": 243,
    "start_time": "2025-04-10T07:40:56.581Z"
   },
   {
    "duration": 244,
    "start_time": "2025-04-10T07:41:20.363Z"
   },
   {
    "duration": 232,
    "start_time": "2025-04-10T07:41:57.815Z"
   },
   {
    "duration": 232,
    "start_time": "2025-04-10T07:43:15.416Z"
   },
   {
    "duration": 256,
    "start_time": "2025-04-10T07:43:28.387Z"
   },
   {
    "duration": 646,
    "start_time": "2025-04-10T07:43:37.478Z"
   },
   {
    "duration": 364,
    "start_time": "2025-04-10T07:43:38.126Z"
   },
   {
    "duration": 2000,
    "start_time": "2025-04-10T07:43:38.491Z"
   },
   {
    "duration": 11,
    "start_time": "2025-04-10T07:43:40.493Z"
   },
   {
    "duration": 33,
    "start_time": "2025-04-10T07:43:40.506Z"
   },
   {
    "duration": 228,
    "start_time": "2025-04-10T07:43:40.541Z"
   },
   {
    "duration": 124,
    "start_time": "2025-04-10T07:43:40.771Z"
   },
   {
    "duration": 9,
    "start_time": "2025-04-10T07:43:40.897Z"
   },
   {
    "duration": 19,
    "start_time": "2025-04-10T07:43:40.908Z"
   },
   {
    "duration": 669,
    "start_time": "2025-04-10T07:43:40.930Z"
   },
   {
    "duration": 4,
    "start_time": "2025-04-10T07:43:41.600Z"
   },
   {
    "duration": 59,
    "start_time": "2025-04-10T07:43:41.605Z"
   },
   {
    "duration": 13,
    "start_time": "2025-04-10T07:43:41.665Z"
   },
   {
    "duration": 7,
    "start_time": "2025-04-10T07:43:41.680Z"
   },
   {
    "duration": 19,
    "start_time": "2025-04-10T07:43:41.688Z"
   },
   {
    "duration": 3,
    "start_time": "2025-04-10T07:43:41.708Z"
   },
   {
    "duration": 1352,
    "start_time": "2025-04-10T07:43:41.762Z"
   },
   {
    "duration": 62,
    "start_time": "2025-04-10T07:43:43.116Z"
   },
   {
    "duration": 399,
    "start_time": "2025-04-10T07:43:43.180Z"
   },
   {
    "duration": 341,
    "start_time": "2025-04-10T07:43:43.581Z"
   },
   {
    "duration": 314,
    "start_time": "2025-04-10T07:43:43.924Z"
   },
   {
    "duration": 303,
    "start_time": "2025-04-10T07:43:44.240Z"
   },
   {
    "duration": 303,
    "start_time": "2025-04-10T07:43:44.545Z"
   },
   {
    "duration": 384,
    "start_time": "2025-04-10T07:43:44.850Z"
   },
   {
    "duration": 315,
    "start_time": "2025-04-10T07:43:45.235Z"
   },
   {
    "duration": 288,
    "start_time": "2025-04-10T07:43:45.551Z"
   },
   {
    "duration": 390,
    "start_time": "2025-04-10T07:43:45.841Z"
   },
   {
    "duration": 306,
    "start_time": "2025-04-10T07:43:46.235Z"
   },
   {
    "duration": 253,
    "start_time": "2025-04-10T07:43:46.542Z"
   },
   {
    "duration": 15,
    "start_time": "2025-04-10T07:43:46.796Z"
   },
   {
    "duration": 26,
    "start_time": "2025-04-10T07:43:46.812Z"
   },
   {
    "duration": 448,
    "start_time": "2025-04-10T07:43:46.839Z"
   },
   {
    "duration": 11,
    "start_time": "2025-04-10T07:43:47.290Z"
   },
   {
    "duration": 23,
    "start_time": "2025-04-10T07:43:47.304Z"
   },
   {
    "duration": 336,
    "start_time": "2025-04-10T07:43:47.329Z"
   },
   {
    "duration": 321,
    "start_time": "2025-04-10T07:43:47.667Z"
   },
   {
    "duration": 154,
    "start_time": "2025-04-10T07:43:47.989Z"
   },
   {
    "duration": 154,
    "start_time": "2025-04-10T07:43:48.145Z"
   },
   {
    "duration": 48,
    "start_time": "2025-04-10T07:43:48.301Z"
   },
   {
    "duration": 386,
    "start_time": "2025-04-10T07:43:48.350Z"
   },
   {
    "duration": 350,
    "start_time": "2025-04-10T07:43:48.738Z"
   },
   {
    "duration": 335,
    "start_time": "2025-04-10T07:43:49.090Z"
   },
   {
    "duration": 316,
    "start_time": "2025-04-10T07:43:49.427Z"
   },
   {
    "duration": 300,
    "start_time": "2025-04-10T07:43:49.744Z"
   },
   {
    "duration": 299,
    "start_time": "2025-04-10T07:43:50.046Z"
   },
   {
    "duration": 306,
    "start_time": "2025-04-10T07:43:50.347Z"
   },
   {
    "duration": 302,
    "start_time": "2025-04-10T07:43:50.662Z"
   },
   {
    "duration": 301,
    "start_time": "2025-04-10T07:43:50.966Z"
   },
   {
    "duration": 305,
    "start_time": "2025-04-10T07:43:51.269Z"
   },
   {
    "duration": 21,
    "start_time": "2025-04-10T07:43:51.575Z"
   },
   {
    "duration": 391,
    "start_time": "2025-04-10T07:43:51.597Z"
   },
   {
    "duration": 1287,
    "start_time": "2025-04-10T07:43:51.989Z"
   },
   {
    "duration": 21,
    "start_time": "2025-04-10T07:43:53.278Z"
   },
   {
    "duration": 92,
    "start_time": "2025-04-10T07:43:53.301Z"
   },
   {
    "duration": 664,
    "start_time": "2025-04-10T07:45:44.102Z"
   },
   {
    "duration": 642,
    "start_time": "2025-04-10T07:46:43.197Z"
   },
   {
    "duration": 8,
    "start_time": "2025-04-10T07:51:25.964Z"
   },
   {
    "duration": 311,
    "start_time": "2025-04-10T07:52:03.439Z"
   },
   {
    "duration": 163,
    "start_time": "2025-04-10T07:52:22.967Z"
   },
   {
    "duration": 13,
    "start_time": "2025-04-10T07:53:21.297Z"
   },
   {
    "duration": 106,
    "start_time": "2025-04-10T07:53:22.667Z"
   },
   {
    "duration": 15,
    "start_time": "2025-04-10T07:54:11.968Z"
   },
   {
    "duration": 102,
    "start_time": "2025-04-10T07:54:12.800Z"
   },
   {
    "duration": 527,
    "start_time": "2025-04-10T07:54:33.221Z"
   },
   {
    "duration": 106,
    "start_time": "2025-04-10T07:55:08.541Z"
   },
   {
    "duration": 100,
    "start_time": "2025-04-10T07:55:25.809Z"
   },
   {
    "duration": 120,
    "start_time": "2025-04-10T07:55:40.690Z"
   },
   {
    "duration": 5,
    "start_time": "2025-04-10T07:55:56.604Z"
   },
   {
    "duration": 19,
    "start_time": "2025-04-10T07:56:11.468Z"
   },
   {
    "duration": 6,
    "start_time": "2025-04-10T07:56:12.104Z"
   },
   {
    "duration": 108,
    "start_time": "2025-04-10T07:56:12.930Z"
   },
   {
    "duration": 102,
    "start_time": "2025-04-10T07:56:13.750Z"
   },
   {
    "duration": 194,
    "start_time": "2025-04-10T07:56:15.213Z"
   },
   {
    "duration": 5,
    "start_time": "2025-04-10T07:56:16.867Z"
   },
   {
    "duration": 16,
    "start_time": "2025-04-10T07:56:34.653Z"
   },
   {
    "duration": 27,
    "start_time": "2025-04-10T08:02:52.690Z"
   },
   {
    "duration": 704,
    "start_time": "2025-04-10T10:22:07.445Z"
   },
   {
    "duration": 376,
    "start_time": "2025-04-10T10:22:08.151Z"
   },
   {
    "duration": 2337,
    "start_time": "2025-04-10T10:22:08.528Z"
   },
   {
    "duration": 12,
    "start_time": "2025-04-10T10:22:10.868Z"
   },
   {
    "duration": 30,
    "start_time": "2025-04-10T10:22:10.882Z"
   },
   {
    "duration": 277,
    "start_time": "2025-04-10T10:22:10.914Z"
   },
   {
    "duration": 159,
    "start_time": "2025-04-10T10:22:11.193Z"
   },
   {
    "duration": 10,
    "start_time": "2025-04-10T10:22:11.354Z"
   },
   {
    "duration": 32,
    "start_time": "2025-04-10T10:22:11.366Z"
   },
   {
    "duration": 677,
    "start_time": "2025-04-10T10:22:11.401Z"
   },
   {
    "duration": 4,
    "start_time": "2025-04-10T10:22:12.080Z"
   },
   {
    "duration": 7,
    "start_time": "2025-04-10T10:22:12.086Z"
   },
   {
    "duration": 6,
    "start_time": "2025-04-10T10:22:12.105Z"
   },
   {
    "duration": 6,
    "start_time": "2025-04-10T10:22:12.112Z"
   },
   {
    "duration": 29,
    "start_time": "2025-04-10T10:22:12.119Z"
   },
   {
    "duration": 96,
    "start_time": "2025-04-10T10:22:12.150Z"
   },
   {
    "duration": 826,
    "start_time": "2025-04-10T10:22:12.248Z"
   },
   {
    "duration": 62,
    "start_time": "2025-04-10T10:22:13.076Z"
   },
   {
    "duration": 447,
    "start_time": "2025-04-10T10:22:13.139Z"
   },
   {
    "duration": 368,
    "start_time": "2025-04-10T10:22:13.587Z"
   },
   {
    "duration": 360,
    "start_time": "2025-04-10T10:22:13.956Z"
   },
   {
    "duration": 391,
    "start_time": "2025-04-10T10:22:14.319Z"
   },
   {
    "duration": 350,
    "start_time": "2025-04-10T10:22:14.714Z"
   },
   {
    "duration": 352,
    "start_time": "2025-04-10T10:22:15.065Z"
   },
   {
    "duration": 350,
    "start_time": "2025-04-10T10:22:15.420Z"
   },
   {
    "duration": 367,
    "start_time": "2025-04-10T10:22:15.772Z"
   },
   {
    "duration": 456,
    "start_time": "2025-04-10T10:22:16.142Z"
   },
   {
    "duration": 383,
    "start_time": "2025-04-10T10:22:16.608Z"
   },
   {
    "duration": 265,
    "start_time": "2025-04-10T10:22:16.994Z"
   },
   {
    "duration": 17,
    "start_time": "2025-04-10T10:22:17.261Z"
   },
   {
    "duration": 55,
    "start_time": "2025-04-10T10:22:17.280Z"
   },
   {
    "duration": 325,
    "start_time": "2025-04-10T10:22:17.337Z"
   },
   {
    "duration": 9,
    "start_time": "2025-04-10T10:22:17.664Z"
   },
   {
    "duration": 64,
    "start_time": "2025-04-10T10:22:17.675Z"
   },
   {
    "duration": 335,
    "start_time": "2025-04-10T10:22:17.741Z"
   },
   {
    "duration": 389,
    "start_time": "2025-04-10T10:22:18.078Z"
   },
   {
    "duration": 190,
    "start_time": "2025-04-10T10:22:18.469Z"
   },
   {
    "duration": 193,
    "start_time": "2025-04-10T10:22:18.661Z"
   },
   {
    "duration": 69,
    "start_time": "2025-04-10T10:22:18.857Z"
   },
   {
    "duration": 441,
    "start_time": "2025-04-10T10:22:18.928Z"
   },
   {
    "duration": 416,
    "start_time": "2025-04-10T10:22:19.371Z"
   },
   {
    "duration": 362,
    "start_time": "2025-04-10T10:22:19.789Z"
   },
   {
    "duration": 377,
    "start_time": "2025-04-10T10:22:20.152Z"
   },
   {
    "duration": 336,
    "start_time": "2025-04-10T10:22:20.530Z"
   },
   {
    "duration": 352,
    "start_time": "2025-04-10T10:22:20.868Z"
   },
   {
    "duration": 337,
    "start_time": "2025-04-10T10:22:21.222Z"
   },
   {
    "duration": 359,
    "start_time": "2025-04-10T10:22:21.561Z"
   },
   {
    "duration": 325,
    "start_time": "2025-04-10T10:22:21.923Z"
   },
   {
    "duration": 95,
    "start_time": "2025-04-10T10:22:22.250Z"
   },
   {
    "duration": 0,
    "start_time": "2025-04-10T10:22:22.347Z"
   },
   {
    "duration": 0,
    "start_time": "2025-04-10T10:22:22.348Z"
   },
   {
    "duration": 0,
    "start_time": "2025-04-10T10:22:22.349Z"
   },
   {
    "duration": 0,
    "start_time": "2025-04-10T10:22:22.350Z"
   },
   {
    "duration": 0,
    "start_time": "2025-04-10T10:22:22.352Z"
   },
   {
    "duration": 0,
    "start_time": "2025-04-10T10:22:22.353Z"
   },
   {
    "duration": 0,
    "start_time": "2025-04-10T10:22:22.354Z"
   },
   {
    "duration": 0,
    "start_time": "2025-04-10T10:22:22.355Z"
   },
   {
    "duration": 0,
    "start_time": "2025-04-10T10:22:22.356Z"
   },
   {
    "duration": 0,
    "start_time": "2025-04-10T10:22:22.358Z"
   },
   {
    "duration": 0,
    "start_time": "2025-04-10T10:22:22.359Z"
   },
   {
    "duration": 18,
    "start_time": "2025-04-10T10:24:22.851Z"
   },
   {
    "duration": 6,
    "start_time": "2025-04-10T10:24:24.683Z"
   },
   {
    "duration": 199,
    "start_time": "2025-04-10T10:24:26.123Z"
   },
   {
    "duration": 111,
    "start_time": "2025-04-10T10:24:32.074Z"
   },
   {
    "duration": 129,
    "start_time": "2025-04-10T10:24:37.842Z"
   },
   {
    "duration": 6,
    "start_time": "2025-04-10T10:24:38.971Z"
   },
   {
    "duration": 353,
    "start_time": "2025-04-10T10:24:39.763Z"
   },
   {
    "duration": 24,
    "start_time": "2025-04-10T10:26:34.591Z"
   },
   {
    "duration": 398,
    "start_time": "2025-04-10T10:26:34.839Z"
   },
   {
    "duration": 734,
    "start_time": "2025-04-10T10:26:44.794Z"
   },
   {
    "duration": 415,
    "start_time": "2025-04-10T10:26:45.530Z"
   },
   {
    "duration": 2378,
    "start_time": "2025-04-10T10:26:45.947Z"
   },
   {
    "duration": 11,
    "start_time": "2025-04-10T10:26:48.327Z"
   },
   {
    "duration": 22,
    "start_time": "2025-04-10T10:26:48.339Z"
   },
   {
    "duration": 382,
    "start_time": "2025-04-10T10:26:48.363Z"
   },
   {
    "duration": 143,
    "start_time": "2025-04-10T10:26:48.747Z"
   },
   {
    "duration": 16,
    "start_time": "2025-04-10T10:26:48.892Z"
   },
   {
    "duration": 15,
    "start_time": "2025-04-10T10:26:48.911Z"
   },
   {
    "duration": 753,
    "start_time": "2025-04-10T10:26:48.929Z"
   },
   {
    "duration": 4,
    "start_time": "2025-04-10T10:26:49.683Z"
   },
   {
    "duration": 152,
    "start_time": "2025-04-10T10:26:49.689Z"
   },
   {
    "duration": 59,
    "start_time": "2025-04-10T10:26:49.843Z"
   },
   {
    "duration": 40,
    "start_time": "2025-04-10T10:26:49.903Z"
   },
   {
    "duration": 48,
    "start_time": "2025-04-10T10:26:49.944Z"
   },
   {
    "duration": 26,
    "start_time": "2025-04-10T10:26:49.994Z"
   },
   {
    "duration": 832,
    "start_time": "2025-04-10T10:26:50.022Z"
   },
   {
    "duration": 74,
    "start_time": "2025-04-10T10:26:50.856Z"
   },
   {
    "duration": 462,
    "start_time": "2025-04-10T10:26:50.932Z"
   },
   {
    "duration": 366,
    "start_time": "2025-04-10T10:26:51.395Z"
   },
   {
    "duration": 332,
    "start_time": "2025-04-10T10:26:51.763Z"
   },
   {
    "duration": 351,
    "start_time": "2025-04-10T10:26:52.096Z"
   },
   {
    "duration": 339,
    "start_time": "2025-04-10T10:26:52.449Z"
   },
   {
    "duration": 339,
    "start_time": "2025-04-10T10:26:52.790Z"
   },
   {
    "duration": 356,
    "start_time": "2025-04-10T10:26:53.131Z"
   },
   {
    "duration": 334,
    "start_time": "2025-04-10T10:26:53.488Z"
   },
   {
    "duration": 439,
    "start_time": "2025-04-10T10:26:53.824Z"
   },
   {
    "duration": 354,
    "start_time": "2025-04-10T10:26:54.268Z"
   },
   {
    "duration": 294,
    "start_time": "2025-04-10T10:26:54.625Z"
   },
   {
    "duration": 19,
    "start_time": "2025-04-10T10:26:54.921Z"
   },
   {
    "duration": 24,
    "start_time": "2025-04-10T10:26:54.942Z"
   },
   {
    "duration": 444,
    "start_time": "2025-04-10T10:26:54.968Z"
   },
   {
    "duration": 11,
    "start_time": "2025-04-10T10:26:55.415Z"
   },
   {
    "duration": 5,
    "start_time": "2025-04-10T10:26:55.428Z"
   },
   {
    "duration": 358,
    "start_time": "2025-04-10T10:26:55.434Z"
   },
   {
    "duration": 394,
    "start_time": "2025-04-10T10:26:55.794Z"
   },
   {
    "duration": 183,
    "start_time": "2025-04-10T10:26:56.189Z"
   },
   {
    "duration": 175,
    "start_time": "2025-04-10T10:26:56.374Z"
   },
   {
    "duration": 72,
    "start_time": "2025-04-10T10:26:56.551Z"
   },
   {
    "duration": 436,
    "start_time": "2025-04-10T10:26:56.625Z"
   },
   {
    "duration": 390,
    "start_time": "2025-04-10T10:26:57.062Z"
   },
   {
    "duration": 380,
    "start_time": "2025-04-10T10:26:57.453Z"
   },
   {
    "duration": 387,
    "start_time": "2025-04-10T10:26:57.835Z"
   },
   {
    "duration": 336,
    "start_time": "2025-04-10T10:26:58.224Z"
   },
   {
    "duration": 351,
    "start_time": "2025-04-10T10:26:58.562Z"
   },
   {
    "duration": 315,
    "start_time": "2025-04-10T10:26:58.915Z"
   },
   {
    "duration": 382,
    "start_time": "2025-04-10T10:26:59.232Z"
   },
   {
    "duration": 325,
    "start_time": "2025-04-10T10:26:59.618Z"
   },
   {
    "duration": 15,
    "start_time": "2025-04-10T10:26:59.945Z"
   },
   {
    "duration": 20,
    "start_time": "2025-04-10T10:26:59.962Z"
   },
   {
    "duration": 215,
    "start_time": "2025-04-10T10:26:59.983Z"
   },
   {
    "duration": 155,
    "start_time": "2025-04-10T10:27:00.199Z"
   },
   {
    "duration": 268,
    "start_time": "2025-04-10T10:27:00.356Z"
   },
   {
    "duration": 5,
    "start_time": "2025-04-10T10:27:00.626Z"
   },
   {
    "duration": 392,
    "start_time": "2025-04-10T10:27:00.633Z"
   },
   {
    "duration": 20,
    "start_time": "2025-04-10T10:27:01.027Z"
   },
   {
    "duration": 380,
    "start_time": "2025-04-10T10:27:01.048Z"
   },
   {
    "duration": 1525,
    "start_time": "2025-04-10T10:27:01.430Z"
   },
   {
    "duration": 22,
    "start_time": "2025-04-10T10:27:02.957Z"
   },
   {
    "duration": 59,
    "start_time": "2025-04-10T10:27:02.981Z"
   },
   {
    "duration": 110,
    "start_time": "2025-04-10T10:27:58.320Z"
   },
   {
    "duration": 23,
    "start_time": "2025-04-10T10:28:13.672Z"
   },
   {
    "duration": 41,
    "start_time": "2025-04-10T10:28:44.800Z"
   },
   {
    "duration": 223,
    "start_time": "2025-04-10T10:28:48.249Z"
   },
   {
    "duration": 223,
    "start_time": "2025-04-10T10:28:57.850Z"
   },
   {
    "duration": 230,
    "start_time": "2025-04-10T10:29:08.210Z"
   },
   {
    "duration": 1183,
    "start_time": "2025-04-10T10:31:08.630Z"
   },
   {
    "duration": 128,
    "start_time": "2025-04-10T10:31:20.760Z"
   },
   {
    "duration": 1230,
    "start_time": "2025-04-10T10:31:37.015Z"
   },
   {
    "duration": 237,
    "start_time": "2025-04-10T10:32:08.183Z"
   },
   {
    "duration": 20,
    "start_time": "2025-04-10T10:34:10.163Z"
   },
   {
    "duration": 495,
    "start_time": "2025-04-10T10:35:35.142Z"
   },
   {
    "duration": 43,
    "start_time": "2025-04-10T10:35:35.639Z"
   },
   {
    "duration": 10770,
    "start_time": "2025-04-10T10:35:38.856Z"
   },
   {
    "duration": 263,
    "start_time": "2025-04-10T10:35:50.304Z"
   },
   {
    "duration": 727,
    "start_time": "2025-04-10T10:36:16.047Z"
   },
   {
    "duration": 261,
    "start_time": "2025-04-10T10:36:16.776Z"
   },
   {
    "duration": 2351,
    "start_time": "2025-04-10T10:36:17.038Z"
   },
   {
    "duration": 24,
    "start_time": "2025-04-10T10:36:19.392Z"
   },
   {
    "duration": 5,
    "start_time": "2025-04-10T10:36:19.419Z"
   },
   {
    "duration": 287,
    "start_time": "2025-04-10T10:36:19.426Z"
   },
   {
    "duration": 156,
    "start_time": "2025-04-10T10:36:19.715Z"
   },
   {
    "duration": 10,
    "start_time": "2025-04-10T10:36:19.873Z"
   },
   {
    "duration": 22,
    "start_time": "2025-04-10T10:36:19.885Z"
   },
   {
    "duration": 710,
    "start_time": "2025-04-10T10:36:19.910Z"
   },
   {
    "duration": 5,
    "start_time": "2025-04-10T10:36:20.623Z"
   },
   {
    "duration": 32,
    "start_time": "2025-04-10T10:36:20.630Z"
   },
   {
    "duration": 12,
    "start_time": "2025-04-10T10:36:20.664Z"
   },
   {
    "duration": 8,
    "start_time": "2025-04-10T10:36:20.677Z"
   },
   {
    "duration": 22,
    "start_time": "2025-04-10T10:36:20.687Z"
   },
   {
    "duration": 11,
    "start_time": "2025-04-10T10:36:20.712Z"
   },
   {
    "duration": 870,
    "start_time": "2025-04-10T10:36:20.726Z"
   },
   {
    "duration": 67,
    "start_time": "2025-04-10T10:36:21.598Z"
   },
   {
    "duration": 473,
    "start_time": "2025-04-10T10:36:21.667Z"
   },
   {
    "duration": 385,
    "start_time": "2025-04-10T10:36:22.142Z"
   },
   {
    "duration": 349,
    "start_time": "2025-04-10T10:36:22.529Z"
   },
   {
    "duration": 340,
    "start_time": "2025-04-10T10:36:22.880Z"
   },
   {
    "duration": 385,
    "start_time": "2025-04-10T10:36:23.223Z"
   },
   {
    "duration": 402,
    "start_time": "2025-04-10T10:36:23.610Z"
   },
   {
    "duration": 384,
    "start_time": "2025-04-10T10:36:24.016Z"
   },
   {
    "duration": 391,
    "start_time": "2025-04-10T10:36:24.408Z"
   },
   {
    "duration": 450,
    "start_time": "2025-04-10T10:36:24.818Z"
   },
   {
    "duration": 326,
    "start_time": "2025-04-10T10:36:25.272Z"
   },
   {
    "duration": 262,
    "start_time": "2025-04-10T10:36:25.605Z"
   },
   {
    "duration": 18,
    "start_time": "2025-04-10T10:36:25.870Z"
   },
   {
    "duration": 55,
    "start_time": "2025-04-10T10:36:25.890Z"
   },
   {
    "duration": 205,
    "start_time": "2025-04-10T10:36:25.947Z"
   },
   {
    "duration": 9,
    "start_time": "2025-04-10T10:36:26.154Z"
   },
   {
    "duration": 21,
    "start_time": "2025-04-10T10:36:26.165Z"
   },
   {
    "duration": 374,
    "start_time": "2025-04-10T10:36:26.188Z"
   },
   {
    "duration": 377,
    "start_time": "2025-04-10T10:36:26.564Z"
   },
   {
    "duration": 188,
    "start_time": "2025-04-10T10:36:26.943Z"
   },
   {
    "duration": 197,
    "start_time": "2025-04-10T10:36:27.133Z"
   },
   {
    "duration": 51,
    "start_time": "2025-04-10T10:36:27.332Z"
   },
   {
    "duration": 458,
    "start_time": "2025-04-10T10:36:27.385Z"
   },
   {
    "duration": 391,
    "start_time": "2025-04-10T10:36:27.846Z"
   },
   {
    "duration": 384,
    "start_time": "2025-04-10T10:36:28.239Z"
   },
   {
    "duration": 342,
    "start_time": "2025-04-10T10:36:28.625Z"
   },
   {
    "duration": 369,
    "start_time": "2025-04-10T10:36:28.969Z"
   },
   {
    "duration": 402,
    "start_time": "2025-04-10T10:36:29.340Z"
   },
   {
    "duration": 409,
    "start_time": "2025-04-10T10:36:29.744Z"
   },
   {
    "duration": 384,
    "start_time": "2025-04-10T10:36:30.155Z"
   },
   {
    "duration": 368,
    "start_time": "2025-04-10T10:36:30.542Z"
   },
   {
    "duration": 23,
    "start_time": "2025-04-10T10:36:30.914Z"
   },
   {
    "duration": 19,
    "start_time": "2025-04-10T10:36:30.939Z"
   },
   {
    "duration": 207,
    "start_time": "2025-04-10T10:36:30.961Z"
   },
   {
    "duration": 130,
    "start_time": "2025-04-10T10:36:31.170Z"
   },
   {
    "duration": 154,
    "start_time": "2025-04-10T10:36:31.305Z"
   },
   {
    "duration": 6,
    "start_time": "2025-04-10T10:36:31.461Z"
   },
   {
    "duration": 400,
    "start_time": "2025-04-10T10:36:31.468Z"
   },
   {
    "duration": 21,
    "start_time": "2025-04-10T10:36:31.870Z"
   },
   {
    "duration": 376,
    "start_time": "2025-04-10T10:36:31.906Z"
   },
   {
    "duration": 1500,
    "start_time": "2025-04-10T10:36:32.284Z"
   },
   {
    "duration": 34,
    "start_time": "2025-04-10T10:36:33.786Z"
   },
   {
    "duration": 137,
    "start_time": "2025-04-10T10:36:33.822Z"
   },
   {
    "duration": 237,
    "start_time": "2025-04-10T10:36:33.961Z"
   },
   {
    "duration": 619,
    "start_time": "2025-04-10T10:36:34.200Z"
   },
   {
    "duration": 10323,
    "start_time": "2025-04-10T10:36:34.823Z"
   },
   {
    "duration": 520,
    "start_time": "2025-04-10T10:36:45.148Z"
   },
   {
    "duration": 727,
    "start_time": "2025-04-10T10:36:45.670Z"
   },
   {
    "duration": 29,
    "start_time": "2025-04-10T10:36:46.399Z"
   },
   {
    "duration": 768,
    "start_time": "2025-04-10T10:40:34.851Z"
   },
   {
    "duration": 270,
    "start_time": "2025-04-10T10:40:35.622Z"
   },
   {
    "duration": 2595,
    "start_time": "2025-04-10T10:40:35.894Z"
   },
   {
    "duration": 15,
    "start_time": "2025-04-10T10:40:38.491Z"
   },
   {
    "duration": 36,
    "start_time": "2025-04-10T10:40:38.512Z"
   },
   {
    "duration": 293,
    "start_time": "2025-04-10T10:40:38.550Z"
   },
   {
    "duration": 179,
    "start_time": "2025-04-10T10:40:38.845Z"
   },
   {
    "duration": 18,
    "start_time": "2025-04-10T10:40:39.030Z"
   },
   {
    "duration": 3,
    "start_time": "2025-04-10T10:40:39.050Z"
   },
   {
    "duration": 796,
    "start_time": "2025-04-10T10:40:39.055Z"
   },
   {
    "duration": 4,
    "start_time": "2025-04-10T10:40:39.853Z"
   },
   {
    "duration": 45,
    "start_time": "2025-04-10T10:40:39.858Z"
   },
   {
    "duration": 23,
    "start_time": "2025-04-10T10:40:39.904Z"
   },
   {
    "duration": 7,
    "start_time": "2025-04-10T10:40:39.932Z"
   },
   {
    "duration": 28,
    "start_time": "2025-04-10T10:40:39.940Z"
   },
   {
    "duration": 4,
    "start_time": "2025-04-10T10:40:39.970Z"
   },
   {
    "duration": 942,
    "start_time": "2025-04-10T10:40:39.975Z"
   },
   {
    "duration": 67,
    "start_time": "2025-04-10T10:40:40.920Z"
   },
   {
    "duration": 489,
    "start_time": "2025-04-10T10:40:40.989Z"
   },
   {
    "duration": 368,
    "start_time": "2025-04-10T10:40:41.480Z"
   },
   {
    "duration": 349,
    "start_time": "2025-04-10T10:40:41.850Z"
   },
   {
    "duration": 350,
    "start_time": "2025-04-10T10:40:42.205Z"
   },
   {
    "duration": 348,
    "start_time": "2025-04-10T10:40:42.557Z"
   },
   {
    "duration": 389,
    "start_time": "2025-04-10T10:40:42.907Z"
   },
   {
    "duration": 338,
    "start_time": "2025-04-10T10:40:43.299Z"
   },
   {
    "duration": 379,
    "start_time": "2025-04-10T10:40:43.639Z"
   },
   {
    "duration": 481,
    "start_time": "2025-04-10T10:40:44.021Z"
   },
   {
    "duration": 344,
    "start_time": "2025-04-10T10:40:44.504Z"
   },
   {
    "duration": 321,
    "start_time": "2025-04-10T10:40:44.850Z"
   },
   {
    "duration": 42,
    "start_time": "2025-04-10T10:40:45.173Z"
   },
   {
    "duration": 49,
    "start_time": "2025-04-10T10:40:45.217Z"
   },
   {
    "duration": 183,
    "start_time": "2025-04-10T10:40:45.267Z"
   },
   {
    "duration": 8,
    "start_time": "2025-04-10T10:40:45.452Z"
   },
   {
    "duration": 7,
    "start_time": "2025-04-10T10:40:45.462Z"
   },
   {
    "duration": 414,
    "start_time": "2025-04-10T10:40:45.471Z"
   },
   {
    "duration": 453,
    "start_time": "2025-04-10T10:40:45.887Z"
   },
   {
    "duration": 200,
    "start_time": "2025-04-10T10:40:46.343Z"
   },
   {
    "duration": 215,
    "start_time": "2025-04-10T10:40:46.545Z"
   },
   {
    "duration": 95,
    "start_time": "2025-04-10T10:40:46.762Z"
   },
   {
    "duration": 504,
    "start_time": "2025-04-10T10:40:46.859Z"
   },
   {
    "duration": 403,
    "start_time": "2025-04-10T10:40:47.368Z"
   },
   {
    "duration": 393,
    "start_time": "2025-04-10T10:40:47.773Z"
   },
   {
    "duration": 377,
    "start_time": "2025-04-10T10:40:48.167Z"
   },
   {
    "duration": 396,
    "start_time": "2025-04-10T10:40:48.546Z"
   },
   {
    "duration": 365,
    "start_time": "2025-04-10T10:40:48.944Z"
   },
   {
    "duration": 351,
    "start_time": "2025-04-10T10:40:49.315Z"
   },
   {
    "duration": 378,
    "start_time": "2025-04-10T10:40:49.668Z"
   },
   {
    "duration": 413,
    "start_time": "2025-04-10T10:40:50.048Z"
   },
   {
    "duration": 17,
    "start_time": "2025-04-10T10:40:50.463Z"
   },
   {
    "duration": 76,
    "start_time": "2025-04-10T10:40:50.482Z"
   },
   {
    "duration": 226,
    "start_time": "2025-04-10T10:40:50.560Z"
   },
   {
    "duration": 153,
    "start_time": "2025-04-10T10:40:50.787Z"
   },
   {
    "duration": 148,
    "start_time": "2025-04-10T10:40:50.942Z"
   },
   {
    "duration": 5,
    "start_time": "2025-04-10T10:40:51.092Z"
   },
   {
    "duration": 358,
    "start_time": "2025-04-10T10:40:51.110Z"
   },
   {
    "duration": 20,
    "start_time": "2025-04-10T10:40:51.470Z"
   },
   {
    "duration": 451,
    "start_time": "2025-04-10T10:40:51.491Z"
   },
   {
    "duration": 1577,
    "start_time": "2025-04-10T10:40:51.943Z"
   },
   {
    "duration": 27,
    "start_time": "2025-04-10T10:40:53.528Z"
   },
   {
    "duration": 30,
    "start_time": "2025-04-10T10:40:53.557Z"
   },
   {
    "duration": 276,
    "start_time": "2025-04-10T10:40:53.605Z"
   },
   {
    "duration": 645,
    "start_time": "2025-04-10T10:40:53.884Z"
   },
   {
    "duration": 11226,
    "start_time": "2025-04-10T10:40:54.533Z"
   },
   {
    "duration": 603,
    "start_time": "2025-04-10T10:41:05.761Z"
   },
   {
    "duration": 279,
    "start_time": "2025-04-10T10:41:06.366Z"
   },
   {
    "duration": 19,
    "start_time": "2025-04-10T10:41:06.649Z"
   }
  ],
  "colab": {
   "provenance": []
  },
  "kernelspec": {
   "display_name": "Python 3 (ipykernel)",
   "language": "python",
   "name": "python3"
  },
  "language_info": {
   "codemirror_mode": {
    "name": "ipython",
    "version": 3
   },
   "file_extension": ".py",
   "mimetype": "text/x-python",
   "name": "python",
   "nbconvert_exporter": "python",
   "pygments_lexer": "ipython3",
   "version": "3.9.5"
  },
  "toc": {
   "base_numbering": 1,
   "nav_menu": {},
   "number_sections": true,
   "sideBar": true,
   "skip_h1_title": true,
   "title_cell": "Table of Contents",
   "title_sidebar": "Contents",
   "toc_cell": false,
   "toc_position": {
    "height": "calc(100% - 180px)",
    "left": "10px",
    "top": "150px",
    "width": "261.4px"
   },
   "toc_section_display": true,
   "toc_window_display": true
  }
 },
 "nbformat": 4,
 "nbformat_minor": 1
}
